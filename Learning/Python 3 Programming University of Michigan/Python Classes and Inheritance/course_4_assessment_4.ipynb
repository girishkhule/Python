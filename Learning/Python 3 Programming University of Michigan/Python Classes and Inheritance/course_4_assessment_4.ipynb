{
 "cells": [
  {
   "cell_type": "code",
   "execution_count": null,
   "metadata": {},
   "outputs": [],
   "source": [
    "gold = {\"US\":46, \"Fiji\":1, \"Great Britain\":27, \"Cuba\":5, \"Thailand\":2, \"China\":26, \"France\":10}\n",
    "country = [\"Fiji\", \"Chile\", \"Mexico\", \"France\", \"Norway\", \"US\"]\n",
    "country_gold = []\n",
    "\n",
    "for x in country:\n",
    "    try:\n",
    "        country_gold.append(gold[x])\n",
    "    except Exception as e:\n",
    "        country_gold.append(\"Did not get gold\")\n",
    "        \n",
    "print(country_gold)"
   ]
  },
  {
   "cell_type": "code",
   "execution_count": null,
   "metadata": {},
   "outputs": [],
   "source": [
    "di = [{\"Puppies\": 17, 'Kittens': 9, \"Birds\": 23, 'Fish': 90, \"Hamsters\": 49}, {\"Puppies\": 23, \"Birds\": 29, \"Fish\": 20, \"Mice\": 20, \"Snakes\": 7}, \n",
    "      {\"Fish\": 203, \"Hamsters\": 93, \"Snakes\": 25, \"Kittens\": 89}, {\"Birds\": 20, \"Puppies\": 90, \"Snakes\": 21, \"Fish\": 10, \"Kittens\": 67}]\n",
    "total = 0\n",
    "for diction in di:\n",
    "    try:\n",
    "        total = total + diction['Puppies']\n",
    "    except Exception as e:\n",
    "        print(\"Error\")\n",
    "print(\"Total number of puppies:\", total)"
   ]
  },
  {
   "cell_type": "code",
   "execution_count": null,
   "metadata": {},
   "outputs": [],
   "source": [
    "numb = [6, 0, 36, 8, 2, 36, 0, 12, 60, 0, 45, 0, 3, 23]\n",
    "remainder = []\n",
    "for num in numb:\n",
    "    try:\n",
    "        rem=36%num\n",
    "        remainder.append(rem)\n",
    "    except Exception as e:\n",
    "        remainder.append(\"Error\")\n",
    "        print('Error')\n",
    "print(remainder)"
   ]
  },
  {
   "cell_type": "code",
   "execution_count": null,
   "metadata": {},
   "outputs": [],
   "source": [
    "lst = [2,4,10,42,12,0,4,7,21,4,83,8,5,6,8,234,5,6,523,42,34,0,234,1,435,465,56,7,3,43,23]\n",
    "lst_three = []\n",
    "for num in lst:\n",
    "    try:\n",
    "        if 3 % num == 0:\n",
    "            lst_three.append(num)\n",
    "    except ZeroDivisionError:\n",
    "        print(\"Error\")\n",
    "print(lst_three)"
   ]
  },
  {
   "cell_type": "code",
   "execution_count": null,
   "metadata": {},
   "outputs": [],
   "source": [
    "full_lst = [\"ab\", 'cde', 'fgh', 'i', 'jkml', 'nop', 'qr', 's', 'tv', 'wxy', 'z']\n",
    "attempt = []\n",
    "for elem in full_lst:\n",
    "    try:\n",
    "        attempt.append(elem[1])\n",
    "    except Exception as e:\n",
    "        attempt.append(\"Error\")\n",
    "        print('error')\n",
    "print(attempt)"
   ]
  },
  {
   "cell_type": "code",
   "execution_count": null,
   "metadata": {},
   "outputs": [],
   "source": [
    "conts = [['Spain', 'France', 'Greece', 'Portugal', 'Romania', 'Germany'], ['USA', 'Mexico', 'Canada'], ['Japan', 'China', 'Korea', 'Vietnam', 'Cambodia'], \n",
    "         ['Argentina', 'Chile', 'Brazil', 'Ecuador', 'Uruguay', 'Venezuela'], ['Australia'], ['Zimbabwe', 'Morocco', 'Kenya', 'Ethiopa', 'South Africa'], ['Antarctica']]\n",
    "third_countries = []\n",
    "for c in conts:\n",
    "    try:\n",
    "        third_countries.append(c[2])\n",
    "    except Exception as e:\n",
    "        third_countries.append(\"Continent does not have 3 countries\")\n",
    "        print('error')\n",
    "print(third_countries)"
   ]
  },
  {
   "cell_type": "code",
   "execution_count": null,
   "metadata": {},
   "outputs": [],
   "source": [
    "sport = [\"hockey\", \"basketball\", \"soccer\", \"tennis\", \"football\", \"baseball\"]\n",
    "ppl_play = {\"hockey\":4, \"soccer\": 10, \"football\": 15, \"tennis\": 8}\n",
    "for x in sport:\n",
    "    try:\n",
    "        print(ppl_play[x])\n",
    "    except Exception as e:\n",
    "        ppl_play[x]=1\n",
    "        print('error')\n",
    "print(ppl_play)"
   ]
  },
  {
   "cell_type": "code",
   "execution_count": null,
   "metadata": {},
   "outputs": [],
   "source": [
    "di = [{\"Puppies\": 17, 'Kittens': 9, \"Birds\": 23, 'Fish': 90, \"Hamsters\": 49}, {\"Puppies\": 23, \"Birds\": 29, \"Fish\": 20, \"Mice\": 20, \"Snakes\": 7}, \n",
    "      {\"Fish\": 203, \"Hamsters\": 93, \"Snakes\": 25, \"Kittens\": 89}, {\"Birds\": 20, \"Puppies\": 90, \"Snakes\": 21, \"Fish\": 10, \"Kittens\": 67}]\n",
    "total = 0\n",
    "for diction in di:\n",
    "    try:\n",
    "        total = total + diction['Puppies']\n",
    "    except Exception as e:\n",
    "        diction[\"Puppies\"]=0\n",
    "        print('error')\n",
    "print(\"Total number of puppies:\", total)"
   ]
  }
 ],
 "metadata": {
  "kernelspec": {
   "display_name": "Python 3.9.12 ('base')",
   "language": "python",
   "name": "python3"
  },
  "language_info": {
   "name": "python",
   "version": "3.9.12"
  },
  "orig_nbformat": 4,
  "vscode": {
   "interpreter": {
    "hash": "eef1cb4a98bd34ae4cd43c0745a2cae51016b5c0c3c697cf8555d348ec241d55"
   }
  }
 },
 "nbformat": 4,
 "nbformat_minor": 2
}
