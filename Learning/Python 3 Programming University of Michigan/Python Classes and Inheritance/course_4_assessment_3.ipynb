{
 "cells": [
  {
   "cell_type": "code",
   "execution_count": null,
   "metadata": {},
   "outputs": [],
   "source": [
    "import test\n",
    "test.testEqual( mySum([2,3,1]),6)\n",
    "test.testEqual( mySum([]),0)\n",
    "test.testEqual( mySum([2]),2)\n",
    "test.testEqual( mySum([-1,-2]),-3)\n",
    "test.testEqual( mySum([0]),0)"
   ]
  },
  {
   "cell_type": "code",
   "execution_count": null,
   "metadata": {},
   "outputs": [],
   "source": [
    "import test\n",
    "val=Student(\"Ananya\",2)\n",
    "test.testEqual( val.name,'Ananya')\n",
    "test.testEqual(val.years_UM,2) #the passed value is not set rather the default value is set\n",
    "test.testEqual(val.knowledge,0) \n",
    "test.testEqual(val.study(),None)\n",
    "test.testEqual(val.year_at_umich(),2) #problem in year_at_umich because it will always return default value\n",
    "test.testEqual(val.getKnowledge(),0) #problem in getKnowledge method\n",
    "val=Student(\"Ananya\")\n",
    "test.testEqual(val.years_UM,1)"
   ]
  }
 ],
 "metadata": {
  "kernelspec": {
   "display_name": "Python 3.9.12 ('base')",
   "language": "python",
   "name": "python3"
  },
  "language_info": {
   "name": "python",
   "version": "3.9.12"
  },
  "orig_nbformat": 4,
  "vscode": {
   "interpreter": {
    "hash": "eef1cb4a98bd34ae4cd43c0745a2cae51016b5c0c3c697cf8555d348ec241d55"
   }
  }
 },
 "nbformat": 4,
 "nbformat_minor": 2
}
