{
 "cells": [
  {
   "cell_type": "code",
   "execution_count": null,
   "metadata": {},
   "outputs": [],
   "source": [
    "class Bike:\n",
    "    def __init__(self,color,price):\n",
    "        self.color=color\n",
    "        self.price=price\n",
    "\n",
    "testOne=Bike(\"blue\",89.99)\n",
    "testTwo=Bike(\"purple\",25.0)"
   ]
  },
  {
   "cell_type": "code",
   "execution_count": null,
   "metadata": {},
   "outputs": [],
   "source": [
    "class AppleBasket:\n",
    "    def __init__(self,color,quant):\n",
    "        self.apple_color=color\n",
    "        self.apple_quantity=quant\n",
    "        \n",
    "    def increase(self):\n",
    "        self.apple_quantity+=1\n",
    "        return self.apple_quantity\n",
    "    \n",
    "    def __str__(self):\n",
    "        return \"A basket of {} {} apples.\".format(self.apple_quantity,self.apple_color)\n",
    "\n",
    "val1=AppleBasket('red',8)\n",
    "print(val1)\n",
    "print(val1.increase())"
   ]
  },
  {
   "cell_type": "code",
   "execution_count": null,
   "metadata": {},
   "outputs": [],
   "source": [
    "class BankAccount:\n",
    "    def __init__(self,name,amt):\n",
    "        self.name=name\n",
    "        self.amt=amt\n",
    "        \n",
    "    def __str__(self):\n",
    "        return \"Your account, {}, has {} dollars.\".format(self.name,self.amt)\n",
    "    \n",
    "t1=BankAccount(\"Bob\",100)\n",
    "print(t1)"
   ]
  }
 ],
 "metadata": {
  "kernelspec": {
   "display_name": "Python 3.9.12 ('base')",
   "language": "python",
   "name": "python3"
  },
  "language_info": {
   "name": "python",
   "version": "3.9.12"
  },
  "orig_nbformat": 4,
  "vscode": {
   "interpreter": {
    "hash": "eef1cb4a98bd34ae4cd43c0745a2cae51016b5c0c3c697cf8555d348ec241d55"
   }
  }
 },
 "nbformat": 4,
 "nbformat_minor": 2
}
