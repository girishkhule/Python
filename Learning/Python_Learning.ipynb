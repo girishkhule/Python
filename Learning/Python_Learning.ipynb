{
  "cells": [
    {
      "cell_type": "markdown",
      "metadata": {
        "colab_type": "text",
        "id": "view-in-github"
      },
      "source": [
        "<a href=\"https://colab.research.google.com/github/girishkhule/Python/blob/main/Learning/Python_Learning.ipynb\" target=\"_parent\"><img src=\"https://colab.research.google.com/assets/colab-badge.svg\" alt=\"Open In Colab\"/></a>"
      ]
    },
    {
      "cell_type": "code",
      "execution_count": null,
      "metadata": {
        "colab": {
          "base_uri": "https://localhost:8080/"
        },
        "id": "MPoqC15Dx8SS",
        "outputId": "ef2f04b4-7ef2-451e-939d-be13525925b3"
      },
      "outputs": [
        {
          "name": "stdout",
          "output_type": "stream",
          "text": [
            "Hello---how are you?\n",
            "Hello how are you?\n",
            "Hello\n"
          ]
        }
      ],
      "source": [
        "print(\"Hello\", \"how are you?\", sep=\"---\")\n",
        "print(\"Hello\", \"how are you?\" )\n",
        "print(\"Hello\")"
      ]
    },
    {
      "cell_type": "markdown",
      "metadata": {
        "id": "c36EqBcyRXzJ"
      },
      "source": [
        " #Syntax Error:"
      ]
    },
    {
      "cell_type": "code",
      "execution_count": null,
      "metadata": {
        "colab": {
          "base_uri": "https://localhost:8080/",
          "height": 131
        },
        "id": "I9nP3LgjM07g",
        "outputId": "cac04436-2729-4d68-ca8d-f1d46b366561"
      },
      "outputs": [
        {
          "ename": "SyntaxError",
          "evalue": "ignored",
          "output_type": "error",
          "traceback": [
            "\u001b[0;36m  File \u001b[0;32m\"<ipython-input-6-f22c9721d561>\"\u001b[0;36m, line \u001b[0;32m1\u001b[0m\n\u001b[0;31m    if 5 > 2  #Syntax Error:\u001b[0m\n\u001b[0m                            ^\u001b[0m\n\u001b[0;31mSyntaxError\u001b[0m\u001b[0;31m:\u001b[0m invalid syntax\n"
          ]
        }
      ],
      "source": [
        "if 5 > 2 \n",
        "  print(\"Five is greater than two!\")"
      ]
    },
    {
      "cell_type": "code",
      "execution_count": null,
      "metadata": {
        "colab": {
          "base_uri": "https://localhost:8080/"
        },
        "id": "tUQtowg2Q4fw",
        "outputId": "d5631dca-939e-40fb-8a7e-a8d3069c8431"
      },
      "outputs": [
        {
          "name": "stdout",
          "output_type": "stream",
          "text": [
            "Five is greater than two!\n"
          ]
        }
      ],
      "source": [
        "if 5 > 2:\n",
        "  print(\"Five is greater than two!\")"
      ]
    },
    {
      "cell_type": "code",
      "execution_count": null,
      "metadata": {
        "colab": {
          "base_uri": "https://localhost:8080/",
          "height": 131
        },
        "id": "yJQIS2iqQFqM",
        "outputId": "ed372d35-c225-4956-b4a9-9557016d5110"
      },
      "outputs": [
        {
          "ename": "IndentationError",
          "evalue": "ignored",
          "output_type": "error",
          "traceback": [
            "\u001b[0;36m  File \u001b[0;32m\"<ipython-input-3-a4dba24e2a47>\"\u001b[0;36m, line \u001b[0;32m3\u001b[0m\n\u001b[0;31m    print(\"Five is greater than two!\")\u001b[0m\n\u001b[0m    ^\u001b[0m\n\u001b[0;31mIndentationError\u001b[0m\u001b[0;31m:\u001b[0m unexpected indent\n"
          ]
        }
      ],
      "source": [
        "if 5 > 2:\n",
        " print(\"Five is greater than two!\")\n",
        "        print(\"Five is greater than two!\")"
      ]
    },
    {
      "cell_type": "code",
      "execution_count": null,
      "metadata": {
        "colab": {
          "base_uri": "https://localhost:8080/"
        },
        "id": "FYDtWwT6RO-e",
        "outputId": "596fafb6-8a68-491d-a8ac-dc04ef641ff4"
      },
      "outputs": [
        {
          "name": "stdout",
          "output_type": "stream",
          "text": [
            "Five is greater than two!\n",
            "Five is greater than two!\n"
          ]
        }
      ],
      "source": [
        "if 5 > 2:\n",
        " print(\"Five is greater than two!\")\n",
        " print(\"Five is greater than two!\")"
      ]
    },
    {
      "cell_type": "code",
      "execution_count": null,
      "metadata": {
        "colab": {
          "base_uri": "https://localhost:8080/"
        },
        "id": "oSSjyuQdRSCt",
        "outputId": "467fa181-4bcb-4ccc-95a4-39e9661538e8"
      },
      "outputs": [
        {
          "name": "stdout",
          "output_type": "stream",
          "text": [
            "Hello, World!\n"
          ]
        }
      ],
      "source": [
        "\"\"\"\n",
        "This is a comment\n",
        "written in\n",
        "more than just one line\n",
        "\"\"\"\n",
        "print(\"Hello, World!\")"
      ]
    },
    {
      "cell_type": "code",
      "execution_count": null,
      "metadata": {
        "colab": {
          "base_uri": "https://localhost:8080/",
          "height": 35
        },
        "id": "dsUGhkvvVJb4",
        "outputId": "ae053874-c606-4088-b85b-92c59ce7c2f8"
      },
      "outputs": [
        {
          "data": {
            "application/vnd.google.colaboratory.intrinsic+json": {
              "type": "string"
            },
            "text/plain": [
              "'\\ncomment \\n'"
            ]
          },
          "execution_count": 19,
          "metadata": {},
          "output_type": "execute_result"
        }
      ],
      "source": [
        "\"\"\"\n",
        "comment \n",
        "\"\"\"\n",
        "# ignored only when thr excution part like above"
      ]
    },
    {
      "cell_type": "code",
      "execution_count": null,
      "metadata": {
        "colab": {
          "base_uri": "https://localhost:8080/"
        },
        "id": "qPVJHlWcXkng",
        "outputId": "375e17c0-f67f-4f29-84c3-961d87264bc3"
      },
      "outputs": [
        {
          "name": "stdout",
          "output_type": "stream",
          "text": [
            "5\n",
            "John\n"
          ]
        }
      ],
      "source": [
        "x = 5\n",
        "y = \"John\"\n",
        "print(x)\n",
        "print(y)"
      ]
    },
    {
      "cell_type": "code",
      "execution_count": null,
      "metadata": {
        "colab": {
          "base_uri": "https://localhost:8080/",
          "height": 270
        },
        "id": "vJhREdjZWBBM",
        "outputId": "5bdb24e5-f9ef-4305-87a1-72969430e798"
      },
      "outputs": [
        {
          "name": "stdout",
          "output_type": "stream",
          "text": [
            "5\n",
            "John\n"
          ]
        },
        {
          "ename": "NameError",
          "evalue": "ignored",
          "output_type": "error",
          "traceback": [
            "\u001b[0;31m---------------------------------------------------------------------------\u001b[0m",
            "\u001b[0;31mNameError\u001b[0m                                 Traceback (most recent call last)",
            "\u001b[0;32m<ipython-input-48-62d2b241ad21>\u001b[0m in \u001b[0;36m<module>\u001b[0;34m()\u001b[0m\n\u001b[1;32m      3\u001b[0m \u001b[0mprint\u001b[0m\u001b[0;34m(\u001b[0m\u001b[0mx\u001b[0m\u001b[0;34m)\u001b[0m\u001b[0;34m\u001b[0m\u001b[0;34m\u001b[0m\u001b[0m\n\u001b[1;32m      4\u001b[0m \u001b[0mprint\u001b[0m\u001b[0;34m(\u001b[0m\u001b[0my\u001b[0m\u001b[0;34m)\u001b[0m\u001b[0;34m\u001b[0m\u001b[0;34m\u001b[0m\u001b[0m\n\u001b[0;32m----> 5\u001b[0;31m \u001b[0mprint\u001b[0m\u001b[0;34m(\u001b[0m\u001b[0mY\u001b[0m\u001b[0;34m)\u001b[0m\u001b[0;34m\u001b[0m\u001b[0;34m\u001b[0m\u001b[0m\n\u001b[0m\u001b[1;32m      6\u001b[0m \u001b[0;34m\u001b[0m\u001b[0m\n\u001b[1;32m      7\u001b[0m \u001b[0ma\u001b[0m \u001b[0;34m=\u001b[0m \u001b[0;36m4\u001b[0m\u001b[0;34m\u001b[0m\u001b[0;34m\u001b[0m\u001b[0m\n",
            "\u001b[0;31mNameError\u001b[0m: name 'Y' is not defined"
          ]
        }
      ],
      "source": [
        "x = 5\n",
        "y = \"John\"\n",
        "print(x)\n",
        "print(y)\n",
        "print(Y)\n",
        "\n",
        "\n"
      ]
    },
    {
      "cell_type": "code",
      "execution_count": null,
      "metadata": {
        "colab": {
          "base_uri": "https://localhost:8080/"
        },
        "id": "aVcDTVeOYJvE",
        "outputId": "15580c7f-cc0c-4147-b9c7-0766abb4ec06"
      },
      "outputs": [
        {
          "name": "stdout",
          "output_type": "stream",
          "text": [
            "4\n",
            "Sally\n"
          ]
        }
      ],
      "source": [
        "a = 4\n",
        "A = \"Sally\"\n",
        "#A will not overwrite a\n",
        "print(a)\n",
        "print(A) \n"
      ]
    },
    {
      "cell_type": "code",
      "execution_count": null,
      "metadata": {
        "colab": {
          "base_uri": "https://localhost:8080/"
        },
        "id": "OvDzy6jxWDgI",
        "outputId": "70cc889e-dd1c-4af7-f9be-e197b7f5d265"
      },
      "outputs": [
        {
          "name": "stdout",
          "output_type": "stream",
          "text": [
            "Sally\n"
          ]
        }
      ],
      "source": [
        "x = 4       # x is of type int\n",
        "x = \"Sally\" # x is now of type str\n",
        "print(x)"
      ]
    },
    {
      "cell_type": "code",
      "execution_count": null,
      "metadata": {
        "colab": {
          "base_uri": "https://localhost:8080/"
        },
        "id": "fLOwnpxCWh06",
        "outputId": "a53b1326-bffe-4c6b-98ee-48e3bb05a6a9"
      },
      "outputs": [
        {
          "name": "stdout",
          "output_type": "stream",
          "text": [
            "3\n",
            "3\n",
            "3.0\n"
          ]
        }
      ],
      "source": [
        "x = str(3)    # x will be '3'\n",
        "y = int(3)    # y will be 3\n",
        "z = float(3)  # z will be 3.0\n",
        "print(x)\n",
        "print(y)\n",
        "print(z) "
      ]
    },
    {
      "cell_type": "code",
      "execution_count": null,
      "metadata": {
        "id": "-e7txYTlX2Gn"
      },
      "outputs": [],
      "source": [
        "x = \"John\"\n",
        "# is the same as\n",
        "x = 'John'"
      ]
    },
    {
      "cell_type": "code",
      "execution_count": null,
      "metadata": {
        "id": "hPLqCPSkX596"
      },
      "outputs": [],
      "source": [
        "a = 4\n",
        "A = \"Sally\"\n",
        "#A will not overwrite a\n",
        "print(a)\n",
        "print(A) "
      ]
    },
    {
      "cell_type": "code",
      "execution_count": null,
      "metadata": {
        "colab": {
          "base_uri": "https://localhost:8080/",
          "height": 131
        },
        "id": "M30xMhQlbcGM",
        "outputId": "6d134135-5af3-4a6e-def4-61e8b04a21e5"
      },
      "outputs": [
        {
          "ename": "SyntaxError",
          "evalue": "ignored",
          "output_type": "error",
          "traceback": [
            "\u001b[0;36m  File \u001b[0;32m\"<ipython-input-50-0e82719f22b4>\"\u001b[0;36m, line \u001b[0;32m1\u001b[0m\n\u001b[0;31m    2myvar = \"John\"\u001b[0m\n\u001b[0m         ^\u001b[0m\n\u001b[0;31mSyntaxError\u001b[0m\u001b[0;31m:\u001b[0m invalid syntax\n"
          ]
        }
      ],
      "source": [
        "2myvar = \"John\"\n",
        "my-var = \"John\"\n",
        "my var = \"John\""
      ]
    },
    {
      "cell_type": "code",
      "execution_count": null,
      "metadata": {
        "colab": {
          "base_uri": "https://localhost:8080/"
        },
        "id": "NqoBSqbecfVp",
        "outputId": "86300cdb-9007-4ae6-eaad-bc5ff089fce1"
      },
      "outputs": [
        {
          "name": "stdout",
          "output_type": "stream",
          "text": [
            "Orange\n",
            "Banana\n",
            "Cherry\n"
          ]
        }
      ],
      "source": [
        "x1, y1, z1 = \"Orange\", \"Banana\", \"Cherry\"\n",
        "print(x1)\n",
        "print(y1)\n",
        "print(z1)"
      ]
    },
    {
      "cell_type": "markdown",
      "metadata": {
        "id": "etYS7iNpct_3"
      },
      "source": [
        "Unpack a Collection\n",
        "If you have a collection of values in a list, tuple etc. Python allows you to extract the values into variables. This is called unpacking."
      ]
    },
    {
      "cell_type": "code",
      "execution_count": null,
      "metadata": {
        "colab": {
          "base_uri": "https://localhost:8080/"
        },
        "id": "QA6bM8A9cf1d",
        "outputId": "e60d61a5-2762-4fa3-958d-2019af07ec99"
      },
      "outputs": [
        {
          "name": "stdout",
          "output_type": "stream",
          "text": [
            "banana\n",
            "banana\n",
            "cherry\n"
          ]
        }
      ],
      "source": [
        "fruits = [\"apple\", \"banana\", \"cherry\"]\n",
        "#x, y, z = fruits\n",
        "print(fruits[1])\n",
        "print(y)\n",
        "print(z)"
      ]
    },
    {
      "cell_type": "code",
      "execution_count": null,
      "metadata": {
        "colab": {
          "base_uri": "https://localhost:8080/"
        },
        "id": "kfjHJmC9dGVb",
        "outputId": "428dff59-fb73-4314-f863-7b238af37ffd"
      },
      "outputs": [
        {
          "name": "stdout",
          "output_type": "stream",
          "text": [
            "apple\n",
            "bananaa\n",
            "cherryy\n"
          ]
        }
      ],
      "source": [
        "fruits = [\"apple\", \"bananaa\", \"cherryy\"]\n",
        "x2, y, z = fruits\n",
        "print(x2)\n",
        "print(y)\n",
        "print(z)"
      ]
    },
    {
      "cell_type": "code",
      "execution_count": null,
      "metadata": {
        "colab": {
          "base_uri": "https://localhost:8080/"
        },
        "id": "Ebr-2y0-eNZJ",
        "outputId": "a765472b-9c3d-434f-80c8-a0c258749642"
      },
      "outputs": [
        {
          "name": "stdout",
          "output_type": "stream",
          "text": [
            "Python is awesome\n",
            "Python  is  awesome\n"
          ]
        }
      ],
      "source": [
        "x = \"Python \"\n",
        "y = \"is \"\n",
        "z = \"awesome\"\n",
        "print(x + y + z)\n",
        "print(x,y,z)"
      ]
    },
    {
      "cell_type": "code",
      "execution_count": null,
      "metadata": {
        "colab": {
          "base_uri": "https://localhost:8080/",
          "height": 218
        },
        "id": "BsJRhtrYeNuh",
        "outputId": "813bfa97-432e-4c3b-bc6c-f0630b6f4bb2"
      },
      "outputs": [
        {
          "ename": "TypeError",
          "evalue": "ignored",
          "output_type": "error",
          "traceback": [
            "\u001b[0;31m---------------------------------------------------------------------------\u001b[0m",
            "\u001b[0;31mTypeError\u001b[0m                                 Traceback (most recent call last)",
            "\u001b[0;32m<ipython-input-68-92b61755723e>\u001b[0m in \u001b[0;36m<module>\u001b[0;34m()\u001b[0m\n\u001b[1;32m      2\u001b[0m \u001b[0my\u001b[0m \u001b[0;34m=\u001b[0m \u001b[0;36m5\u001b[0m\u001b[0;34m\u001b[0m\u001b[0;34m\u001b[0m\u001b[0m\n\u001b[1;32m      3\u001b[0m \u001b[0mz\u001b[0m \u001b[0;34m=\u001b[0m \u001b[0;34m\"awesome\"\u001b[0m\u001b[0;34m\u001b[0m\u001b[0;34m\u001b[0m\u001b[0m\n\u001b[0;32m----> 4\u001b[0;31m \u001b[0mprint\u001b[0m\u001b[0;34m(\u001b[0m\u001b[0mx\u001b[0m \u001b[0;34m+\u001b[0m \u001b[0my\u001b[0m \u001b[0;34m+\u001b[0m \u001b[0mz\u001b[0m\u001b[0;34m)\u001b[0m\u001b[0;34m\u001b[0m\u001b[0;34m\u001b[0m\u001b[0m\n\u001b[0m\u001b[1;32m      5\u001b[0m \u001b[0mprint\u001b[0m\u001b[0;34m(\u001b[0m\u001b[0mx\u001b[0m\u001b[0;34m,\u001b[0m\u001b[0my\u001b[0m\u001b[0;34m,\u001b[0m\u001b[0mz\u001b[0m\u001b[0;34m)\u001b[0m\u001b[0;34m\u001b[0m\u001b[0;34m\u001b[0m\u001b[0m\n",
            "\u001b[0;31mTypeError\u001b[0m: can only concatenate str (not \"int\") to str"
          ]
        }
      ],
      "source": [
        "x = \"Python \"\n",
        "y = 5 \n",
        "z = \"awesome\"\n",
        "print(x + y + z)\n",
        "print(x,y,z)"
      ]
    },
    {
      "cell_type": "code",
      "execution_count": null,
      "metadata": {
        "colab": {
          "base_uri": "https://localhost:8080/"
        },
        "id": "e1tTB7bFfHF1",
        "outputId": "1f5879f6-40b1-4376-a7f5-b9f6aea08f45"
      },
      "outputs": [
        {
          "name": "stdout",
          "output_type": "stream",
          "text": [
            "Python 5 awesome\n"
          ]
        }
      ],
      "source": [
        "x = \"Python\"\n",
        "y = 5 \n",
        "z = \"awesome\"\n",
        "#print(x + y + z)\n",
        "print(x,y,z)"
      ]
    },
    {
      "cell_type": "code",
      "execution_count": null,
      "metadata": {
        "colab": {
          "base_uri": "https://localhost:8080/"
        },
        "id": "WrB4zb54g19W",
        "outputId": "634e2d4b-81f1-4143-cf88-bfe6f9772080"
      },
      "outputs": [
        {
          "name": "stdout",
          "output_type": "stream",
          "text": [
            "Python is fantastic\n",
            "Python is awesome\n"
          ]
        }
      ],
      "source": [
        "x = \"awesome\" #global\n",
        "\n",
        "def myfunc():\n",
        "  x = \"fantastic\" #local\n",
        "  print(\"Python is \" + x)\n",
        "\n",
        "myfunc()\n",
        "\n",
        "print(\"Python is \" + x)"
      ]
    },
    {
      "cell_type": "code",
      "execution_count": null,
      "metadata": {
        "colab": {
          "base_uri": "https://localhost:8080/",
          "height": 131
        },
        "id": "I9I6B_f2hiB3",
        "outputId": "e472cb40-1c20-4831-d808-cc1d1f850c25"
      },
      "outputs": [
        {
          "ename": "SyntaxError",
          "evalue": "ignored",
          "output_type": "error",
          "traceback": [
            "\u001b[0;36m  File \u001b[0;32m\"<ipython-input-80-f79309d3d05a>\"\u001b[0;36m, line \u001b[0;32m2\u001b[0m\n\u001b[0;31m    global x1 = \"fantastic\"\u001b[0m\n\u001b[0m              ^\u001b[0m\n\u001b[0;31mSyntaxError\u001b[0m\u001b[0;31m:\u001b[0m invalid syntax\n"
          ]
        }
      ],
      "source": [
        "def myfunc():\n",
        "  global x1 = \"fantastic\"\n",
        "#  x = \"fantastic\"\n",
        "\n",
        "myfunc()\n",
        "\n",
        "print(\"Python is \" + x1)"
      ]
    },
    {
      "cell_type": "code",
      "execution_count": null,
      "metadata": {
        "colab": {
          "base_uri": "https://localhost:8080/"
        },
        "id": "wojnOK1qhzYO",
        "outputId": "1bb2322c-f7fb-4c5b-f8bd-2835363bcb0d"
      },
      "outputs": [
        {
          "name": "stdout",
          "output_type": "stream",
          "text": [
            "Python is fantastic\n"
          ]
        }
      ],
      "source": [
        "def myfunc():\n",
        "  global x  \n",
        "  x = \"fantastic\"\n",
        "\n",
        "myfunc()\n",
        "\n",
        "print(\"Python is \" + x)\n",
        "\n"
      ]
    },
    {
      "cell_type": "markdown",
      "metadata": {
        "id": "Y48fN4iVis8U"
      },
      "source": [
        "To change the value of a global variable inside a function, refer to the variable by using the global keyword:"
      ]
    },
    {
      "cell_type": "code",
      "execution_count": null,
      "metadata": {
        "colab": {
          "base_uri": "https://localhost:8080/"
        },
        "id": "uXkQJg4Jitqh",
        "outputId": "79273625-6577-4ebd-d54b-30b291e47363"
      },
      "outputs": [
        {
          "name": "stdout",
          "output_type": "stream",
          "text": [
            "Python is fantastic\n"
          ]
        }
      ],
      "source": [
        "x = \"awesome\"\n",
        "\n",
        "def myfunc():\n",
        "  global x\n",
        "  x = \"fantastic\"\n",
        "\n",
        "myfunc()\n",
        "\n",
        "print(\"Python is \" + x)"
      ]
    },
    {
      "cell_type": "code",
      "execution_count": null,
      "metadata": {
        "colab": {
          "base_uri": "https://localhost:8080/"
        },
        "id": "hPpV2vQl9WLR",
        "outputId": "e82388fd-4104-4aed-cc36-6ac353ac7d5b"
      },
      "outputs": [
        {
          "name": "stdout",
          "output_type": "stream",
          "text": [
            "<class 'int'>\n"
          ]
        }
      ],
      "source": [
        "x = 5\n",
        "print(type(x))"
      ]
    },
    {
      "cell_type": "code",
      "execution_count": null,
      "metadata": {
        "colab": {
          "base_uri": "https://localhost:8080/"
        },
        "id": "q7q9gsoj9XV-",
        "outputId": "6c7fa121-06e1-4ec2-b245-f2979db92b4a"
      },
      "outputs": [
        {
          "name": "stdout",
          "output_type": "stream",
          "text": [
            "Hello World\n",
            "20\n",
            "20.5\n",
            "1j\n",
            "['apple', 'banana', 'cherry']\n",
            "('apple', 'banana', 'cherry')\n",
            "range(0, 6)\n",
            "{'name': 'John', 'age': 36}\n",
            "{'apple', 'cherry', 'banana'}\n",
            "frozenset({'apple', 'cherry', 'banana'})\n",
            "True\n",
            "b'Hello'\n",
            "bytearray(b'\\x00\\x00\\x00\\x00\\x00')\n",
            "<memory at 0x7f11b5178940>\n",
            "None\n"
          ]
        }
      ],
      "source": [
        "x = \"Hello World\"\t#str\t\n",
        "x1 = 20\t#int\t\n",
        "x2 = 20.5\t#float\t\n",
        "x3 = 1j\t#complex\t\n",
        "x4 = [\"apple\", \"banana\", \"cherry\"]\t#list\t\n",
        "x5 = (\"apple\", \"banana\", \"cherry\")\t#tuple\t\n",
        "x6 = range(6)\t#range\t\n",
        "x7 = {\"name\" : \"John\", \"age\" : 36}\t#dict\t\n",
        "x8 = {\"apple\", \"banana\", \"cherry\"}\t#set\t\n",
        "x9 = frozenset({\"apple\", \"banana\", \"cherry\"})\t#frozenset\t\n",
        "x10 = True\t#bool\t\n",
        "x11 = b\"Hello\"\t#bytes\t\n",
        "x12 = bytearray(5)\t#bytearray\t\n",
        "x13 = memoryview(bytes(5))\t#memoryview\t\n",
        "x14 = None\n",
        "\n",
        "print(x)\n",
        "print(x1)\n",
        "print(x2)\n",
        "print(x3)\n",
        "print(x4)\n",
        "print(x5)\n",
        "print(x6)\n",
        "print(x7)\n",
        "print(x8)\n",
        "print(x9)\n",
        "print(x10)\n",
        "print(x11)\n",
        "print(x12)\n",
        "print(x13)\n",
        "print(x14)\n"
      ]
    },
    {
      "cell_type": "code",
      "execution_count": null,
      "metadata": {
        "colab": {
          "base_uri": "https://localhost:8080/"
        },
        "id": "CyfrSoDiAaOD",
        "outputId": "dfaa45a6-5f50-4e31-b56a-b5008e17fd52"
      },
      "outputs": [
        {
          "name": "stdout",
          "output_type": "stream",
          "text": [
            "<class 'float'>\n",
            "<class 'float'>\n",
            "<class 'float'>\n"
          ]
        }
      ],
      "source": [
        "x = 35e3\n",
        "y = 12E4\n",
        "z = -87.7e100\n",
        "\n",
        "print(type(x))\n",
        "print(type(y))\n",
        "print(type(z))"
      ]
    },
    {
      "cell_type": "code",
      "execution_count": null,
      "metadata": {
        "id": "C2FHMEc8AbRh"
      },
      "outputs": [],
      "source": [
        "y = int(2.8) # y will be 2 type casting"
      ]
    },
    {
      "cell_type": "code",
      "execution_count": null,
      "metadata": {
        "id": "JO6JnKFhAi8s"
      },
      "outputs": [],
      "source": [
        "z = float(\"3\")   # z will be 3.0"
      ]
    },
    {
      "cell_type": "code",
      "execution_count": null,
      "metadata": {
        "colab": {
          "base_uri": "https://localhost:8080/"
        },
        "id": "lR8OqXjeAoxx",
        "outputId": "ca0cf18a-d4f8-47c8-a4df-da55742842cf"
      },
      "outputs": [
        {
          "name": "stdout",
          "output_type": "stream",
          "text": [
            "e\n",
            "13\n",
            "False\n",
            "True\n",
            "llo\n",
            "llo, World!\n",
            "orl\n",
            "HELLO, WORLD!\n",
            "hello, world!\n",
            "16\n",
            "14\n"
          ]
        }
      ],
      "source": [
        "a = \"Hello, World!\"\n",
        "print(a[1])\n",
        "print(len(a))\n",
        "print(\"free\" in a)\n",
        "print(\"expensive\" not in a)\n",
        "print(a[2:5])\n",
        "print(a[2:]) #Slice To the End\n",
        "print(a[-5:-2])\n",
        "print(a.upper())\n",
        "print(a.lower())\n",
        "a = \" Hello, girish! \"\n",
        "print(len(a))\n",
        "print(len(a.strip())) # returns \"Hello, girish!\"\n",
        "print(a.replace(\"H\", \"J\"))\n",
        "print(a.split(\",\")) # returns ['Hello', ' World!']\n",
        "a = \"Hello\"\n",
        "b = \"World\"\n",
        "c = a + \" \" + b\n",
        "print(c)"
      ]
    },
    {
      "cell_type": "markdown",
      "metadata": {
        "id": "QhaK0ivGDG45"
      },
      "source": [
        "The format() method takes unlimited number of arguments, and are placed into the respective placeholders:"
      ]
    },
    {
      "cell_type": "code",
      "execution_count": null,
      "metadata": {
        "colab": {
          "base_uri": "https://localhost:8080/"
        },
        "id": "1JmwFa5TDC5t",
        "outputId": "26444fe7-56a7-4a1f-9107-0a0f981a232a"
      },
      "outputs": [
        {
          "name": "stdout",
          "output_type": "stream",
          "text": [
            "I want 3 pieces of item 567 for 49.95 dollars.\n"
          ]
        }
      ],
      "source": [
        "quantity = 3\n",
        "itemno = 567\n",
        "price = 49.95\n",
        "myorder = \"I want {} pieces of item {} for {} dollars.\"\n",
        "print(myorder.format(quantity, itemno, price))"
      ]
    },
    {
      "cell_type": "markdown",
      "metadata": {
        "id": "ZtzK_TRJDKTp"
      },
      "source": [
        "You can use index numbers {0} to be sure the arguments are placed in the correct placeholders:"
      ]
    },
    {
      "cell_type": "code",
      "execution_count": null,
      "metadata": {
        "colab": {
          "base_uri": "https://localhost:8080/"
        },
        "id": "6mWhA225DDq2",
        "outputId": "c6ef91e7-c29d-4cbe-f1be-e06593803128"
      },
      "outputs": [
        {
          "name": "stdout",
          "output_type": "stream",
          "text": [
            "I want to pay 49.95 dollars for 3 pieces of item 567.\n"
          ]
        }
      ],
      "source": [
        "quantity = 3\n",
        "itemno = 567\n",
        "price = 49.95\n",
        "myorder = \"I want to pay {2} dollars for {0} pieces of item {1}.\"\n",
        "print(myorder.format(quantity, itemno, price))"
      ]
    },
    {
      "cell_type": "markdown",
      "metadata": {
        "id": "t9ksEzR7DSkm"
      },
      "source": [
        "Escape Character\n",
        "\n",
        "\\'\tSingle Quote\t\n",
        "\\\\\tBackslash\t\n",
        "\\n\tNew Line\t\n",
        "\\r\tCarriage Return\t\n",
        "\\t\tTab\t\n",
        "\\b\tBackspace\t\n",
        "\\f\tForm Feed\t\n",
        "\\ooo\tOctal value\t\n",
        "\\xhh\tHex value"
      ]
    },
    {
      "cell_type": "code",
      "execution_count": null,
      "metadata": {
        "colab": {
          "base_uri": "https://localhost:8080/",
          "height": 131
        },
        "id": "SepWNkX-DTRY",
        "outputId": "5008583d-b21b-4704-e31a-ae5d0fffb63f"
      },
      "outputs": [
        {
          "ename": "SyntaxError",
          "evalue": "ignored",
          "output_type": "error",
          "traceback": [
            "\u001b[0;36m  File \u001b[0;32m\"<ipython-input-15-56cdf4283a8e>\"\u001b[0;36m, line \u001b[0;32m1\u001b[0m\n\u001b[0;31m    txt = \"We are the so-called \"Vikings\" from the north.\"\u001b[0m\n\u001b[0m                                       ^\u001b[0m\n\u001b[0;31mSyntaxError\u001b[0m\u001b[0;31m:\u001b[0m invalid syntax\n"
          ]
        }
      ],
      "source": [
        "txt = \"We are the so-called \"Vikings\" from the north.\""
      ]
    },
    {
      "cell_type": "code",
      "execution_count": null,
      "metadata": {
        "colab": {
          "base_uri": "https://localhost:8080/"
        },
        "id": "V4KjUYnoDX6U",
        "outputId": "06ab537a-0ef1-490c-e991-62cdbd8bcfe5"
      },
      "outputs": [
        {
          "name": "stdout",
          "output_type": "stream",
          "text": [
            "We are the so-called \"Vikings\" from the north.\n"
          ]
        }
      ],
      "source": [
        "txt = \"We are the so-called \\\"Vikings\\\" from the north.\"\n",
        "print(txt)"
      ]
    },
    {
      "cell_type": "markdown",
      "metadata": {
        "id": "AptBYKMYDy1L"
      },
      "source": [
        "**String Methods**\n",
        "\n",
        "\n",
        "\n",
        "```\n",
        "# This is formatted as code\\\n",
        "\n",
        "Method\tDescription\n",
        "\n",
        "capitalize()\tConverts the first character to upper case\n",
        "casefold()\tConverts string into lower case\n",
        "center()\tReturns a centered string\n",
        "count()\tReturns the number of times a specified value occurs in a string\n",
        "encode()\tReturns an encoded version of the string\n",
        "endswith()\tReturns true if the string ends with the specified value\n",
        "expandtabs()\tSets the tab size of the string\n",
        "find()\tSearches the string for a specified value and returns the position of where it was found\n",
        "format()\tFormats specified values in a string\n",
        "format_map()\tFormats specified values in a string\n",
        "index()\tSearches the string for a specified value and returns the position of where it was found\n",
        "isalnum()\tReturns True if all characters in the string are alphanumeric\n",
        "isalpha()\tReturns True if all characters in the string are in the alphabet\n",
        "isdecimal()\tReturns True if all characters in the string are decimals\n",
        "isdigit()\tReturns True if all characters in the string are digits\n",
        "isidentifier()\tReturns True if the string is an identifier\n",
        "islower()\tReturns True if all characters in the string are lower case\n",
        "isnumeric()\tReturns True if all characters in the string are numeric\n",
        "isprintable()\tReturns True if all characters in the string are printable\n",
        "isspace()\tReturns True if all characters in the string are whitespaces\n",
        "istitle()\tReturns True if the string follows the rules of a title\n",
        "isupper()\tReturns True if all characters in the string are upper case\n",
        "join()\tJoins the elements of an iterable to the end of the string\n",
        "ljust()\tReturns a left justified version of the string\n",
        "lower()\tConverts a string into lower case\n",
        "lstrip()\tReturns a left trim version of the string\n",
        "maketrans()\tReturns a translation table to be used in translations\n",
        "partition()\tReturns a tuple where the string is parted into three parts\n",
        "replace()\tReturns a string where a specified value is replaced with a specified value\n",
        "rfind()\tSearches the string for a specified value and returns the last position of where it was found\n",
        "rindex()\tSearches the string for a specified value and returns the last position of where it was found\n",
        "rjust()\tReturns a right justified version of the string\n",
        "rpartition()\tReturns a tuple where the string is parted into three parts\n",
        "rsplit()\tSplits the string at the specified separator, and returns a list\n",
        "rstrip()\tReturns a right trim version of the string\n",
        "split()\tSplits the string at the specified separator, and returns a list\n",
        "splitlines()\tSplits the string at line breaks and returns a list\n",
        "startswith()\tReturns true if the string starts with the specified value\n",
        "strip()\tReturns a trimmed version of the string\n",
        "swapcase()\tSwaps cases, lower case becomes upper case and vice versa\n",
        "title()\tConverts the first character of each word to upper case\n",
        "translate()\tReturns a translated string\n",
        "upper()\tConverts a string into upper case\n",
        "zfill()\tFills the string with a specified number of 0 values at the beginning\n",
        "\n",
        "```\n",
        "\n",
        "\n",
        "\n"
      ]
    },
    {
      "cell_type": "markdown",
      "metadata": {
        "id": "hZPJhy6sEkLv"
      },
      "source": [
        "The bool() function allows you to evaluate any value, and give you True or False in return,\n",
        "\n",
        "Almost any value is evaluated to True if it has some sort of content.\n",
        "\n",
        "Any string is True, except empty strings.\n",
        "\n",
        "Any number is True, except 0.\n",
        "\n",
        "Any list, tuple, set, and dictionary are True, except empty ones."
      ]
    },
    {
      "cell_type": "code",
      "execution_count": null,
      "metadata": {
        "colab": {
          "base_uri": "https://localhost:8080/"
        },
        "id": "5iJlgLvXESci",
        "outputId": "48339a93-baa5-46b1-eff6-b521a5b99493"
      },
      "outputs": [
        {
          "name": "stdout",
          "output_type": "stream",
          "text": [
            "False\n",
            "True\n"
          ]
        }
      ],
      "source": [
        "x = \"\"\n",
        "y = 15\n",
        "\n",
        "print(bool(x))\n",
        "print(bool(y))"
      ]
    },
    {
      "cell_type": "markdown",
      "metadata": {
        "id": "3bMf563qGFZF"
      },
      "source": [
        "Print \"YES!\" if the function returns True, otherwise print \"NO!\":"
      ]
    },
    {
      "cell_type": "code",
      "execution_count": null,
      "metadata": {
        "id": "hxz6gD2RGDuJ"
      },
      "outputs": [],
      "source": [
        "def myFunction() :\n",
        "  return True\n",
        "\n",
        "if myFunction():\n",
        "  print(\"YES!\")\n",
        "else:\n",
        "  print(\"NO!\")"
      ]
    },
    {
      "cell_type": "code",
      "execution_count": null,
      "metadata": {
        "id": "dBM7FKCrGU96"
      },
      "outputs": [],
      "source": [
        "x = 200\n",
        "print(isinstance(x, int))"
      ]
    },
    {
      "cell_type": "code",
      "execution_count": null,
      "metadata": {
        "colab": {
          "base_uri": "https://localhost:8080/"
        },
        "id": "mm7p2CgyHuNP",
        "outputId": "93f3e66d-4c30-4870-e2f3-e515eab05123"
      },
      "outputs": [
        {
          "name": "stdout",
          "output_type": "stream",
          "text": [
            "a >> 1 = 5\n",
            "b >> 1 = -5\n",
            "a << 1 = 10\n",
            "b << 1 = -20\n"
          ]
        }
      ],
      "source": [
        "\n",
        "# Python program to show\n",
        "# shift operators\n",
        " \n",
        "a = 10\n",
        "b = -10\n",
        " \n",
        "# print bitwise right shift operator\n",
        "print(\"a >> 1 =\", a >> 1)\n",
        "print(\"b >> 1 =\", b >> 1)\n",
        " \n",
        "a = 5\n",
        "b = -10\n",
        " \n",
        "# print bitwise left shift operator\n",
        "print(\"a << 1 =\", a << 1)\n",
        "print(\"b << 1 =\", b << 1)"
      ]
    },
    {
      "cell_type": "code",
      "execution_count": null,
      "metadata": {
        "id": "Hn8BmgSoH8kF"
      },
      "outputs": [],
      "source": [
        "thislist = [\"apple\", \"banana\", \"cherry\"]\n",
        "print(len(thislist))"
      ]
    },
    {
      "cell_type": "code",
      "execution_count": null,
      "metadata": {
        "id": "o3PmO9zqIEww"
      },
      "outputs": [],
      "source": [
        "mylist = [\"apple\", \"banana\", \"cherry\"]\n",
        "print(type(mylist))"
      ]
    },
    {
      "cell_type": "markdown",
      "metadata": {
        "id": "f8vl_WIQIJq_"
      },
      "source": [
        "Python Collections (Arrays)\n",
        "There are four collection data types in the Python programming language:\n",
        "\n",
        "List is a collection which is ordered and changeable. Allows duplicate members.\n",
        "\n",
        "Tuple is a collection which is ordered and unchangeable. Allows duplicate members.\n",
        "\n",
        "Set is a collection which is unordered, unchangeable*, and unindexed. No duplicate members.\n",
        "\n",
        "Dictionary is a collection which is ordered** and changeable. No duplicate members."
      ]
    },
    {
      "cell_type": "code",
      "execution_count": null,
      "metadata": {
        "id": "Q8eI7GW3IJWE"
      },
      "outputs": [],
      "source": [
        "thislist = [\"apple\", \"banana\", \"cherry\", \"orange\", \"kiwi\", \"melon\", \"mango\"]\n",
        "print(thislist[2:5])"
      ]
    },
    {
      "cell_type": "code",
      "execution_count": null,
      "metadata": {
        "id": "RTO8MDbFIile"
      },
      "outputs": [],
      "source": [
        "thislist = [\"apple\", \"banana\", \"cherry\", \"orange\", \"kiwi\", \"melon\", \"mango\"]\n",
        "print(thislist[:4])"
      ]
    },
    {
      "cell_type": "code",
      "execution_count": null,
      "metadata": {
        "id": "yf-9epepIkYX"
      },
      "outputs": [],
      "source": [
        "thislist = [\"apple\", \"banana\", \"cherry\", \"orange\", \"kiwi\", \"melon\", \"mango\"]\n",
        "print(thislist[2:])"
      ]
    },
    {
      "cell_type": "markdown",
      "metadata": {
        "id": "LvgBb44TJwzq"
      },
      "source": [
        "Change Item Value"
      ]
    },
    {
      "cell_type": "code",
      "execution_count": null,
      "metadata": {
        "id": "zB7wl8urJxgw"
      },
      "outputs": [],
      "source": [
        "thislist = [\"apple\", \"banana\", \"cherry\"]\n",
        "thislist[1] = \"blackcurrant\"\n",
        "print(thislist)"
      ]
    },
    {
      "cell_type": "code",
      "execution_count": null,
      "metadata": {
        "colab": {
          "base_uri": "https://localhost:8080/"
        },
        "id": "HFt-77fSJzLs",
        "outputId": "326e241a-453c-40bf-d8d2-f3b969a3cf81"
      },
      "outputs": [
        {
          "name": "stdout",
          "output_type": "stream",
          "text": [
            "['apple', 'blackcurrant', 'watermelon', 'cherry', 'orange', 'kiwi', 'mango']\n"
          ]
        }
      ],
      "source": [
        "thislist = [\"apple\", \"banana\", \"cherry\", \"orange\", \"kiwi\", \"mango\"]\n",
        "thislist[1:2] = [\"blackcurrant\", \"watermelon\"]\n",
        "print(thislist)"
      ]
    },
    {
      "cell_type": "code",
      "execution_count": null,
      "metadata": {
        "colab": {
          "base_uri": "https://localhost:8080/"
        },
        "id": "Dnc842-4Kmh4",
        "outputId": "cd4434f0-b5af-42ad-f6f1-e12bc5c77aeb"
      },
      "outputs": [
        {
          "name": "stdout",
          "output_type": "stream",
          "text": [
            "['apple', 'blackcurrant', 'watermelon', 'orange', 'kiwi', 'mango']\n"
          ]
        }
      ],
      "source": [
        "thislist = [\"apple\", \"banana\", \"cherry\", \"orange\", \"kiwi\", \"mango\"]\n",
        "thislist[1:3] = [\"blackcurrant\", \"watermelon\"]\n",
        "print(thislist)"
      ]
    },
    {
      "cell_type": "code",
      "execution_count": null,
      "metadata": {
        "colab": {
          "base_uri": "https://localhost:8080/"
        },
        "id": "iDLc2WliJ2Ug",
        "outputId": "e0825d7d-83f8-4f4e-e146-7c989acaf795"
      },
      "outputs": [
        {
          "name": "stdout",
          "output_type": "stream",
          "text": [
            "['apple', 'blackcurrant', 'watermelon', 'cherry']\n"
          ]
        }
      ],
      "source": [
        "thislist = [\"apple\", \"banana\", \"cherry\"]\n",
        "thislist[1:2] = [\"blackcurrant\", \"watermelon\"]\n",
        "print(thislist)"
      ]
    },
    {
      "cell_type": "code",
      "execution_count": null,
      "metadata": {
        "colab": {
          "base_uri": "https://localhost:8080/"
        },
        "id": "I4xoYPe-KzS8",
        "outputId": "f1f4d451-4aca-4f23-b4b1-30691a745a86"
      },
      "outputs": [
        {
          "name": "stdout",
          "output_type": "stream",
          "text": [
            "['apple', 'banana', 'watermelon', 'cherry']\n"
          ]
        }
      ],
      "source": [
        "thislist = [\"apple\", \"banana\", \"cherry\"]\n",
        "thislist.insert(2, \"watermelon\")\n",
        "print(thislist)"
      ]
    },
    {
      "cell_type": "code",
      "execution_count": null,
      "metadata": {
        "id": "g4SW82kJK5h6"
      },
      "outputs": [],
      "source": [
        "thislist = [\"apple\", \"banana\", \"cherry\"]\n",
        "thistuple = (\"kiwi\", \"orange\")\n",
        "thislist.extend(thistuple)\n",
        "print(thislist)"
      ]
    },
    {
      "cell_type": "code",
      "execution_count": null,
      "metadata": {
        "id": "h7ivyHQ5K70k"
      },
      "outputs": [],
      "source": [
        "thislist = [\"apple\", \"banana\", \"cherry\"]\n",
        "thislist.remove(\"banana\")\n",
        "print(thislist)"
      ]
    },
    {
      "cell_type": "code",
      "execution_count": null,
      "metadata": {
        "id": "KifDENO2K9sz"
      },
      "outputs": [],
      "source": [
        "thislist = [\"apple\", \"banana\", \"cherry\"]\n",
        "thislist.pop(1)\n",
        "print(thislist)"
      ]
    },
    {
      "cell_type": "code",
      "execution_count": null,
      "metadata": {
        "id": "7FmwH-c4LAKi"
      },
      "outputs": [],
      "source": [
        "thislist = [\"apple\", \"banana\", \"cherry\"]\n",
        "thislist.pop()\n",
        "print(thislist)"
      ]
    },
    {
      "cell_type": "code",
      "execution_count": null,
      "metadata": {
        "colab": {
          "base_uri": "https://localhost:8080/"
        },
        "id": "nlWziMPGLDaC",
        "outputId": "bbdb837a-a27c-4740-baca-84a2c378231b"
      },
      "outputs": [
        {
          "name": "stdout",
          "output_type": "stream",
          "text": [
            "['banana', 'cherry']\n"
          ]
        }
      ],
      "source": [
        "thislist = [\"apple\", \"banana\", \"cherry\"]\n",
        "del thislist[0]\n",
        "print(thislist)"
      ]
    },
    {
      "cell_type": "code",
      "execution_count": null,
      "metadata": {
        "id": "XYAW1El_LEdz"
      },
      "outputs": [],
      "source": [
        "thislist = [\"apple\", \"banana\", \"cherry\"]\n",
        "del thislist\n"
      ]
    },
    {
      "cell_type": "code",
      "execution_count": null,
      "metadata": {
        "colab": {
          "base_uri": "https://localhost:8080/"
        },
        "id": "scR318xULQGk",
        "outputId": "dd4d8a7f-1942-41ce-8da9-5d6ac9958f35"
      },
      "outputs": [
        {
          "name": "stdout",
          "output_type": "stream",
          "text": [
            "[]\n"
          ]
        }
      ],
      "source": [
        "thislist = [\"apple\", \"banana\", \"cherry\"]\n",
        "thislist.clear()\n",
        "print(thislist)"
      ]
    },
    {
      "cell_type": "code",
      "execution_count": null,
      "metadata": {
        "id": "l-nEVFu3LbyH"
      },
      "outputs": [],
      "source": [
        "thislist = [\"apple\", \"banana\", \"cherry\"]\n",
        "for x in thislist:\n",
        "  print(x)"
      ]
    },
    {
      "cell_type": "code",
      "execution_count": null,
      "metadata": {
        "id": "bZJGZqpdLdNj"
      },
      "outputs": [],
      "source": [
        "thislist = [\"apple\", \"banana\", \"cherry\"]\n",
        "for i in range(len(thislist)):\n",
        "  print(thislist[i])"
      ]
    },
    {
      "cell_type": "code",
      "execution_count": null,
      "metadata": {
        "id": "dqBAEtzKLguq"
      },
      "outputs": [],
      "source": [
        "thislist = [\"apple\", \"banana\", \"cherry\"]\n",
        "i = 0\n",
        "while i < len(thislist):\n",
        "  print(thislist[i])\n",
        "  i = i + 1"
      ]
    },
    {
      "cell_type": "markdown",
      "metadata": {
        "id": "umk7IjyVLk5V"
      },
      "source": [
        "A short hand for loop that will print all items in a list:"
      ]
    },
    {
      "cell_type": "code",
      "execution_count": null,
      "metadata": {
        "id": "N5jVluM2Ljit"
      },
      "outputs": [],
      "source": [
        "thislist = [\"apple\", \"banana\", \"cherry\"]\n",
        "[print(x) for x in thislist]"
      ]
    },
    {
      "cell_type": "code",
      "execution_count": null,
      "metadata": {
        "colab": {
          "base_uri": "https://localhost:8080/"
        },
        "id": "tWp1VLDsLsoj",
        "outputId": "366fadc9-8011-4acc-c885-ce5edd57bbd5"
      },
      "outputs": [
        {
          "name": "stdout",
          "output_type": "stream",
          "text": [
            "['apple', 'banana', 'mango']\n"
          ]
        }
      ],
      "source": [
        "fruits = [\"apple\", \"banana\", \"cherry\", \"kiwi\", \"mango\"]\n",
        "newlist = []\n",
        "\n",
        "for x in fruits:\n",
        "  if \"a\" in x:\n",
        "    newlist.append(x)\n",
        "\n",
        "print(newlist)"
      ]
    },
    {
      "cell_type": "code",
      "execution_count": null,
      "metadata": {
        "colab": {
          "base_uri": "https://localhost:8080/"
        },
        "id": "UY_-oSkmyBKF",
        "outputId": "e56815a5-9b72-4253-b7cb-3f5abf1b592e"
      },
      "outputs": [
        {
          "name": "stdout",
          "output_type": "stream",
          "text": [
            "b is greater than a\n"
          ]
        }
      ],
      "source": [
        "a = 33\n",
        "b = 200\n",
        "if b > a:\n",
        "  print(\"b is greater than a\")"
      ]
    },
    {
      "cell_type": "code",
      "execution_count": null,
      "metadata": {
        "colab": {
          "base_uri": "https://localhost:8080/",
          "height": 166
        },
        "id": "s6Ha6QFMyPpm",
        "outputId": "ef04da11-4d82-4c6a-99e7-5e909b7e1a85"
      },
      "outputs": [
        {
          "ename": "IndentationError",
          "evalue": "ignored",
          "output_type": "error",
          "traceback": [
            "\u001b[0;36m  File \u001b[0;32m\"<ipython-input-5-5b2358c8e7c9>\"\u001b[0;36m, line \u001b[0;32m5\u001b[0m\n\u001b[0;31m    print(\"b is greater than a\")\u001b[0m\n\u001b[0m        ^\u001b[0m\n\u001b[0;31mIndentationError\u001b[0m\u001b[0;31m:\u001b[0m expected an indented block\n"
          ]
        }
      ],
      "source": [
        "\n",
        "a = 33\n",
        "b = 200\n",
        "if b > a:\n",
        "print(\"b is greater than a\")"
      ]
    },
    {
      "cell_type": "code",
      "execution_count": null,
      "metadata": {
        "colab": {
          "base_uri": "https://localhost:8080/"
        },
        "id": "0ZayXy9Xy8Rq",
        "outputId": "18a0f30c-69d6-4a91-8a96-5ecf38ac55dd"
      },
      "outputs": [
        {
          "name": "stdout",
          "output_type": "stream",
          "text": [
            "a and b are equal\n"
          ]
        }
      ],
      "source": [
        "a = 33\n",
        "b = 33\n",
        "if b > a:\n",
        "  print(\"b is greater than a\")\n",
        "elif a == b:\n",
        "  print(\"a and b are equal\")"
      ]
    },
    {
      "cell_type": "code",
      "execution_count": null,
      "metadata": {
        "colab": {
          "base_uri": "https://localhost:8080/"
        },
        "id": "PgUIfOLZzHYd",
        "outputId": "f4af0694-c0c8-4ee8-b4b4-10d8ff07a840"
      },
      "outputs": [
        {
          "name": "stdout",
          "output_type": "stream",
          "text": [
            "a is greater than b\n"
          ]
        }
      ],
      "source": [
        "a = 200\n",
        "b = 33\n",
        "if b > a:\n",
        "  print(\"b is greater than a\")\n",
        "elif a == b:\n",
        "  print(\"a and b are equal\")\n",
        "else:\n",
        "  print(\"a is greater than b\")"
      ]
    },
    {
      "cell_type": "code",
      "execution_count": null,
      "metadata": {
        "colab": {
          "base_uri": "https://localhost:8080/"
        },
        "id": "mIBl2fJ_zZkg",
        "outputId": "410166e9-ea1a-4897-e65d-27c4a58f3acf"
      },
      "outputs": [
        {
          "name": "stdout",
          "output_type": "stream",
          "text": [
            "Above ten,\n",
            "and also above 20!\n"
          ]
        }
      ],
      "source": [
        "x = 41\n",
        "\n",
        "if x > 10:\n",
        "  print(\"Above ten,\")\n",
        "  if x > 20:\n",
        "    print(\"and also above 20!\")\n",
        "  else:\n",
        "    print(\"but not above 20.\")"
      ]
    },
    {
      "cell_type": "code",
      "execution_count": null,
      "metadata": {
        "colab": {
          "base_uri": "https://localhost:8080/"
        },
        "id": "AkzWrYNq0UrG",
        "outputId": "808001cb-ab0c-402f-9b00-807692717526"
      },
      "outputs": [
        {
          "name": "stdout",
          "output_type": "stream",
          "text": [
            "1\n",
            "2\n",
            "3\n",
            "4\n",
            "5\n"
          ]
        }
      ],
      "source": [
        "i = 1\n",
        "while i < 6:\n",
        "  print(i)\n",
        "  i += 1"
      ]
    },
    {
      "cell_type": "code",
      "execution_count": null,
      "metadata": {
        "colab": {
          "base_uri": "https://localhost:8080/"
        },
        "id": "SpuYuHkT0cdI",
        "outputId": "acb8159b-fe25-43b0-daab-ed7b080661e0"
      },
      "outputs": [
        {
          "name": "stdout",
          "output_type": "stream",
          "text": [
            "1\n",
            "2\n",
            "3\n"
          ]
        }
      ],
      "source": [
        "i = 1\n",
        "while i < 6:\n",
        "  print(i)\n",
        "  if i == 3:\n",
        "    break\n",
        "  i += 1"
      ]
    },
    {
      "cell_type": "code",
      "execution_count": null,
      "metadata": {
        "colab": {
          "base_uri": "https://localhost:8080/"
        },
        "id": "GKn_kIbS05jf",
        "outputId": "b6c2d40e-6a1d-4040-ee11-5e90f951719e"
      },
      "outputs": [
        {
          "name": "stdout",
          "output_type": "stream",
          "text": [
            "1\n",
            "2\n",
            "4\n",
            "5\n",
            "6\n"
          ]
        }
      ],
      "source": [
        "i = 0\n",
        "while i < 6:\n",
        "  i += 1\n",
        "  if i == 3:\n",
        "    continue\n",
        "  print(i)"
      ]
    },
    {
      "cell_type": "code",
      "execution_count": null,
      "metadata": {
        "colab": {
          "base_uri": "https://localhost:8080/"
        },
        "id": "gmH9NeWe1l8m",
        "outputId": "c9030f98-0731-4724-95c8-6a58fb9332d4"
      },
      "outputs": [
        {
          "name": "stdout",
          "output_type": "stream",
          "text": [
            "1\n",
            "2\n",
            "3\n",
            "4\n",
            "5\n",
            "i is no longer less than 6\n"
          ]
        }
      ],
      "source": [
        "i = 1\n",
        "while i < 6:\n",
        "  print(i)\n",
        "  i =i+ 1\n",
        "else:\n",
        "  print(\"i is no longer less than 6\")"
      ]
    },
    {
      "cell_type": "code",
      "execution_count": null,
      "metadata": {
        "colab": {
          "base_uri": "https://localhost:8080/"
        },
        "id": "CknrOgGXG0LH",
        "outputId": "078fee67-8743-43f6-b5d3-4e9d5064a5ef"
      },
      "outputs": [
        {
          "name": "stdout",
          "output_type": "stream",
          "text": [
            "banana\n",
            "banana\n",
            "banana\n"
          ]
        }
      ],
      "source": [
        "fruits = [\"apple\", \"banana\", \"cherry\"]\n",
        "for x in fruits:\n",
        " # print(x)\n",
        "  print(fruits[1])\n",
        "print()  "
      ]
    },
    {
      "cell_type": "code",
      "execution_count": null,
      "metadata": {
        "colab": {
          "base_uri": "https://localhost:8080/"
        },
        "id": "5Ii7CdKTLDvp",
        "outputId": "d844b1db-1b12-47f0-f3b4-35ff63d3ad8b"
      },
      "outputs": [
        {
          "name": "stdout",
          "output_type": "stream",
          "text": [
            "b\n",
            "a\n",
            "n\n",
            "a\n",
            "n\n",
            "a\n"
          ]
        }
      ],
      "source": [
        "for x in \"banana\":\n",
        "  print(x)"
      ]
    },
    {
      "cell_type": "code",
      "execution_count": null,
      "metadata": {
        "colab": {
          "base_uri": "https://localhost:8080/"
        },
        "id": "-VN_UKJDLKwq",
        "outputId": "26ce129e-cc8c-410d-876f-718aeabe0eb4"
      },
      "outputs": [
        {
          "name": "stdout",
          "output_type": "stream",
          "text": [
            "apple\n",
            "banana\n"
          ]
        }
      ],
      "source": [
        "fruits = [\"apple\", \"banana\", \"cherry\"]\n",
        "for x in fruits:\n",
        "  print(x)\n",
        "  if x == \"banana\":\n",
        "    break"
      ]
    },
    {
      "cell_type": "code",
      "execution_count": null,
      "metadata": {
        "colab": {
          "base_uri": "https://localhost:8080/"
        },
        "id": "p3SlitW9MWFU",
        "outputId": "1aca8791-4db7-419c-c1f4-57bf450f6b57"
      },
      "outputs": [
        {
          "name": "stdout",
          "output_type": "stream",
          "text": [
            "apple\n"
          ]
        }
      ],
      "source": [
        "fruits = [\"apple\", \"banana\", \"cherry\"]\n",
        "for x in fruits:\n",
        "  if x == \"banana\":\n",
        "    break\n",
        "  print(x)"
      ]
    },
    {
      "cell_type": "code",
      "execution_count": null,
      "metadata": {
        "colab": {
          "base_uri": "https://localhost:8080/"
        },
        "id": "NRcf8ZHLMtGO",
        "outputId": "6c583f04-4a98-47d2-f9a3-f8c4ac60a2e9"
      },
      "outputs": [
        {
          "name": "stdout",
          "output_type": "stream",
          "text": [
            "apple\n",
            "cherry\n",
            "banana\n"
          ]
        }
      ],
      "source": [
        "fruits = [\"apple\", \"banana\", \"cherry\"]\n",
        "for x in fruits:\n",
        "  if x == \"banana\":\n",
        "    continue\n",
        "  print(x)\n",
        "print(fruits[1])  "
      ]
    },
    {
      "cell_type": "code",
      "execution_count": null,
      "metadata": {
        "colab": {
          "base_uri": "https://localhost:8080/"
        },
        "id": "cPH81G3yO3zA",
        "outputId": "d98697af-bc02-45cd-b144-c2e635083379"
      },
      "outputs": [
        {
          "name": "stdout",
          "output_type": "stream",
          "text": [
            "0\n",
            "1\n",
            "2\n",
            "3\n",
            "4\n",
            "5\n"
          ]
        }
      ],
      "source": [
        "for x in range(6):\n",
        " print(x)"
      ]
    },
    {
      "cell_type": "code",
      "execution_count": null,
      "metadata": {
        "colab": {
          "base_uri": "https://localhost:8080/"
        },
        "id": "DG2_oRMfSVz0",
        "outputId": "317ab6f5-07fe-4aeb-acf2-530c10e57dad"
      },
      "outputs": [
        {
          "name": "stdout",
          "output_type": "stream",
          "text": [
            "2\n",
            "3\n",
            "4\n",
            "5\n"
          ]
        }
      ],
      "source": [
        "for x in range(2, 6):\n",
        "  print(x)"
      ]
    },
    {
      "cell_type": "code",
      "execution_count": null,
      "metadata": {
        "colab": {
          "base_uri": "https://localhost:8080/"
        },
        "id": "99WvDZl2SaAQ",
        "outputId": "6db9e548-22db-4f39-cdc7-f2bcdb55e787"
      },
      "outputs": [
        {
          "name": "stdout",
          "output_type": "stream",
          "text": [
            "2\n",
            "5\n",
            "8\n",
            "11\n",
            "14\n",
            "17\n",
            "20\n",
            "23\n",
            "26\n",
            "29\n"
          ]
        }
      ],
      "source": [
        "for x in range(2, 30, 3):\n",
        "  print(x)"
      ]
    },
    {
      "cell_type": "code",
      "execution_count": null,
      "metadata": {
        "colab": {
          "base_uri": "https://localhost:8080/"
        },
        "id": "McBLqaooSqmb",
        "outputId": "6edaa6cd-a9b0-4c0a-ee05-40392b3b53b3"
      },
      "outputs": [
        {
          "name": "stdout",
          "output_type": "stream",
          "text": [
            "2\n",
            "5\n",
            "8\n",
            "11\n",
            "14\n",
            "17\n",
            "20\n",
            "23\n",
            "26\n",
            "29\n"
          ]
        }
      ],
      "source": [
        "for x in range(2, 30, 3):\n",
        "  print(x)"
      ]
    },
    {
      "cell_type": "code",
      "execution_count": null,
      "metadata": {
        "colab": {
          "base_uri": "https://localhost:8080/"
        },
        "id": "wKm9daG0S0hD",
        "outputId": "21e36a8e-86fb-4d70-bab6-44c58e447b7f"
      },
      "outputs": [
        {
          "name": "stdout",
          "output_type": "stream",
          "text": [
            "0\n",
            "1\n",
            "2\n",
            "3\n",
            "4\n",
            "5\n",
            "Finally finished!\n"
          ]
        }
      ],
      "source": [
        "for x in range(6):\n",
        "  print(x)\n",
        "else:\n",
        "  print(\"Finally finished!\")"
      ]
    },
    {
      "cell_type": "code",
      "execution_count": null,
      "metadata": {
        "colab": {
          "base_uri": "https://localhost:8080/"
        },
        "id": "hKiLCbg0TF6I",
        "outputId": "a1042e27-44a4-4b8b-ee63-223ef282411b"
      },
      "outputs": [
        {
          "name": "stdout",
          "output_type": "stream",
          "text": [
            "0\n",
            "1\n",
            "2\n"
          ]
        }
      ],
      "source": [
        "for x in range(6):\n",
        "  if x == 3: break\n",
        "  print(x)\n",
        "else:\n",
        "  print(\"Finally finished!\")"
      ]
    },
    {
      "cell_type": "code",
      "execution_count": null,
      "metadata": {
        "colab": {
          "base_uri": "https://localhost:8080/"
        },
        "id": "g3QzeJ8MTnWb",
        "outputId": "e805ad8d-f756-4654-db94-ab6284011e43"
      },
      "outputs": [
        {
          "name": "stdout",
          "output_type": "stream",
          "text": [
            "red apple\n",
            "red banana\n",
            "red cherry\n",
            "big apple\n",
            "big banana\n",
            "big cherry\n",
            "tasty apple\n",
            "tasty banana\n",
            "tasty cherry\n"
          ]
        }
      ],
      "source": [
        "adj = [\"red\", \"big\", \"tasty\"]\n",
        "fruits = [\"apple\", \"banana\", \"cherry\"]\n",
        "\n",
        "for x in adj:\n",
        "  for y in fruits:\n",
        "    print(x, y)"
      ]
    },
    {
      "cell_type": "code",
      "execution_count": null,
      "metadata": {
        "id": "dURxmNBvUW30"
      },
      "outputs": [],
      "source": [
        "for x in [0, 1, 2]:\n",
        "  pass"
      ]
    },
    {
      "cell_type": "code",
      "execution_count": null,
      "metadata": {
        "colab": {
          "base_uri": "https://localhost:8080/"
        },
        "id": "RfsaVTgIUnP5",
        "outputId": "420b81e3-dc5f-41a9-9915-f9c45e1d9569"
      },
      "outputs": [
        {
          "name": "stdout",
          "output_type": "stream",
          "text": [
            "Hello from a function\n"
          ]
        }
      ],
      "source": [
        "def my_function():\n",
        "  print(\"Hello from a function\")\n",
        "\n",
        "my_function()"
      ]
    },
    {
      "cell_type": "code",
      "execution_count": null,
      "metadata": {
        "colab": {
          "base_uri": "https://localhost:8080/"
        },
        "id": "WSpbYX-Xjrpg",
        "outputId": "a1f88c31-40c5-4799-ed42-d148f80b5dea"
      },
      "outputs": [
        {
          "name": "stdout",
          "output_type": "stream",
          "text": [
            "2\n",
            "4\n",
            "6\n",
            "8\n",
            "10\n",
            "12\n",
            "14\n",
            "16\n",
            "18\n",
            "20\n",
            "22\n",
            "24\n",
            "26\n",
            "28\n",
            "30\n",
            "32\n",
            "34\n",
            "36\n",
            "38\n"
          ]
        }
      ],
      "source": [
        "i=1\n",
        "while i<20:\n",
        "  y=i*2\n",
        "  print(y)\n",
        "  i+=1"
      ]
    },
    {
      "cell_type": "code",
      "execution_count": null,
      "metadata": {
        "colab": {
          "base_uri": "https://localhost:8080/"
        },
        "id": "g2S7EZ4Llex2",
        "outputId": "b79ca089-d1b2-447e-bf21-5cf3aa51969c"
      },
      "outputs": [
        {
          "name": "stdout",
          "output_type": "stream",
          "text": [
            "i =  0\n",
            "y =  1\n",
            "i =  1\n",
            "y =  2\n",
            "i =  2\n",
            "y =  4\n",
            "i =  3\n",
            "y =  7\n",
            "i =  4\n",
            "y =  11\n"
          ]
        }
      ],
      "source": [
        "i=0\n",
        "y=1\n",
        "while i<5 :\n",
        " # print(i)\n",
        "  print(\"i = \",i)\n",
        "  y=y+i\n",
        "  print(\"y = \",y)\n",
        "  i=i+1\n",
        "  "
      ]
    },
    {
      "cell_type": "code",
      "execution_count": null,
      "metadata": {
        "id": "BywTnlfNpiQA"
      },
      "outputs": [],
      "source": [
        "a=0\n",
        "b=1\n",
        "fab_ser =[]\n",
        "#print(fab_ser)\n",
        "for i in range(0,6):\n",
        "  c=a+b  \n",
        "  a=b\n",
        "  b=c\n",
        "  #print(\"i = \",i,\"a = \",a,\"b = \",b,\"c = \",c)\n",
        "  fab_ser.append(c)\n",
        "print(\"Fibonacci series = \",\"0\",\"1\",*fab_ser)   \n",
        "\n"
      ]
    },
    {
      "cell_type": "code",
      "execution_count": null,
      "metadata": {
        "colab": {
          "base_uri": "https://localhost:8080/"
        },
        "id": "FJL0Aq3GPXOj",
        "outputId": "df912f06-dad6-45c1-cfc2-ce61d0ec8db9"
      },
      "outputs": [
        {
          "name": "stdout",
          "output_type": "stream",
          "text": [
            "Fibonacci series =  0 1 1 2 3 5 8 13\n"
          ]
        }
      ],
      "source": [
        "a=0\n",
        "b=1\n",
        "fab_ser =[]\n",
        "#print(fab_ser)\n",
        "for i in range(0,6):\n",
        "  c=a+b  \n",
        "  a=b\n",
        "  b=c\n",
        "  #print(\"i = \",i,\"a = \",a,\"b = \",b,\"c = \",c)\n",
        "  fab_ser.append(c)\n",
        "print(\"Fibonacci series = \",\"0\",\"1\",*fab_ser)   \n"
      ]
    },
    {
      "cell_type": "code",
      "execution_count": null,
      "metadata": {
        "id": "jNkBbhsMWatO"
      },
      "outputs": [],
      "source": [
        "def fab_fun( ):\n",
        "    a=0\n",
        "    b=1\n",
        "    fab_ser =[]\n",
        "    #print(fab_ser)\n",
        "    for i in range(0,6):\n",
        "     c=a+b  \n",
        "     a=b\n",
        "     b=c\n",
        "     #print(\"i = \",i,\"a = \",a,\"b = \",b,\"c = \",c)\n",
        "     fab_ser.append(c)     \n",
        "    print(\"Fibonacci series = \",\"0\",\"1\",*fab_ser) \n",
        "   "
      ]
    },
    {
      "cell_type": "code",
      "execution_count": null,
      "metadata": {
        "colab": {
          "base_uri": "https://localhost:8080/"
        },
        "id": "3PkXI7AZXSGj",
        "outputId": "40b0e716-57b5-47a1-85db-7dd4f95cc831"
      },
      "outputs": [
        {
          "name": "stdout",
          "output_type": "stream",
          "text": [
            "Fibonacci series =  0 1 1 2 3 5 8 13\n"
          ]
        }
      ],
      "source": [
        "fab_fun()"
      ]
    },
    {
      "cell_type": "code",
      "execution_count": null,
      "metadata": {
        "id": "CbyZOQHFX1tB"
      },
      "outputs": [],
      "source": [
        "def fab_fun():\n",
        "  a=0\n",
        "  b=1\n",
        "  fab_ser =[0,1]\n",
        "  #print(fab_ser)\n",
        "  for i in range(0,10):\n",
        "   c=a+b  \n",
        "   a=b\n",
        "   b=c\n",
        "   #print(\"i = \",i,\"a = \",a,\"b = \",b,\"c = \",c)\n",
        "   fab_ser.append(c)     \n",
        "  #print(\"Fibonacci series = \",*fab_ser) \n",
        "  return fab_ser \n",
        " "
      ]
    },
    {
      "cell_type": "code",
      "execution_count": null,
      "metadata": {
        "colab": {
          "base_uri": "https://localhost:8080/"
        },
        "id": "zMDs7daHudx3",
        "outputId": "64e18e40-b4c6-4b43-f00d-031b5157ed6b"
      },
      "outputs": [
        {
          "name": "stdout",
          "output_type": "stream",
          "text": [
            "Fibonacci series =  [0, 1, 1, 2, 3, 5, 8, 13, 21, 34, 55, 89]\n"
          ]
        }
      ],
      "source": [
        "print(\"Fibonacci series = \",fab_fun())  "
      ]
    },
    {
      "cell_type": "markdown",
      "metadata": {
        "id": "buLvfk62uNm2"
      },
      "source": [
        "single line print "
      ]
    },
    {
      "cell_type": "code",
      "execution_count": null,
      "metadata": {
        "colab": {
          "base_uri": "https://localhost:8080/"
        },
        "id": "XKn9KfR7rq4F",
        "outputId": "5e4ca9e9-ef79-45f3-9225-9e51fe4ee403"
      },
      "outputs": [
        {
          "name": "stdout",
          "output_type": "stream",
          "text": [
            "Python@GeeksforGeeks\n",
            "\n",
            "Python\n",
            "GeeksforGeeks\n"
          ]
        }
      ],
      "source": [
        "print(\"Python\", end='@')\n",
        "print(\"GeeksforGeeks\")\n",
        "print(\"\")\n",
        "print(\"Python\")\n",
        "print(\"GeeksforGeeks\")"
      ]
    },
    {
      "cell_type": "code",
      "execution_count": null,
      "metadata": {
        "id": "exKDSx4hx8pS"
      },
      "outputs": [],
      "source": [
        "def fab_fun(x):\n",
        "  a=0\n",
        "  b=1\n",
        "  fab_ser =[0,1]\n",
        "  #print(fab_ser)\n",
        "  for i in range(0,x-2):\n",
        "   c=a+b  \n",
        "   a=b\n",
        "   b=c\n",
        "   #print(\"i = \",i,\"a = \",a,\"b = \",b,\"c = \",c)\n",
        "   fab_ser.append(c)     \n",
        "  #print(\"Fibonacci series = \",*fab_ser) \n",
        "  return fab_ser "
      ]
    },
    {
      "cell_type": "code",
      "execution_count": null,
      "metadata": {
        "colab": {
          "base_uri": "https://localhost:8080/"
        },
        "id": "MblSAjzTx_U4",
        "outputId": "cb386732-d7a1-4ae3-cb0a-6bd795e8f8f0"
      },
      "outputs": [
        {
          "name": "stdout",
          "output_type": "stream",
          "text": [
            "Fibonacci series =  [0, 1, 1, 2, 3]\n"
          ]
        }
      ],
      "source": [
        "print(\"Fibonacci series = \",fab_fun(5))"
      ]
    },
    {
      "cell_type": "code",
      "execution_count": null,
      "metadata": {
        "colab": {
          "base_uri": "https://localhost:8080/"
        },
        "id": "qVZqDnIkOrtR",
        "outputId": "9c2e096b-b710-4870-cbd3-4bb56aecb040"
      },
      "outputs": [
        {
          "name": "stdout",
          "output_type": "stream",
          "text": [
            "Mounted at /content/mount\n"
          ]
        }
      ],
      "source": [
        "from google.colab import drive\n",
        "drive.mount('/content/mount')"
      ]
    },
    {
      "cell_type": "code",
      "execution_count": null,
      "metadata": {
        "colab": {
          "base_uri": "https://localhost:8080/"
        },
        "id": "ekUGeyuZxVCp",
        "outputId": "d94c1137-a119-4723-f888-ac031caa28bd"
      },
      "outputs": [
        {
          "name": "stdout",
          "output_type": "stream",
          "text": [
            "1 , 1 , 2 , 3 , 5\n"
          ]
        }
      ],
      "source": [
        "i=0\n",
        "i1=0\n",
        "i2=1\n",
        "a=str()\n",
        "while i<5:\n",
        "      #  print(i1)\n",
        "        i3=i1+i2\n",
        "        i1=i2\n",
        "        i2=i3\n",
        "        i=i+1\n",
        "        if i == 5:\n",
        "         a +=  (str(i1) )\n",
        "        else :\n",
        "         a +=  (str(i1) +  \" , \") # this operation adds two strings i.e string \n",
        "         #i1 which was integer value to string comma.\n",
        "print(a)"
      ]
    },
    {
      "cell_type": "code",
      "execution_count": null,
      "metadata": {
        "colab": {
          "base_uri": "https://localhost:8080/"
        },
        "id": "n60KbhZTCHgc",
        "outputId": "fe0fbc29-54c6-42ac-96b0-9ac3bff22f06"
      },
      "outputs": [
        {
          "name": "stdout",
          "output_type": "stream",
          "text": [
            "hi\n",
            "hi\n",
            "\n",
            "****flat map****\n",
            "hi\n",
            "hi\n",
            "hi\n",
            "hi\n"
          ]
        }
      ],
      "source": [
        "print(\"hi\")\n",
        "print(\"hi\")\n",
        "print(\"\\n****flat map****\")\n",
        "print(\"hi\")\n",
        "print(\"hi\")\n",
        "print(\"hi\")\n",
        "print(\"hi\")"
      ]
    },
    {
      "cell_type": "code",
      "execution_count": null,
      "metadata": {
        "colab": {
          "base_uri": "https://localhost:8080/"
        },
        "id": "Wy3WXMDUEcyu",
        "outputId": "144eaf86-50a9-4454-a695-c48061d977c5"
      },
      "outputs": [
        {
          "data": {
            "text/plain": [
              "2"
            ]
          },
          "execution_count": 1,
          "metadata": {},
          "output_type": "execute_result"
        }
      ],
      "source": [
        "1+1"
      ]
    },
    {
      "cell_type": "code",
      "execution_count": null,
      "metadata": {
        "colab": {
          "base_uri": "https://localhost:8080/",
          "height": 35
        },
        "id": "d3GWMjh5FYb7",
        "outputId": "163136be-fb6c-4098-effa-af4dfc25873e"
      },
      "outputs": [
        {
          "data": {
            "application/vnd.google.colaboratory.intrinsic+json": {
              "type": "string"
            },
            "text/plain": [
              "'abcedf'"
            ]
          },
          "execution_count": 2,
          "metadata": {},
          "output_type": "execute_result"
        }
      ],
      "source": [
        "\"abc\" + \"edf\""
      ]
    },
    {
      "cell_type": "code",
      "execution_count": null,
      "metadata": {
        "colab": {
          "base_uri": "https://localhost:8080/",
          "height": 35
        },
        "id": "1L2D3sSIFsE-",
        "outputId": "c7bbc290-4fc5-48d5-ec5d-132c7ec57890"
      },
      "outputs": [
        {
          "data": {
            "application/vnd.google.colaboratory.intrinsic+json": {
              "type": "string"
            },
            "text/plain": [
              "'A.B.C'"
            ]
          },
          "execution_count": 3,
          "metadata": {},
          "output_type": "execute_result"
        }
      ],
      "source": [
        "\"a.b.c\".upper()"
      ]
    },
    {
      "cell_type": "code",
      "execution_count": null,
      "metadata": {
        "colab": {
          "base_uri": "https://localhost:8080/"
        },
        "id": "8c1jZ4DUF1Zq",
        "outputId": "64df0bbb-7027-4c29-fc65-7c687e3306fc"
      },
      "outputs": [
        {
          "name": "stdout",
          "output_type": "stream",
          "text": [
            "['welcome', 'to', 'the', 'jungle']\n"
          ]
        }
      ],
      "source": [
        "txt = \"welcome to the jungle\"\n",
        "\n",
        "x = txt.split()\n",
        "\n",
        "print(x)"
      ]
    },
    {
      "cell_type": "code",
      "execution_count": null,
      "metadata": {
        "colab": {
          "base_uri": "https://localhost:8080/"
        },
        "id": "WR5G9PMIGQ7R",
        "outputId": "d052fc42-41e1-4284-987b-816da2dd7d7e"
      },
      "outputs": [
        {
          "name": "stdout",
          "output_type": "stream",
          "text": [
            "['apple', 'banana', 'cherry', 'orange']\n"
          ]
        }
      ],
      "source": [
        "txt = \"apple#banana#cherry#orange\"\n",
        "\n",
        "x = txt.split(\"#\")\n",
        "\n",
        "print(x)"
      ]
    },
    {
      "cell_type": "code",
      "execution_count": 1,
      "metadata": {
        "colab": {
          "base_uri": "https://localhost:8080/"
        },
        "id": "kWYbSLg6lpkY",
        "outputId": "4833ddf8-6125-41a7-fcb8-a0997b049285"
      },
      "outputs": [
        {
          "name": "stdout",
          "output_type": "stream",
          "text": [
            "155\n"
          ]
        }
      ],
      "source": [
        "x = lambda a : a + 150\n",
        "print(x(5))"
      ]
    },
    {
      "cell_type": "code",
      "execution_count": 1,
      "metadata": {},
      "outputs": [
        {
          "name": "stdout",
          "output_type": "stream",
          "text": [
            "hello word\n"
          ]
        }
      ],
      "source": [
        "print(\"hello word\")"
      ]
    }
  ],
  "metadata": {
    "colab": {
      "authorship_tag": "ABX9TyN5XkvJvMXWPAlarnZNnuTs",
      "collapsed_sections": [],
      "include_colab_link": true,
      "name": "Python Learning.ipynb",
      "provenance": []
    },
    "kernelspec": {
      "display_name": "Python 3.9.12 ('base')",
      "language": "python",
      "name": "python3"
    },
    "language_info": {
      "codemirror_mode": {
        "name": "ipython",
        "version": 3
      },
      "file_extension": ".py",
      "mimetype": "text/x-python",
      "name": "python",
      "nbconvert_exporter": "python",
      "pygments_lexer": "ipython3",
      "version": "3.9.12"
    },
    "vscode": {
      "interpreter": {
        "hash": "eef1cb4a98bd34ae4cd43c0745a2cae51016b5c0c3c697cf8555d348ec241d55"
      }
    }
  },
  "nbformat": 4,
  "nbformat_minor": 0
}
