{
  "cells": [
    {
      "cell_type": "markdown",
      "metadata": {
        "id": "view-in-github",
        "colab_type": "text"
      },
      "source": [
        "<a href=\"https://colab.research.google.com/github/girishkhule/Python/blob/main/Learning/Getting_Started_Homework.ipynb\" target=\"_parent\"><img src=\"https://colab.research.google.com/assets/colab-badge.svg\" alt=\"Open In Colab\"/></a>"
      ]
    },
    {
      "cell_type": "markdown",
      "metadata": {
        "id": "m3Msr4cEsonN"
      },
      "source": [
        "# Homework"
      ]
    },
    {
      "cell_type": "markdown",
      "metadata": {
        "id": "TAWUf3BjsonP"
      },
      "source": [
        "### Problem 1\n",
        "\n",
        "Import the math module and define a function that takes a number x and returns $\\frac{x^{7} + x^{6} - x^{3}}{\\sqrt{x}}$."
      ]
    },
    {
      "cell_type": "code",
      "execution_count": null,
      "metadata": {
        "id": "mPGffBVmsonQ"
      },
      "outputs": [],
      "source": [
        "import math\n",
        "\n",
        "def solution_1(x):\n",
        "    # Your code here\n",
        "    pass"
      ]
    },
    {
      "cell_type": "markdown",
      "metadata": {
        "id": "CascPXQmsonR"
      },
      "source": [
        "### Problem 2\n",
        "\n",
        "Define a function that takes a list `L` and a value `v` as input. The function should return a list whose first element is v and the second element is the minimum value in the list and the third element is the maximum element in the list. For example:\n",
        "\n",
        "```\n",
        "L = [1,2,16,27,0,-4]\n",
        "ex_2(L, 0) ---> [0,-4,27]\n",
        "```"
      ]
    },
    {
      "cell_type": "code",
      "execution_count": null,
      "metadata": {
        "id": "bupwYxYFsonR"
      },
      "outputs": [],
      "source": [
        "def solution_2(L, v):\n",
        "    # Your code here\n",
        "    pass"
      ]
    },
    {
      "cell_type": "markdown",
      "metadata": {
        "id": "kqqw2GmisonR"
      },
      "source": [
        "### Problem 3\n",
        "\n",
        "We discussed functional operators such as `map` and `filter`. They can take a function as argument.\n",
        "- Define a function `instantiate_func_with_zero()` which takes a function as input and returns output of the input function being called with zero as an argument. More precisely, the function is like:\n",
        "```\n",
        "instantiate_func_with_zero(math.sin) ---> sin(0) ---> 0.0\n",
        "instantiate_func_with_zero(math.cos) ---> cos(0) ---> 1.0\n",
        "instantiate_func_with_zero(math.exp) ---> exp(0) ---> 1.0\n",
        "```"
      ]
    },
    {
      "cell_type": "code",
      "execution_count": null,
      "metadata": {
        "id": "crPpuSlysonS"
      },
      "outputs": [],
      "source": [
        "def instantiate_func_with_zero(func):\n",
        "    # Your code here\n",
        "    pass"
      ]
    },
    {
      "cell_type": "code",
      "execution_count": null,
      "metadata": {
        "id": "3NCdm7hTsonS",
        "outputId": "a5908119-5178-4d96-a3ff-a28344916105"
      },
      "outputs": [
        {
          "name": "stdout",
          "output_type": "stream",
          "text": [
            "None\n",
            "None\n",
            "None\n"
          ]
        }
      ],
      "source": [
        "#### Testing the results\n",
        "import math\n",
        "\n",
        "print(instantiate_func_with_zero(math.sin))\n",
        "print(instantiate_func_with_zero(math.cos))\n",
        "print(instantiate_func_with_zero(math.exp))"
      ]
    },
    {
      "cell_type": "markdown",
      "metadata": {
        "id": "Qm9-_MU2sonT"
      },
      "source": [
        "- Create a list of the function `math.sin`, `math.cos` and `math.exp`. Call this list `func_lst`."
      ]
    },
    {
      "cell_type": "code",
      "execution_count": null,
      "metadata": {
        "id": "h4NPE5q7sonT"
      },
      "outputs": [],
      "source": [
        "# Your code here\n"
      ]
    },
    {
      "cell_type": "markdown",
      "metadata": {
        "id": "P6n2ROiXsonT"
      },
      "source": [
        "- Apply all the functions in `func_lst` to 3. Do this with `map` and `lambda` expression."
      ]
    },
    {
      "cell_type": "code",
      "execution_count": null,
      "metadata": {
        "id": "TXWEf4cLsonU"
      },
      "outputs": [],
      "source": [
        "# Your code here\n"
      ]
    },
    {
      "cell_type": "markdown",
      "metadata": {
        "collapsed": true,
        "id": "xVZ03alWsonU"
      },
      "source": [
        "### Problem 4\n",
        "Define a function using filter to return all the lists whose length is a prime number from a nested list. For example:\n",
        "```\n",
        "L = [[2, 5, 4, 9], [\"kirat\", \"vohli\"], [\"nurugath\", \"rharma\", \"sohit\"]]\n",
        "ex_4(L) ---> [[\"kirat\", \"vohli\"], [\"nurugath\", \"rharma\", \"sohit\"]]\n",
        "```"
      ]
    },
    {
      "cell_type": "code",
      "execution_count": null,
      "metadata": {
        "id": "eSBsINmLsonU"
      },
      "outputs": [],
      "source": [
        "def solution_3(L):\n",
        "    # Your code here\n",
        "    pass"
      ]
    },
    {
      "cell_type": "markdown",
      "metadata": {
        "id": "Ca1y6WirsonU"
      },
      "source": [
        "### Problem 5"
      ]
    },
    {
      "cell_type": "markdown",
      "metadata": {
        "id": "-jw3IyyKsonU"
      },
      "source": [
        "- Square all the elements of the list **new_list**"
      ]
    },
    {
      "cell_type": "code",
      "execution_count": null,
      "metadata": {
        "id": "5L2m8y1FsonU"
      },
      "outputs": [],
      "source": [
        "new_list = [1,2,3]\n",
        "\n",
        "# Your code here\n"
      ]
    },
    {
      "cell_type": "markdown",
      "metadata": {
        "id": "zcP-xo3psonU"
      },
      "source": [
        "- Square all the elements in each inner list of the the nested list **nested_list**"
      ]
    },
    {
      "cell_type": "code",
      "execution_count": null,
      "metadata": {
        "id": "8i7WcNwjsonU"
      },
      "outputs": [],
      "source": [
        "nested_list = [[1,2,3],[2,3,4],[3,4,5]]\n",
        "\n",
        "# Your code here\n"
      ]
    },
    {
      "cell_type": "markdown",
      "metadata": {
        "collapsed": true,
        "id": "R3U79QEEsonV"
      },
      "source": [
        "- For the nested list **power_list**: apply a power of n to nth inner list i.e., raise each element of first inner list to the power of 1, square each element of the second and cube each element of the last one"
      ]
    },
    {
      "cell_type": "code",
      "execution_count": null,
      "metadata": {
        "id": "y6Zld4idsonV"
      },
      "outputs": [],
      "source": [
        "power_list = [[1,2,3],[2,3,4],[3,4,5]]\n",
        "\n",
        "# Your code here\n"
      ]
    },
    {
      "cell_type": "markdown",
      "metadata": {
        "id": "sqgQvDhosonV"
      },
      "source": [
        "### Problem 6\n",
        "- The function map can be used for multiple lists. Assume the list **stock_price** records the closing stock price for 6 consecutive days. Compute the daily change. \n",
        "\n",
        "**Hint**: Since we have data for 6 days, we have only 5 values for daily change."
      ]
    },
    {
      "cell_type": "code",
      "execution_count": null,
      "metadata": {
        "id": "QC-W0AXSsonV"
      },
      "outputs": [],
      "source": [
        "price=[10., 11., 12., 12., 14., 19.]\n",
        "\n",
        "# Your code here\n"
      ]
    },
    {
      "cell_type": "markdown",
      "metadata": {
        "id": "u3CV7AuhsonV"
      },
      "source": [
        "- Find the days with change greater than 8%. You need to calculate the change and report if it's the first day, second day...etc"
      ]
    },
    {
      "cell_type": "code",
      "execution_count": null,
      "metadata": {
        "id": "_ejbAd1SsonV"
      },
      "outputs": [],
      "source": [
        "# Your code here\n"
      ]
    },
    {
      "cell_type": "markdown",
      "metadata": {
        "id": "-nLOPJxWsonV"
      },
      "source": [
        "### Problem 7\n",
        "Write a function **count_occurrences** to count the number of times a substring appears in a given input string (ensure case insensitivity). The function takes in two arguments *input_string* and *substring* and returns an integer value.\n",
        "\n",
        "[optional hints] [count](https://docs.python.org/2/library/string.html#string.count), [split](https://docs.python.org/2/library/string.html#string.split) method or [find](https://docs.python.org/2/library/string.html#string.find) method might be useful.\n",
        "\n",
        "For example, *count_occurrences(\"I'm on the verge of becoming a Python hero! Upwards and Onwards!\", 'on')* should return 3."
      ]
    },
    {
      "cell_type": "code",
      "execution_count": null,
      "metadata": {
        "id": "qUw6RwQ8sonV"
      },
      "outputs": [],
      "source": [
        "def count_occurrences(input_string, substring):\n",
        "    # Your code here\n",
        "    pass"
      ]
    },
    {
      "cell_type": "code",
      "execution_count": null,
      "metadata": {
        "id": "MVJyUxF7sonW"
      },
      "outputs": [],
      "source": [
        "count_occurrences(\"I'm on the verge of becoming a Python hero! Upwards and Onwards!\", 'ON')"
      ]
    },
    {
      "cell_type": "code",
      "execution_count": null,
      "metadata": {
        "id": "2BHBvSQEsonW"
      },
      "outputs": [],
      "source": [
        "count_occurrences(\"I'm on the verge of becoming a Python hero! Upwards and Onwards!\", 'On')"
      ]
    },
    {
      "cell_type": "code",
      "execution_count": null,
      "metadata": {
        "id": "9XdbXl76sonW"
      },
      "outputs": [],
      "source": [
        "count_occurrences(\"I'm on the verge of becoming a Python hero! Upwards and Onwards!\", 'cobra')"
      ]
    },
    {
      "cell_type": "code",
      "execution_count": null,
      "metadata": {
        "id": "1nSgdhrwsonW"
      },
      "outputs": [],
      "source": [
        "count_occurrences(\"I'm on the verge of becoming a Python hero! Upwards and Onwards!\", '')"
      ]
    },
    {
      "cell_type": "markdown",
      "metadata": {
        "id": "FBjNTjaZsonW"
      },
      "source": [
        "### Problem 8\n",
        "Write a function **reverse_sentence** to reverse order the words in a sentence. The function should take in as argument an input sentence *input_sentence* and return a new sentence with all words reversed.\n",
        "\n",
        "For example *reverse_sentence(\"Sohit Rharma is a better captain than Kirat Vohli\")* should return \"Vohli Kirat than captain better a is Rharma Sohit\"."
      ]
    },
    {
      "cell_type": "code",
      "execution_count": null,
      "metadata": {
        "id": "N7MxpnxnsonW"
      },
      "outputs": [],
      "source": [
        "def reverse_sentence(input_sentence):\n",
        "    # Your code here\n",
        "    pass"
      ]
    },
    {
      "cell_type": "code",
      "execution_count": null,
      "metadata": {
        "id": "vYZ-VeocsonW"
      },
      "outputs": [],
      "source": [
        "reverse_sentence(\"Sohit Rharma is a better captain than Kirat Vohli\")"
      ]
    }
  ],
  "metadata": {
    "kernelspec": {
      "display_name": "Python 3 (ipykernel)",
      "language": "python",
      "name": "python3"
    },
    "language_info": {
      "codemirror_mode": {
        "name": "ipython",
        "version": 3
      },
      "file_extension": ".py",
      "mimetype": "text/x-python",
      "name": "python",
      "nbconvert_exporter": "python",
      "pygments_lexer": "ipython3",
      "version": "3.9.7"
    },
    "colab": {
      "name": "Getting_Started_Homework.ipynb",
      "provenance": [],
      "include_colab_link": true
    }
  },
  "nbformat": 4,
  "nbformat_minor": 0
}