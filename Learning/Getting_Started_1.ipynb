{
  "cells": [
    {
      "cell_type": "markdown",
      "metadata": {
        "id": "view-in-github",
        "colab_type": "text"
      },
      "source": [
        "<a href=\"https://colab.research.google.com/github/girishkhule/Python/blob/main/Learning/Getting_Started_1.ipynb\" target=\"_parent\"><img src=\"https://colab.research.google.com/assets/colab-badge.svg\" alt=\"Open In Colab\"/></a>"
      ]
    },
    {
      "cell_type": "markdown",
      "metadata": {
        "id": "0-BBsWQIse57"
      },
      "source": [
        "# Values and Expressions"
      ]
    },
    {
      "cell_type": "code",
      "execution_count": null,
      "metadata": {
        "id": "74MDqSaQse59",
        "outputId": "f311634c-efc8-4d10-bb38-44731bcb59b3"
      },
      "outputs": [
        {
          "data": {
            "text/plain": [
              "10"
            ]
          },
          "execution_count": 1,
          "metadata": {},
          "output_type": "execute_result"
        }
      ],
      "source": [
        "# Comments in Python start with the hash character - # , and extend to the end of the line\n",
        "# This is a new comment\n",
        "\n",
        "4 + 2 * 3 # Check the order of operations"
      ]
    },
    {
      "cell_type": "code",
      "execution_count": null,
      "metadata": {
        "id": "qBN9RDeese5_",
        "outputId": "cd0d7df9-41c4-4901-e8b0-e3939f017e4a"
      },
      "outputs": [
        {
          "data": {
            "text/plain": [
              "18"
            ]
          },
          "execution_count": 2,
          "metadata": {},
          "output_type": "execute_result"
        }
      ],
      "source": [
        "(4 + 2) * 3 # Check the order of operations"
      ]
    },
    {
      "cell_type": "markdown",
      "metadata": {
        "id": "7iplMxYYse5_"
      },
      "source": [
        "iPython notebook shows only the last statement in each cell. To see all items in a cell, we may use the `print` **function**:"
      ]
    },
    {
      "cell_type": "code",
      "execution_count": null,
      "metadata": {
        "id": "_ItAoVpWse5_",
        "outputId": "0a37f4df-f692-49cf-c947-2457c690f809"
      },
      "outputs": [
        {
          "name": "stdout",
          "output_type": "stream",
          "text": [
            "10\n",
            "18\n"
          ]
        }
      ],
      "source": [
        "print(4 + 2 * 3)\n",
        "print((4 + 2) * 3)"
      ]
    },
    {
      "cell_type": "code",
      "execution_count": null,
      "metadata": {
        "id": "seXksbcbse6A",
        "outputId": "ed8dfa67-025c-4c91-ed1a-3edc78051907"
      },
      "outputs": [
        {
          "name": "stdout",
          "output_type": "stream",
          "text": [
            "5.0\n",
            "2\n",
            "6\n",
            "6.0\n",
            "243\n"
          ]
        }
      ],
      "source": [
        "# Some more examples of operations\n",
        "print(15 / 3)     # int / int -> float\n",
        "print(20 % 3)     # gives the remainder\n",
        "print(20 // 3)    # floor division - > gives the truncated quotient\n",
        "print(20 // 3.0)  # return float if one of the values is float \n",
        "print(3 ** 5)     # 3 to the power of 5"
      ]
    },
    {
      "cell_type": "markdown",
      "metadata": {
        "id": "NK40o-1bse6A"
      },
      "source": [
        "We can split a line (if it is too long) either by enclosing the expression in brackets or by adding a \\ at the end"
      ]
    },
    {
      "cell_type": "code",
      "execution_count": null,
      "metadata": {
        "id": "gj4xMMiase6B",
        "outputId": "eb6d3585-e35f-4146-c473-6487e4e40925"
      },
      "outputs": [
        {
          "data": {
            "text/plain": [
              "341.77777777777777"
            ]
          },
          "execution_count": 7,
          "metadata": {},
          "output_type": "execute_result"
        }
      ],
      "source": [
        "9 * (8 + 6 * 5) + 7 / 3 ** 2 - 1"
      ]
    },
    {
      "cell_type": "code",
      "execution_count": null,
      "metadata": {
        "id": "qXGC5M_fse6B",
        "outputId": "66329441-123c-45c0-b1b9-bccc289cc8ae"
      },
      "outputs": [
        {
          "data": {
            "text/plain": [
              "341.77777777777777"
            ]
          },
          "execution_count": 8,
          "metadata": {},
          "output_type": "execute_result"
        }
      ],
      "source": [
        "(9 * (8 + 6 * 5)    # use brackets\n",
        "          + 7 / 3 ** 2 - 1)"
      ]
    },
    {
      "cell_type": "code",
      "execution_count": null,
      "metadata": {
        "id": "leeHLakvse6C",
        "outputId": "74bc5854-5d72-4cb1-e11b-e13c3d57752a"
      },
      "outputs": [
        {
          "data": {
            "text/plain": [
              "341.77777777777777"
            ]
          },
          "execution_count": 9,
          "metadata": {},
          "output_type": "execute_result"
        }
      ],
      "source": [
        "9 * (8 + 6 * 5) \\\n",
        "      + 7 / 3 ** 2 - 1     # use backslash"
      ]
    },
    {
      "cell_type": "markdown",
      "metadata": {
        "id": "fAW_3tyMse6C"
      },
      "source": [
        "Variables"
      ]
    },
    {
      "cell_type": "code",
      "execution_count": null,
      "metadata": {
        "id": "yRfDDpsbse6C"
      },
      "outputs": [],
      "source": [
        "# Assigning values to variables using using a '='\n",
        "a = 50\n",
        "b = 5.5\n",
        "c = 3/10"
      ]
    },
    {
      "cell_type": "markdown",
      "metadata": {
        "id": "KPVgE4CZse6D"
      },
      "source": [
        "Self assignment is a common operation so there is a shorthand notation:\n",
        "\n",
        "- `a=a+b` <----> `a+=b`\n",
        "- `a=a-b` <----> `a-=b`\n",
        "- `a=a*b` <----> `a*=b`\n",
        "- `a=a/b` <----> `a/=b`"
      ]
    },
    {
      "cell_type": "code",
      "execution_count": null,
      "metadata": {
        "id": "Ym0qpvAOse6D",
        "outputId": "9daa0350-b002-4756-d2c4-406bf0e17ef4"
      },
      "outputs": [
        {
          "name": "stdout",
          "output_type": "stream",
          "text": [
            "55.5\n",
            "55.5\n"
          ]
        }
      ],
      "source": [
        "# a = a+b is the same as a +=b\n",
        "a = 50\n",
        "a = a+b\n",
        "print(a)\n",
        "\n",
        "a = 50\n",
        "a += b\n",
        "print(a)"
      ]
    },
    {
      "cell_type": "markdown",
      "metadata": {
        "id": "zuYlzYfsse6D"
      },
      "source": [
        "Similarly a = a - b is the same as a -= b, a = a\\*b is the same as a\\*=b, a = a/b is the same as a/=b"
      ]
    },
    {
      "cell_type": "markdown",
      "metadata": {
        "id": "2wOidJKIse6D"
      },
      "source": [
        "## In-built functions"
      ]
    },
    {
      "cell_type": "code",
      "execution_count": null,
      "metadata": {
        "id": "vDunTOT5se6E",
        "outputId": "757d4663-4646-4e49-b2e5-eaa47fc2d412"
      },
      "outputs": [
        {
          "data": {
            "text/plain": [
              "5.0"
            ]
          },
          "execution_count": 19,
          "metadata": {},
          "output_type": "execute_result"
        }
      ],
      "source": [
        "abs(-5.0) # gives absolute value"
      ]
    },
    {
      "cell_type": "markdown",
      "metadata": {
        "id": "OeiY5F1xse6E"
      },
      "source": [
        "### Importing modules"
      ]
    },
    {
      "cell_type": "code",
      "execution_count": null,
      "metadata": {
        "id": "SIjWv3Bhse6E",
        "outputId": "d1d445e3-9acb-4a32-acd0-0df6f8911cdd"
      },
      "outputs": [
        {
          "data": {
            "text/plain": [
              "720"
            ]
          },
          "execution_count": 13,
          "metadata": {},
          "output_type": "execute_result"
        }
      ],
      "source": [
        "import math          # importing the math module\n",
        "math.factorial(6)    # using the factorial function"
      ]
    },
    {
      "cell_type": "code",
      "execution_count": null,
      "metadata": {
        "id": "QBNfStz0se6E",
        "outputId": "ec749b22-ce1b-4c36-e7e9-c05fbe3eb88a"
      },
      "outputs": [
        {
          "data": {
            "text/plain": [
              "0.4090633846028262"
            ]
          },
          "execution_count": 14,
          "metadata": {},
          "output_type": "execute_result"
        }
      ],
      "source": [
        "import numpy as np # importing numpy with np as the alias, which we can use later\n",
        "np.random.random() # using np to generate a random number"
      ]
    },
    {
      "cell_type": "code",
      "execution_count": null,
      "metadata": {
        "id": "Al7yXtD-se6E",
        "outputId": "9cb6265c-76a6-4545-dc7f-a8a1eb3c0a37"
      },
      "outputs": [
        {
          "data": {
            "text/plain": [
              "720"
            ]
          },
          "execution_count": 15,
          "metadata": {},
          "output_type": "execute_result"
        }
      ],
      "source": [
        "from math import *  # this imports all contents of module\n",
        "factorial(6)        # no module name"
      ]
    },
    {
      "cell_type": "markdown",
      "metadata": {
        "id": "SxFTP_9Fse6F"
      },
      "source": [
        "## Functions"
      ]
    },
    {
      "cell_type": "code",
      "execution_count": null,
      "metadata": {
        "id": "PsDAX1e3se6F"
      },
      "outputs": [],
      "source": [
        "# Define a function using 'def' followed by a function name\n",
        "#In the brackets you can specify the input variable/argument. e.g. here we have one input which we have named x\n",
        "\n",
        "def double(x):\n",
        "    return 2*x # the lines in the function have to be indented"
      ]
    },
    {
      "cell_type": "code",
      "execution_count": null,
      "metadata": {
        "id": "N8dYUuJEse6F",
        "outputId": "d380cdd3-7d11-443f-d7da-3008ec15dc61"
      },
      "outputs": [
        {
          "data": {
            "text/plain": [
              "4"
            ]
          },
          "execution_count": 21,
          "metadata": {},
          "output_type": "execute_result"
        }
      ],
      "source": [
        "double(2)"
      ]
    },
    {
      "cell_type": "markdown",
      "metadata": {
        "id": "t28MTnv6se6F"
      },
      "source": [
        "We can also use lambda functions"
      ]
    },
    {
      "cell_type": "code",
      "execution_count": null,
      "metadata": {
        "id": "uQsvPVbIse6F",
        "outputId": "d7af51e9-875d-4883-89ea-a8767fb0a29a"
      },
      "outputs": [
        {
          "data": {
            "text/plain": [
              "4"
            ]
          },
          "execution_count": 22,
          "metadata": {},
          "output_type": "execute_result"
        }
      ],
      "source": [
        "Double = lambda x: 2*x # we write lambda followed by the argument, and then specify what the function should do\n",
        "Double(2)"
      ]
    },
    {
      "cell_type": "code",
      "execution_count": null,
      "metadata": {
        "id": "FZl36MS7se6F"
      },
      "outputs": [],
      "source": [
        "# defining a function to add squares of two arguments\n",
        "def add_squares(x, y):\n",
        "    return (x**2 + y**2)\n",
        "\n",
        "# Using lambda notation to do the same thing\n",
        "Add_squares = lambda x, y: (x**2 + y**2)"
      ]
    },
    {
      "cell_type": "code",
      "execution_count": null,
      "metadata": {
        "id": "vFPbKaoose6G",
        "outputId": "e42147a1-37e3-406a-8ca5-c9f0c0f7bd90"
      },
      "outputs": [
        {
          "name": "stdout",
          "output_type": "stream",
          "text": [
            "25\n",
            "25\n"
          ]
        }
      ],
      "source": [
        "print(add_squares(3,4))\n",
        "print(Add_squares(3,4))"
      ]
    },
    {
      "cell_type": "markdown",
      "metadata": {
        "id": "TIYoBonbse6G"
      },
      "source": [
        "**Exercise 1**\n",
        "\n",
        "- Define a function that calculates the area of a circle, taking the radius as the input. Define it with both **def** and **lambda**, calling them area and Area, respectively.\n",
        " \n",
        "- Calculate the area of a circle with radius 7 using both functions."
      ]
    },
    {
      "cell_type": "code",
      "execution_count": null,
      "metadata": {
        "id": "G6Pcio9kse6G",
        "outputId": "2190783a-0f17-4eec-a615-5baf0a8a1c02"
      },
      "outputs": [
        {
          "ename": "IndentationError",
          "evalue": "expected an indented block (2868126373.py, line 4)",
          "output_type": "error",
          "traceback": [
            "\u001b[0;36m  Input \u001b[0;32mIn [25]\u001b[0;36m\u001b[0m\n\u001b[0;31m    \u001b[0m\n\u001b[0m    ^\u001b[0m\n\u001b[0;31mIndentationError\u001b[0m\u001b[0;31m:\u001b[0m expected an indented block\n"
          ]
        }
      ],
      "source": [
        "#### Write your code here\n",
        "import math\n",
        "def area(r):\n",
        "    "
      ]
    },
    {
      "cell_type": "code",
      "execution_count": null,
      "metadata": {
        "id": "lmfTpElFse6G",
        "outputId": "6357ebab-f25f-4ad6-b680-1b126f787a19"
      },
      "outputs": [
        {
          "ename": "SyntaxError",
          "evalue": "invalid syntax (2581335930.py, line 2)",
          "output_type": "error",
          "traceback": [
            "\u001b[0;36m  Input \u001b[0;32mIn [26]\u001b[0;36m\u001b[0m\n\u001b[0;31m    Area = lambda r:\u001b[0m\n\u001b[0m                     ^\u001b[0m\n\u001b[0;31mSyntaxError\u001b[0m\u001b[0;31m:\u001b[0m invalid syntax\n"
          ]
        }
      ],
      "source": [
        "#### Write your code here\n",
        "Area = lambda r: "
      ]
    },
    {
      "cell_type": "markdown",
      "metadata": {
        "id": "HxEIrDBuse6G"
      },
      "source": [
        "- Lists allow us to store multiple items in a single variable. List items are ordered, changeable, and allow duplicate values. \n",
        "- Examples:  `[a, b, c],  [5, 2, 3, 4],  [7.5, 9.0, 2]`\n",
        "- Strings are sequences of characters. Examples:  `'This is an example of a string'`  "
      ]
    },
    {
      "cell_type": "code",
      "execution_count": null,
      "metadata": {
        "id": "gz9QsWZFse6G",
        "outputId": "fc5202a8-256b-48d3-a227-65b034d8aede"
      },
      "outputs": [
        {
          "data": {
            "text/plain": [
              "[1, 5, 6, 8, 11, 15, 'a', 'b', 'c', 'd']"
            ]
          },
          "execution_count": 27,
          "metadata": {},
          "output_type": "execute_result"
        }
      ],
      "source": [
        "numbers = [1,5, 6, 8, 11, 15]\n",
        "letters = ['a','b','c','d']\n",
        "numbers + letters # add two lists"
      ]
    },
    {
      "cell_type": "markdown",
      "metadata": {
        "id": "9GYcW_CKse6G"
      },
      "source": [
        "The `len()` function gives the length of a list (number of items in the list):"
      ]
    },
    {
      "cell_type": "code",
      "execution_count": null,
      "metadata": {
        "id": "NSNvBD3dse6H",
        "outputId": "942c3603-f9e6-4baa-a9c3-4f93f315c09a"
      },
      "outputs": [
        {
          "name": "stdout",
          "output_type": "stream",
          "text": [
            "6\n",
            "4\n",
            "10\n"
          ]
        }
      ],
      "source": [
        "print(len(numbers))\n",
        "print(len(letters))\n",
        "print(len(numbers + letters))"
      ]
    },
    {
      "cell_type": "markdown",
      "metadata": {
        "id": "TH21IG_Tse6H"
      },
      "source": [
        "The `range` function gives an object representing a list of integers.  To get the list we can cast the range object to a list as follows:"
      ]
    },
    {
      "cell_type": "code",
      "execution_count": null,
      "metadata": {
        "id": "8QpwsTFFse6H",
        "outputId": "a1403ff6-40be-4bb3-9495-5a49ed9a1b0b"
      },
      "outputs": [
        {
          "name": "stdout",
          "output_type": "stream",
          "text": [
            "range(0, 5)\n",
            "[0, 1, 2, 3, 4]\n",
            "[0, 1, 2, 3, 4, 5, 6, 7, 8, 9]\n",
            "[0, 1, 2, 3, 4, 5, 6, 7, 8, 9]\n",
            "[0, 2, 4, 6, 8]\n",
            "[10, 9, 8, 7, 6, 5, 4, 3, 2]\n"
          ]
        }
      ],
      "source": [
        "print(range(5))\n",
        "print(list(range(5)))\n",
        "print(list(range(0, 10)))\n",
        "print(list(range(0, 10, 1))) # specified increment by 1 in the third argument\n",
        "print(list(range(0, 10, 2))) # specified increment by 2 in the third argument\n",
        "print(list(range(10, 1, -1))) # gives descending by the use of -1"
      ]
    },
    {
      "cell_type": "markdown",
      "metadata": {
        "id": "Li-AL1ELse6H"
      },
      "source": [
        "Other operations on lists\n"
      ]
    },
    {
      "cell_type": "code",
      "execution_count": null,
      "metadata": {
        "id": "CzLt6Q5-se6H",
        "outputId": "89f41c8c-9177-49e5-c497-630a5fc42005"
      },
      "outputs": [
        {
          "name": "stdout",
          "output_type": "stream",
          "text": [
            "46\n",
            "d\n"
          ]
        }
      ],
      "source": [
        "print(sum(numbers))\n",
        "print(max(letters))"
      ]
    },
    {
      "cell_type": "code",
      "execution_count": null,
      "metadata": {
        "id": "gipjj-G7se6H",
        "outputId": "05bde62b-b70b-410d-c33c-86735485e862"
      },
      "outputs": [
        {
          "data": {
            "text/plain": [
              "[1, 2, 3, 4, 7]"
            ]
          },
          "execution_count": 31,
          "metadata": {},
          "output_type": "execute_result"
        }
      ],
      "source": [
        "sorted([7, 1, 4, 3, 2]) # sort a list"
      ]
    },
    {
      "cell_type": "code",
      "execution_count": null,
      "metadata": {
        "id": "FiECzUiise6H",
        "outputId": "82736bf8-ca2e-490b-eaf1-f37cc344402e"
      },
      "outputs": [
        {
          "data": {
            "text/plain": [
              "['Abc', 'aaaa', 'abc', 'ice-cream', 'random']"
            ]
          },
          "execution_count": 32,
          "metadata": {},
          "output_type": "execute_result"
        }
      ],
      "source": [
        "words=['Abc','abc','random','aaaa','ice-cream']\n",
        "sorted(words)"
      ]
    },
    {
      "cell_type": "code",
      "execution_count": null,
      "metadata": {
        "id": "vjeHIzEAse6H",
        "outputId": "c54dde11-e232-4ae3-9c20-a7909592ab49"
      },
      "outputs": [
        {
          "data": {
            "text/plain": [
              "['random', 'ice-cream', 'abc', 'aaaa', 'Abc']"
            ]
          },
          "execution_count": 33,
          "metadata": {},
          "output_type": "execute_result"
        }
      ],
      "source": [
        "sorted(words, reverse=True)"
      ]
    },
    {
      "cell_type": "code",
      "execution_count": null,
      "metadata": {
        "id": "2CZfqaKFse6H",
        "outputId": "a791b3a7-9b8f-4fa6-8e71-5e87018c45c5"
      },
      "outputs": [
        {
          "data": {
            "text/plain": [
              "['Abc', 'abc', 'aaaa', 'random', 'ice-cream']"
            ]
          },
          "execution_count": 34,
          "metadata": {},
          "output_type": "execute_result"
        }
      ],
      "source": [
        "sorted(words, key=len) # sorts by length of the word"
      ]
    },
    {
      "cell_type": "code",
      "execution_count": null,
      "metadata": {
        "id": "HVPBbQ8Yse6H",
        "outputId": "ceb941f1-310b-4f0b-b123-88f78964fd9f"
      },
      "outputs": [
        {
          "data": {
            "text/plain": [
              "['Abc', 'abc', 'random', 'aaaa', 'ice-cream']"
            ]
          },
          "execution_count": 35,
          "metadata": {},
          "output_type": "execute_result"
        }
      ],
      "source": [
        "words"
      ]
    },
    {
      "cell_type": "markdown",
      "metadata": {
        "id": "dLjMiMc5se6I"
      },
      "source": [
        "Using indices in lists to access the items"
      ]
    },
    {
      "cell_type": "code",
      "execution_count": null,
      "metadata": {
        "id": "IepIBugvse6I",
        "outputId": "2a3676ae-7337-46d1-816c-c3ab60ef9012"
      },
      "outputs": [
        {
          "name": "stdout",
          "output_type": "stream",
          "text": [
            "8\n",
            "15\n"
          ]
        },
        {
          "ename": "IndexError",
          "evalue": "list index out of range",
          "output_type": "error",
          "traceback": [
            "\u001b[0;31m---------------------------------------------------------------------------\u001b[0m",
            "\u001b[0;31mIndexError\u001b[0m                                Traceback (most recent call last)",
            "Input \u001b[0;32mIn [36]\u001b[0m, in \u001b[0;36m<cell line: 3>\u001b[0;34m()\u001b[0m\n\u001b[1;32m      1\u001b[0m \u001b[38;5;28mprint\u001b[39m(numbers[\u001b[38;5;241m3\u001b[39m])\n\u001b[1;32m      2\u001b[0m \u001b[38;5;28mprint\u001b[39m(numbers[\u001b[38;5;241m-\u001b[39m\u001b[38;5;241m1\u001b[39m])\n\u001b[0;32m----> 3\u001b[0m \u001b[38;5;28mprint\u001b[39m(\u001b[43mnumbers\u001b[49m\u001b[43m[\u001b[49m\u001b[38;5;241;43m6\u001b[39;49m\u001b[43m]\u001b[49m)\n",
            "\u001b[0;31mIndexError\u001b[0m: list index out of range"
          ]
        }
      ],
      "source": [
        "print(numbers[3])\n",
        "print(numbers[-1])\n",
        "print(numbers[6])   # What happens here?"
      ]
    },
    {
      "cell_type": "code",
      "execution_count": null,
      "metadata": {
        "id": "XdxlG_dzse6I",
        "outputId": "33c71b2f-24a1-4bdc-bd0e-becfb6f6d3e7"
      },
      "outputs": [
        {
          "name": "stdout",
          "output_type": "stream",
          "text": [
            "[1, 5, 6, 8, 11, 15]\n",
            "[5, 6]\n",
            "[6, 8, 11, 15]\n",
            "[1, 5, 6]\n"
          ]
        }
      ],
      "source": [
        "print(numbers)\n",
        "print(numbers[1:3]) # starts at second and ends at third item = index of 2 (indices start from 0)\n",
        "print(numbers[2:]) # starts at 2nd index (third item) and goes till the end\n",
        "print(numbers[:3]) # starts at the beginning and ends at 2nd index"
      ]
    },
    {
      "cell_type": "code",
      "execution_count": null,
      "metadata": {
        "id": "Cl54zaFpse6I",
        "outputId": "7e136fa5-c687-40c0-9435-980dca20d06f"
      },
      "outputs": [
        {
          "name": "stdout",
          "output_type": "stream",
          "text": [
            "['b', 'c', 'd']\n",
            "['b', 'd']\n",
            "[15, 11, 8, 6, 5, 1]\n",
            "[15, 11, 8, 6, 5, 1, 'd', 'c', 'b', 'a']\n",
            "[5, 6, 8, 11, 15]\n"
          ]
        }
      ],
      "source": [
        "print(letters[1:])\n",
        "print(letters[1::2])\n",
        "print(numbers[::-1])\n",
        "print((letters+numbers)[-1::-1])\n",
        "print(numbers[1:50]) # Will we get an error here?"
      ]
    },
    {
      "cell_type": "code",
      "execution_count": null,
      "metadata": {
        "id": "kVZYK0tAse6I",
        "outputId": "74aa133b-ad9f-4dff-fdc1-3e15a962ec6a"
      },
      "outputs": [
        {
          "name": "stdout",
          "output_type": "stream",
          "text": [
            "[1, 5, 6, 8, 11, 15]\n",
            "[1, 6, 11]\n",
            "[5, 8]\n"
          ]
        }
      ],
      "source": [
        "print(numbers)\n",
        "print(numbers[::2])\n",
        "print(numbers[1:5:2])"
      ]
    },
    {
      "cell_type": "markdown",
      "metadata": {
        "id": "88maVoR2se6I"
      },
      "source": [
        "To return the index of a value within a list, we can use `list.index()` and as the input pass the value we want to search."
      ]
    },
    {
      "cell_type": "code",
      "execution_count": null,
      "metadata": {
        "id": "2F2IQT8qse6I",
        "outputId": "3612da6e-b9c9-4d4d-dd53-5f31e3a3509c"
      },
      "outputs": [
        {
          "data": {
            "text/plain": [
              "2"
            ]
          },
          "execution_count": 40,
          "metadata": {},
          "output_type": "execute_result"
        }
      ],
      "source": [
        "numbers.index(6)"
      ]
    },
    {
      "cell_type": "markdown",
      "metadata": {
        "id": "Sh4hdDVTse6I"
      },
      "source": [
        "Iterators"
      ]
    },
    {
      "cell_type": "code",
      "execution_count": null,
      "metadata": {
        "id": "q2js8mzase6I",
        "outputId": "289fd2d2-fe18-45ac-e5dc-b4c37c3fdc6b"
      },
      "outputs": [
        {
          "data": {
            "text/plain": [
              "<list_iterator at 0x107599640>"
            ]
          },
          "execution_count": 41,
          "metadata": {},
          "output_type": "execute_result"
        }
      ],
      "source": [
        "m = [3,4,5,6]\n",
        "m_iter = iter(m)\n",
        "m_iter"
      ]
    },
    {
      "cell_type": "markdown",
      "metadata": {
        "id": "2IklPEvpse6I"
      },
      "source": [
        "Run the following cell until an error is returned."
      ]
    },
    {
      "cell_type": "code",
      "execution_count": null,
      "metadata": {
        "id": "55KGaCmZse6I",
        "outputId": "c1956109-00f9-4a34-914d-b0128152e7a3"
      },
      "outputs": [
        {
          "data": {
            "text/plain": [
              "3"
            ]
          },
          "execution_count": 42,
          "metadata": {},
          "output_type": "execute_result"
        }
      ],
      "source": [
        "next(m_iter)"
      ]
    },
    {
      "cell_type": "markdown",
      "metadata": {
        "id": "-w0eR33Hse6J"
      },
      "source": [
        "Using the `list` function will return the remaining elements of the iterable as list."
      ]
    },
    {
      "cell_type": "code",
      "execution_count": null,
      "metadata": {
        "id": "PeGeSPVGse6J",
        "outputId": "183d568b-cefa-497f-fe7e-f334c7457d91"
      },
      "outputs": [
        {
          "name": "stdout",
          "output_type": "stream",
          "text": [
            "3\n"
          ]
        },
        {
          "data": {
            "text/plain": [
              "[4, 5, 6]"
            ]
          },
          "execution_count": 43,
          "metadata": {},
          "output_type": "execute_result"
        }
      ],
      "source": [
        "x = [3,4,5,6]\n",
        "x_iter = iter(x)\n",
        "print(next(x_iter))\n",
        "list(x_iter)"
      ]
    },
    {
      "cell_type": "markdown",
      "metadata": {
        "id": "AFiKfdQVse6J"
      },
      "source": [
        "Examples of functions with lists"
      ]
    },
    {
      "cell_type": "code",
      "execution_count": null,
      "metadata": {
        "id": "lGT95P0Fse6J",
        "outputId": "0cae7878-356e-44ce-b45e-a42e66ec8b27"
      },
      "outputs": [
        {
          "name": "stdout",
          "output_type": "stream",
          "text": [
            "1\n",
            "1\n"
          ]
        }
      ],
      "source": [
        "def return_first_element(input_list):\n",
        "    return input_list[0]\n",
        "\n",
        "return_first_element_lambda = lambda input_list: input_list[0]\n",
        "\n",
        "print(return_first_element(numbers))\n",
        "print(return_first_element_lambda(numbers))"
      ]
    },
    {
      "cell_type": "markdown",
      "metadata": {
        "id": "21KcVfXxse6J"
      },
      "source": [
        "**Exercise 2** \n",
        "\n",
        "- Define the following function with both def and lambda: A function that returns the sum of the alternate elements of a list starting from the first.\n",
        "\n",
        "```\n",
        "example_func([1, 2, 3, 4, 5, 6]) ---> 9\n",
        "\n",
        "```"
      ]
    },
    {
      "cell_type": "code",
      "execution_count": null,
      "metadata": {
        "id": "0jGgryzzse6J"
      },
      "outputs": [],
      "source": [
        "#### Your code here - def\n"
      ]
    },
    {
      "cell_type": "code",
      "execution_count": null,
      "metadata": {
        "id": "wz3UmloHse6J"
      },
      "outputs": [],
      "source": [
        "#### Your code here - lambda\n"
      ]
    },
    {
      "cell_type": "markdown",
      "metadata": {
        "id": "feG-CTJCse6J"
      },
      "source": [
        "Lists within lists"
      ]
    },
    {
      "cell_type": "code",
      "execution_count": null,
      "metadata": {
        "id": "3VQLCwZfse6J",
        "outputId": "36d3cde3-f388-4b90-b8a2-54941354e9a4"
      },
      "outputs": [
        {
          "data": {
            "text/plain": [
              "5"
            ]
          },
          "execution_count": 47,
          "metadata": {},
          "output_type": "execute_result"
        }
      ],
      "source": [
        "x = [[], 2, ['xy', 'dg'], [1, 2, 3, 4, 5],[2,3]] # This list has 5 items - an empty list, 2, list containing xy and dg, and two more lists with numbers/integers\n",
        "len(x)"
      ]
    },
    {
      "cell_type": "code",
      "execution_count": null,
      "metadata": {
        "id": "KyVMIHoUse6J",
        "outputId": "46c2f180-4f13-4fd0-8eb8-6d0bb3a5fa9c"
      },
      "outputs": [
        {
          "name": "stdout",
          "output_type": "stream",
          "text": [
            "2\n"
          ]
        }
      ],
      "source": [
        "y = [['a', 'b', 'c'], 2]\n",
        "print(len(y))"
      ]
    },
    {
      "cell_type": "code",
      "execution_count": null,
      "metadata": {
        "id": "KxXINvVJse6J",
        "outputId": "c3c469ed-c853-4128-a8cc-86fc3024f25d"
      },
      "outputs": [
        {
          "data": {
            "text/plain": [
              "['xy', 'dg']"
            ]
          },
          "execution_count": 49,
          "metadata": {},
          "output_type": "execute_result"
        }
      ],
      "source": [
        "x[2] #accessing the item in index = 2 (third item)"
      ]
    },
    {
      "cell_type": "code",
      "execution_count": null,
      "metadata": {
        "id": "JTqFYo1jse6K",
        "outputId": "c163b7c3-fe5f-4bf7-9c2c-8ee62b9843b1"
      },
      "outputs": [
        {
          "data": {
            "text/plain": [
              "'xy'"
            ]
          },
          "execution_count": 50,
          "metadata": {},
          "output_type": "execute_result"
        }
      ],
      "source": [
        "x[2][0] #access first item of the third item in the list x (Third item is [xy, dg])"
      ]
    },
    {
      "cell_type": "code",
      "execution_count": null,
      "metadata": {
        "id": "mE8UEq-3se6K",
        "outputId": "30cceed4-9718-4c6b-de98-214da71f308c"
      },
      "outputs": [
        {
          "data": {
            "text/plain": [
              "[[], 2, ['xy', 'dg'], [1, 2, 3, 4, 5], [2, 3], ['a', 'b', 'c'], 2]"
            ]
          },
          "execution_count": 51,
          "metadata": {},
          "output_type": "execute_result"
        }
      ],
      "source": [
        "x + y # merging two lists"
      ]
    },
    {
      "cell_type": "markdown",
      "metadata": {
        "id": "fZACvFnsse6K"
      },
      "source": [
        "# Functional Operators\n",
        "\n",
        "`map`\n",
        "\n",
        "- Helps to apply a function to all elements of a list.\n",
        "- The `map` function returns a map object, which is an **iterator**.  To get the list we can use the `list` function."
      ]
    },
    {
      "cell_type": "code",
      "execution_count": null,
      "metadata": {
        "id": "haKH8JlEse6K",
        "outputId": "7294275b-beac-42dd-d46f-3169c5945e60"
      },
      "outputs": [
        {
          "ename": "TypeError",
          "evalue": "must be real number, not list",
          "output_type": "error",
          "traceback": [
            "\u001b[0;31m---------------------------------------------------------------------------\u001b[0m",
            "\u001b[0;31mTypeError\u001b[0m                                 Traceback (most recent call last)",
            "Input \u001b[0;32mIn [52]\u001b[0m, in \u001b[0;36m<cell line: 1>\u001b[0;34m()\u001b[0m\n\u001b[0;32m----> 1\u001b[0m \u001b[43mmath\u001b[49m\u001b[38;5;241;43m.\u001b[39;49m\u001b[43msqrt\u001b[49m\u001b[43m(\u001b[49m\u001b[43m[\u001b[49m\u001b[38;5;241;43m25\u001b[39;49m\u001b[43m,\u001b[49m\u001b[38;5;241;43m36\u001b[39;49m\u001b[43m,\u001b[49m\u001b[38;5;241;43m49\u001b[39;49m\u001b[43m,\u001b[49m\u001b[38;5;241;43m64\u001b[39;49m\u001b[43m]\u001b[49m\u001b[43m)\u001b[49m\n",
            "\u001b[0;31mTypeError\u001b[0m: must be real number, not list"
          ]
        }
      ],
      "source": [
        "math.sqrt([25,36,49,64]) # Will this work?"
      ]
    },
    {
      "cell_type": "code",
      "execution_count": null,
      "metadata": {
        "id": "cOI5tplAse6K",
        "outputId": "ae001f84-b46c-47c1-f56b-9b20b721e552"
      },
      "outputs": [
        {
          "data": {
            "text/plain": [
              "<map at 0x106481460>"
            ]
          },
          "execution_count": 53,
          "metadata": {},
          "output_type": "execute_result"
        }
      ],
      "source": [
        "list_numbers = [25,36,49,64]\n",
        "map(math.sqrt, list_numbers) # will return iterator"
      ]
    },
    {
      "cell_type": "code",
      "execution_count": null,
      "metadata": {
        "id": "Udr40gkzse6K",
        "outputId": "23a35857-c6dd-4102-e69a-aa3170133c1a"
      },
      "outputs": [
        {
          "data": {
            "text/plain": [
              "[5.0, 6.0, 7.0, 8.0]"
            ]
          },
          "execution_count": 54,
          "metadata": {},
          "output_type": "execute_result"
        }
      ],
      "source": [
        "list(map(math.sqrt, list_numbers)) # will return the result of the applying the function to each element of the list"
      ]
    },
    {
      "cell_type": "markdown",
      "metadata": {
        "id": "AA3VT9lRse6K"
      },
      "source": [
        "You can apply any one-argument function, as long as the values in the list are of the type that function expects."
      ]
    },
    {
      "cell_type": "code",
      "execution_count": null,
      "metadata": {
        "id": "LHM7aoPtse6K",
        "outputId": "54d80120-4d0f-4266-deda-9c3531b2b83e"
      },
      "outputs": [
        {
          "name": "stdout",
          "output_type": "stream",
          "text": [
            "[0, 2, 5]\n"
          ]
        }
      ],
      "source": [
        "list1 = [[], [\"b\", \"a\"], [1, 2, 3, 4, 5]]\n",
        "m = list(map(len, list1)) #len applied to each item in list1\n",
        "print(m)"
      ]
    },
    {
      "cell_type": "code",
      "execution_count": null,
      "metadata": {
        "id": "cJT_VcgLse6K",
        "outputId": "4598757b-c748-46c6-cbc1-6db2af938449"
      },
      "outputs": [
        {
          "data": {
            "text/plain": [
              "[2, 10, 12, 16, 22, 30]"
            ]
          },
          "execution_count": 56,
          "metadata": {},
          "output_type": "execute_result"
        }
      ],
      "source": [
        "# Let's use the double function on each item of the list called numbers\n",
        "list(map(double, numbers))"
      ]
    },
    {
      "cell_type": "markdown",
      "metadata": {
        "id": "6NEvskQBse6K"
      },
      "source": [
        "**Exercise 3**\n",
        "\n",
        "- Write a function to cube every element of a numeric list.\n",
        "```\n",
        "cube_func([1, 2, 3]) ---> [1, 8, 27]\n",
        "```\n",
        "- Write a function that returns the second element of every list in a nested list.\n",
        "```\n",
        "get_second_item([[3, 2, 4, 5], [2, 3, 4], [1, 6, 5, 9]]) ---> [2, 3, 6]\n",
        "```\n",
        "- Write a function that finds the total length of the lists in a nested list.\n",
        "```\n",
        "find_length([[1, 2, 3, 6], [2, 4, 5], [1, 6, 7, 8]]) ---> 11\n",
        "```"
      ]
    },
    {
      "cell_type": "code",
      "execution_count": null,
      "metadata": {
        "id": "up3ZItv-se6K"
      },
      "outputs": [],
      "source": [
        "#### Your code here with def\n",
        "\n",
        "#1\n",
        "\n"
      ]
    },
    {
      "cell_type": "code",
      "execution_count": null,
      "metadata": {
        "id": "pLjN8B36se6L"
      },
      "outputs": [],
      "source": [
        "#### Your code here with lambda\n",
        "\n"
      ]
    },
    {
      "cell_type": "code",
      "execution_count": null,
      "metadata": {
        "id": "sum6S1kVse6L"
      },
      "outputs": [],
      "source": [
        "#### Your code here with def\n",
        "\n",
        "#2\n",
        "\n"
      ]
    },
    {
      "cell_type": "code",
      "execution_count": null,
      "metadata": {
        "id": "JBZPZDfFse6L"
      },
      "outputs": [],
      "source": [
        "#### Your code here with lambda\n"
      ]
    },
    {
      "cell_type": "code",
      "execution_count": null,
      "metadata": {
        "id": "umVTj0kZse6L"
      },
      "outputs": [],
      "source": [
        "#### Your code here with def \n",
        "\n",
        "#3\n"
      ]
    },
    {
      "cell_type": "code",
      "execution_count": null,
      "metadata": {
        "id": "YZEUzRFkse6L"
      },
      "outputs": [],
      "source": [
        "#### Your code here with lambda"
      ]
    },
    {
      "cell_type": "markdown",
      "metadata": {
        "collapsed": true,
        "id": "TSbjSyZ6se6L"
      },
      "source": [
        "## Boolean Functions"
      ]
    },
    {
      "cell_type": "code",
      "execution_count": null,
      "metadata": {
        "id": "VO0HyH_ese6L",
        "outputId": "f75826b1-4962-4020-d7c2-4375e6cca15e"
      },
      "outputs": [
        {
          "name": "stdout",
          "output_type": "stream",
          "text": [
            "True\n",
            "True\n",
            "False\n"
          ]
        }
      ],
      "source": [
        "#or\n",
        "print(True or True)\n",
        "print(True or False)\n",
        "print(False or False)"
      ]
    },
    {
      "cell_type": "code",
      "execution_count": null,
      "metadata": {
        "id": "i3LCuSLbse6L",
        "outputId": "c22bf3b1-85d2-42ae-f5a6-0766e3b37943"
      },
      "outputs": [
        {
          "name": "stdout",
          "output_type": "stream",
          "text": [
            "True\n",
            "False\n",
            "False\n"
          ]
        }
      ],
      "source": [
        "#and\n",
        "print(True and True)\n",
        "print(True and False)\n",
        "print(False and False)"
      ]
    },
    {
      "cell_type": "code",
      "execution_count": null,
      "metadata": {
        "id": "qI8SbePZse6L",
        "outputId": "6e1680c7-d93e-47a6-8608-9083a594b1ef"
      },
      "outputs": [
        {
          "data": {
            "text/plain": [
              "False"
            ]
          },
          "execution_count": 65,
          "metadata": {},
          "output_type": "execute_result"
        }
      ],
      "source": [
        "not True"
      ]
    },
    {
      "cell_type": "code",
      "execution_count": null,
      "metadata": {
        "id": "cItt9-PHse6L",
        "outputId": "769a75d7-c2a2-4d00-b773-3273c9becb56"
      },
      "outputs": [
        {
          "data": {
            "text/plain": [
              "True"
            ]
          },
          "execution_count": 66,
          "metadata": {},
          "output_type": "execute_result"
        }
      ],
      "source": [
        "True == 1"
      ]
    },
    {
      "cell_type": "code",
      "execution_count": null,
      "metadata": {
        "id": "MTkOPhuRse6L",
        "outputId": "8803e13d-89ad-4ba2-a819-c4821b5ddfc6"
      },
      "outputs": [
        {
          "data": {
            "text/plain": [
              "True"
            ]
          },
          "execution_count": 67,
          "metadata": {},
          "output_type": "execute_result"
        }
      ],
      "source": [
        "False == 0"
      ]
    },
    {
      "cell_type": "code",
      "execution_count": null,
      "metadata": {
        "id": "jD80PqZNse6L"
      },
      "outputs": [],
      "source": [
        "a = b = [1,2,3]\n",
        "c = [1,2,3]"
      ]
    },
    {
      "cell_type": "code",
      "execution_count": null,
      "metadata": {
        "id": "k0XkWudtse6L",
        "outputId": "e885ae96-1e29-4996-f24c-6eb72d64eede"
      },
      "outputs": [
        {
          "name": "stdout",
          "output_type": "stream",
          "text": [
            "True\n",
            "True\n"
          ]
        }
      ],
      "source": [
        "print(a == b)\n",
        "print(a == c)"
      ]
    },
    {
      "cell_type": "code",
      "execution_count": null,
      "metadata": {
        "id": "_jEZL03lse6M",
        "outputId": "6a3e16ea-e005-4dcc-d436-4bf1c9ba6f95"
      },
      "outputs": [
        {
          "name": "stdout",
          "output_type": "stream",
          "text": [
            "True\n",
            "False\n"
          ]
        }
      ],
      "source": [
        "# The is operator is different from ==\n",
        "print(a is b)\n",
        "print(a is c)"
      ]
    },
    {
      "cell_type": "code",
      "execution_count": null,
      "metadata": {
        "id": "jkIqEX-sse6M",
        "outputId": "4dd4718c-1c17-4f5f-a54b-9aba444fef50"
      },
      "outputs": [
        {
          "name": "stdout",
          "output_type": "stream",
          "text": [
            "True\n"
          ]
        }
      ],
      "source": [
        "x = 6\n",
        "print(x > 3 and x < 8)"
      ]
    },
    {
      "cell_type": "code",
      "execution_count": null,
      "metadata": {
        "id": "uTo6j-dBse6M",
        "outputId": "cc7b1470-cfa6-4ad6-b432-62cbdcd5497d"
      },
      "outputs": [
        {
          "name": "stdout",
          "output_type": "stream",
          "text": [
            "True\n"
          ]
        }
      ],
      "source": [
        "print(x != -2 or x >= 10)"
      ]
    },
    {
      "cell_type": "code",
      "execution_count": null,
      "metadata": {
        "id": "SwuU5uf5se6M"
      },
      "outputs": [],
      "source": [
        "# Test whether a list is empty\n",
        "def is_empty_list(input_list):\n",
        "    return input_list == []\n",
        "\n",
        "is_empty_list_lambda = lambda input_list: input_list == []"
      ]
    },
    {
      "cell_type": "code",
      "execution_count": null,
      "metadata": {
        "id": "6YdPDqhOse6M",
        "outputId": "48ebf9e9-4d0d-4b6a-b5d9-871c32a070db"
      },
      "outputs": [
        {
          "name": "stdout",
          "output_type": "stream",
          "text": [
            "False\n",
            "False\n",
            "True\n"
          ]
        }
      ],
      "source": [
        "print(is_empty_list(numbers))\n",
        "print(is_empty_list_lambda(numbers))\n",
        "print(is_empty_list_lambda([]))"
      ]
    },
    {
      "cell_type": "markdown",
      "metadata": {
        "id": "GWIyRC8wse6M"
      },
      "source": [
        "### `filter`\n",
        "\n",
        "Filter extracts elements of a list satisfying some condition. The condition is given in the form of a boolean function.\n",
        "\n",
        "The `filter` function also returns an iterator object. We can Use `list` to get the output list."
      ]
    },
    {
      "cell_type": "code",
      "execution_count": null,
      "metadata": {
        "id": "4iHZdwKpse6M"
      },
      "outputs": [],
      "source": [
        "def not_zero(x):\n",
        "    return x != 0"
      ]
    },
    {
      "cell_type": "code",
      "execution_count": null,
      "metadata": {
        "id": "62hFF9qTse6M",
        "outputId": "591a0c0d-6b75-4d6a-db0f-acf94a84ce88"
      },
      "outputs": [
        {
          "name": "stdout",
          "output_type": "stream",
          "text": [
            "True\n",
            "False\n"
          ]
        }
      ],
      "source": [
        "print(not_zero(1))\n",
        "print(not_zero(0))"
      ]
    },
    {
      "cell_type": "code",
      "execution_count": null,
      "metadata": {
        "id": "NquNNOHgse6M",
        "outputId": "5b95802e-5750-480a-c2e0-315ed6d8dc59"
      },
      "outputs": [
        {
          "data": {
            "text/plain": [
              "<filter at 0x1064a73d0>"
            ]
          },
          "execution_count": 77,
          "metadata": {},
          "output_type": "execute_result"
        }
      ],
      "source": [
        "# Get a list of all the non-zero elements of a list\n",
        "filter(not_zero, [3, 2, 0, -3, 0, -5])"
      ]
    },
    {
      "cell_type": "code",
      "execution_count": null,
      "metadata": {
        "id": "q02AM7dAse6M",
        "outputId": "dae74067-d22c-42c7-8b47-bdfcab477b7e"
      },
      "outputs": [
        {
          "data": {
            "text/plain": [
              "[3, 2, -3, -5]"
            ]
          },
          "execution_count": 78,
          "metadata": {},
          "output_type": "execute_result"
        }
      ],
      "source": [
        "list(filter(not_zero, [3, 2, 0, -3, 0, -5]))"
      ]
    },
    {
      "cell_type": "code",
      "execution_count": null,
      "metadata": {
        "id": "K2EWCYEUse6M"
      },
      "outputs": [],
      "source": [
        "# Return all the non-empty lists from a nested list\n",
        "def list_is_not_empty(input_list):\n",
        "    return input_list != []"
      ]
    },
    {
      "cell_type": "code",
      "execution_count": null,
      "metadata": {
        "id": "Da9jnb5_se6M",
        "outputId": "69e03c3c-5f72-4f5c-cbb3-c7548f932763"
      },
      "outputs": [
        {
          "data": {
            "text/plain": [
              "[[3, 2, 1, 4], [4, 5, 6], [[]]]"
            ]
          },
          "execution_count": 80,
          "metadata": {},
          "output_type": "execute_result"
        }
      ],
      "source": [
        "list(filter(list_is_not_empty, [[], [3, 2, 1, 4], [], [4, 5, 6], [],[[]]]))"
      ]
    },
    {
      "cell_type": "code",
      "execution_count": null,
      "metadata": {
        "id": "Sgd1yrLmse6N",
        "outputId": "e953b319-53f9-470f-b791-15b0320438c9"
      },
      "outputs": [
        {
          "data": {
            "text/plain": [
              "['b', 1]"
            ]
          },
          "execution_count": 81,
          "metadata": {},
          "output_type": "execute_result"
        }
      ],
      "source": [
        "list(map(return_first_element, filter(list_is_not_empty, list1)))"
      ]
    },
    {
      "cell_type": "code",
      "execution_count": null,
      "metadata": {
        "id": "UzF3QAlIse6N",
        "outputId": "99433ac8-e175-4378-ee3f-ada71dba19e8"
      },
      "outputs": [
        {
          "data": {
            "text/plain": [
              "[[], ['b', 'a'], [1, 2, 3, 4, 5]]"
            ]
          },
          "execution_count": 82,
          "metadata": {},
          "output_type": "execute_result"
        }
      ],
      "source": [
        "list1"
      ]
    },
    {
      "cell_type": "markdown",
      "metadata": {
        "id": "Udwx1Wh9se6N"
      },
      "source": [
        "**Exercise 4**\n",
        "\n",
        "- Write a boolean function that tests whether the first two elements of a list are in increasing order.\n",
        "```\n",
        "func([3, 5, 4, 9]) ---> True\n",
        "func([2, 2, 5, 0]) ---> False\n",
        "```\n",
        "\n",
        "- Write a function that selects from a nested list only those lists that satisfy the condition above in func:\n",
        "```\n",
        "func_list([[3, 5, 4, 9], [5, 5], [2, 3, 4, 5]]) \n",
        "    ---> [[3, 5, 4, 9], [2, 3, 4, 5]]\n",
        "```"
      ]
    },
    {
      "cell_type": "code",
      "execution_count": null,
      "metadata": {
        "id": "HpSN4puWse6N"
      },
      "outputs": [],
      "source": [
        "#### Your code here def and lambda\n",
        "\n",
        "#1\n"
      ]
    },
    {
      "cell_type": "code",
      "execution_count": null,
      "metadata": {
        "id": "MDv1I4Fgse6N"
      },
      "outputs": [],
      "source": [
        "#### Your code here def and lambda\n",
        "\n",
        "#2\n",
        "\n"
      ]
    },
    {
      "cell_type": "markdown",
      "metadata": {
        "id": "RRvrAHsSse6N"
      },
      "source": [
        "Some more examples"
      ]
    },
    {
      "cell_type": "code",
      "execution_count": null,
      "metadata": {
        "id": "KCGR_awDse6N",
        "outputId": "d0d1cec2-acb7-4e05-c8c0-0582d5a430e8"
      },
      "outputs": [
        {
          "data": {
            "text/plain": [
              "[11, 22, 33, 44]"
            ]
          },
          "execution_count": 85,
          "metadata": {},
          "output_type": "execute_result"
        }
      ],
      "source": [
        "list(map(lambda x, y: x+y, [1,2,3,4], [10,20,30,40])) # [1+10, 2+20, 3+30, 4+40]"
      ]
    },
    {
      "cell_type": "code",
      "execution_count": null,
      "metadata": {
        "id": "Sqn2_rIYse6N",
        "outputId": "dbf8ab14-1867-4f39-d2d5-e9f23b78be4a"
      },
      "outputs": [
        {
          "data": {
            "text/plain": [
              "[1, 3]"
            ]
          },
          "execution_count": 86,
          "metadata": {},
          "output_type": "execute_result"
        }
      ],
      "source": [
        "list(map(lambda x, y: x[y], [[1, 2], [2, 3]], [0, 1])) # [[1, 2][0], [2, 3][1]]"
      ]
    },
    {
      "cell_type": "markdown",
      "metadata": {
        "id": "oTTVwinOse6N"
      },
      "source": [
        "`zip` is a binary function that takes two lists and makes one list containing pairs of corresponding elements of the two lists."
      ]
    },
    {
      "cell_type": "code",
      "execution_count": null,
      "metadata": {
        "id": "QSDfbvtpse6N",
        "outputId": "645c79cb-7eac-4946-e7d8-04376c39e9c8"
      },
      "outputs": [
        {
          "data": {
            "text/plain": [
              "[(1, 10), (2, 11), (3, 12), (4, 13)]"
            ]
          },
          "execution_count": 87,
          "metadata": {},
          "output_type": "execute_result"
        }
      ],
      "source": [
        "a = [1, 2, 3, 4]\n",
        "b = [10, 11, 12, 13]\n",
        "list(zip(a, b))"
      ]
    },
    {
      "cell_type": "code",
      "execution_count": null,
      "metadata": {
        "id": "_6Bf6hDGse6N",
        "outputId": "60e98317-76bb-4ab8-ec6f-e48f9d2b62dc"
      },
      "outputs": [
        {
          "data": {
            "text/plain": [
              "[(1, 10), (2, 11), (3, 12)]"
            ]
          },
          "execution_count": 88,
          "metadata": {},
          "output_type": "execute_result"
        }
      ],
      "source": [
        "a = [1, 2, 3, 4]\n",
        "b = [10, 11, 12]\n",
        "list(zip(a, b))"
      ]
    },
    {
      "cell_type": "code",
      "execution_count": null,
      "metadata": {
        "id": "-iIt1SZese6N",
        "outputId": "1f1a8105-1226-4497-c709-e505482e12e1"
      },
      "outputs": [
        {
          "data": {
            "text/plain": [
              "[11, 13, 15]"
            ]
          },
          "execution_count": 89,
          "metadata": {},
          "output_type": "execute_result"
        }
      ],
      "source": [
        "list(map(lambda p: p[0]+p[1], zip(a, b)))"
      ]
    },
    {
      "cell_type": "code",
      "execution_count": null,
      "metadata": {
        "id": "Zx4f7Fxvse6N",
        "outputId": "035eeddf-5c22-4875-f4d7-68d5ad748ea2"
      },
      "outputs": [
        {
          "data": {
            "text/plain": [
              "[(1, 5, 9), (2, 6, 10), (3, 7, 11)]"
            ]
          },
          "execution_count": 90,
          "metadata": {},
          "output_type": "execute_result"
        }
      ],
      "source": [
        "a = [1, 2, 3]\n",
        "b = [5, 6, 7]\n",
        "c = [9, 10, 11]\n",
        "list(zip(a, b, c))"
      ]
    },
    {
      "cell_type": "code",
      "execution_count": null,
      "metadata": {
        "id": "UvtxF3kIse6O",
        "outputId": "38d2d6cf-57ac-4b8b-9dba-62eaa4eec9c1"
      },
      "outputs": [
        {
          "data": {
            "text/plain": [
              "[15, 18, 21]"
            ]
          },
          "execution_count": 91,
          "metadata": {},
          "output_type": "execute_result"
        }
      ],
      "source": [
        "list(map(lambda t: t[0]+t[1]+t[2], zip(a,b,c)))"
      ]
    },
    {
      "cell_type": "code",
      "execution_count": null,
      "metadata": {
        "id": "Fx71mXacse6O",
        "outputId": "c5b37cac-cbe8-46c7-927a-1090d7922c8e"
      },
      "outputs": [
        {
          "data": {
            "text/plain": [
              "[15, 18, 21]"
            ]
          },
          "execution_count": 92,
          "metadata": {},
          "output_type": "execute_result"
        }
      ],
      "source": [
        "list(map(lambda x, y, z: x+y+z, a, b, c))"
      ]
    },
    {
      "cell_type": "markdown",
      "metadata": {
        "id": "nv9koihXse6O"
      },
      "source": [
        "\n",
        "# String operations\n"
      ]
    },
    {
      "cell_type": "code",
      "execution_count": null,
      "metadata": {
        "id": "FuR85CE_se6O",
        "outputId": "c15685a6-0c3b-4a8d-d079-8a83396b986e"
      },
      "outputs": [
        {
          "data": {
            "text/plain": [
              "'Hello world!'"
            ]
          },
          "execution_count": 93,
          "metadata": {},
          "output_type": "execute_result"
        }
      ],
      "source": [
        "s1 = 'Hello world!'\n",
        "s1"
      ]
    },
    {
      "cell_type": "code",
      "execution_count": null,
      "metadata": {
        "id": "V8Ol4Mqqse6O",
        "outputId": "c5076d47-0161-4de0-a66a-b2eda19e1972"
      },
      "outputs": [
        {
          "data": {
            "text/plain": [
              "'Hello world!'"
            ]
          },
          "execution_count": 94,
          "metadata": {},
          "output_type": "execute_result"
        }
      ],
      "source": [
        "s2 = \"Hello world!\"\n",
        "s2"
      ]
    },
    {
      "cell_type": "markdown",
      "metadata": {
        "id": "bp5TJ85vse6O"
      },
      "source": [
        "Within a string, special symbols can be included by using escape character `(\\)`. Examples are `\\t` for tab and `\\n` for newline."
      ]
    },
    {
      "cell_type": "code",
      "execution_count": null,
      "metadata": {
        "id": "P_J2a0ckse6O",
        "outputId": "290e5b62-b015-4df7-819a-bba8435966f3"
      },
      "outputs": [
        {
          "name": "stdout",
          "output_type": "stream",
          "text": [
            "this\tis\ta\ttab\n",
            "that\n",
            "is\n",
            "a\n",
            "newline\n"
          ]
        }
      ],
      "source": [
        "print('this', 'is', 'a', 'tab', sep='\\t')\n",
        "print('that', 'is', 'a', 'newline', sep='\\n')"
      ]
    },
    {
      "cell_type": "markdown",
      "metadata": {
        "id": "POkIh_tCse6O"
      },
      "source": [
        "Note that we can enclose double quotes by single quotes. But the single quotes included in a string need to be modified with escaped chatacter"
      ]
    },
    {
      "cell_type": "code",
      "execution_count": null,
      "metadata": {
        "id": "yU6p19mcse6O",
        "outputId": "b6f327b7-63bf-4be4-844b-93c83b5c0f72"
      },
      "outputs": [
        {
          "ename": "SyntaxError",
          "evalue": "invalid syntax (3201398953.py, line 1)",
          "output_type": "error",
          "traceback": [
            "\u001b[0;36m  Input \u001b[0;32mIn [96]\u001b[0;36m\u001b[0m\n\u001b[0;31m    sent = '\"Isn't that,\" she said.'\u001b[0m\n\u001b[0m                 ^\u001b[0m\n\u001b[0;31mSyntaxError\u001b[0m\u001b[0;31m:\u001b[0m invalid syntax\n"
          ]
        }
      ],
      "source": [
        "sent = '\"Isn't that,\" she said.'"
      ]
    },
    {
      "cell_type": "markdown",
      "metadata": {
        "id": "6Qa6BOxwse6O"
      },
      "source": [
        "The `print()` function produces a more readable output by omitting enclosing quotes as well as escaped characters and special symbols:"
      ]
    },
    {
      "cell_type": "code",
      "execution_count": null,
      "metadata": {
        "id": "mxU6z0Kjse6O",
        "outputId": "0613b557-7bc7-4a7d-eb14-ec1a64d185d3"
      },
      "outputs": [
        {
          "name": "stdout",
          "output_type": "stream",
          "text": [
            "\"Isn't that,\" she said.\n"
          ]
        }
      ],
      "source": [
        "sent = '\"Isn\\'t that,\" she said.'\n",
        "print(sent)"
      ]
    },
    {
      "cell_type": "markdown",
      "metadata": {
        "id": "mRkyZr8wse6O"
      },
      "source": [
        "If you don't want the characters prefaced by `\\ ` to be interpreted as special characters, you can use raw strings by adding an `r` before the first quote: "
      ]
    },
    {
      "cell_type": "code",
      "execution_count": null,
      "metadata": {
        "id": "lvTjFBNdse6P",
        "outputId": "c739616f-b45e-461a-f3be-933f92deddc5"
      },
      "outputs": [
        {
          "name": "stdout",
          "output_type": "stream",
          "text": [
            "C:\\some\n",
            "ame\n"
          ]
        }
      ],
      "source": [
        "print('C:\\some\\name')"
      ]
    },
    {
      "cell_type": "code",
      "execution_count": null,
      "metadata": {
        "id": "FMAbcj_Dse6P",
        "outputId": "80a3a1f3-65ff-47e6-d23f-38977d9e529c"
      },
      "outputs": [
        {
          "data": {
            "text/plain": [
              "11"
            ]
          },
          "execution_count": 99,
          "metadata": {},
          "output_type": "execute_result"
        }
      ],
      "source": [
        "len('C:\\some\\name')"
      ]
    },
    {
      "cell_type": "markdown",
      "metadata": {
        "id": "wFyLJbzSse6P"
      },
      "source": [
        "Above, `\\n` is interpreted as one special character. To avoid that, add `r` in front of the first quote, then `\\n` become two chatacters."
      ]
    },
    {
      "cell_type": "code",
      "execution_count": null,
      "metadata": {
        "id": "O3o4wli1se6P",
        "outputId": "affbf109-7f5d-45af-b8ec-65cabc916365"
      },
      "outputs": [
        {
          "name": "stdout",
          "output_type": "stream",
          "text": [
            "C:\\some\\name\n"
          ]
        }
      ],
      "source": [
        "print(r'C:\\some\\name')"
      ]
    },
    {
      "cell_type": "code",
      "execution_count": null,
      "metadata": {
        "id": "iB0eXgC4se6P",
        "outputId": "8d9cc2ec-71f0-4fd6-c1d7-7909ab9adbc4"
      },
      "outputs": [
        {
          "data": {
            "text/plain": [
              "12"
            ]
          },
          "execution_count": 101,
          "metadata": {},
          "output_type": "execute_result"
        }
      ],
      "source": [
        "len(r'C:\\some\\name')"
      ]
    },
    {
      "cell_type": "markdown",
      "metadata": {
        "id": "d0Z89U4Sse6P"
      },
      "source": [
        "A string is normally coded in one line, but it can also be broken into multiple lines of code by adding `\\ ` in the very last position of each line."
      ]
    },
    {
      "cell_type": "code",
      "execution_count": null,
      "metadata": {
        "id": "i6JTIZAXse6P",
        "outputId": "07205b81-78c9-4543-ad64-5fcd25f6ff61"
      },
      "outputs": [
        {
          "name": "stdout",
          "output_type": "stream",
          "text": [
            "This is an example line that is broken into two lines\n"
          ]
        }
      ],
      "source": [
        "longquote = 'This is an example line \\\n",
        "that is broken into two lines'\n",
        "\n",
        "print(longquote)"
      ]
    },
    {
      "cell_type": "code",
      "execution_count": null,
      "metadata": {
        "id": "9fmq-A-2se6P",
        "outputId": "64f7955f-3389-4dae-a4ec-b90ebb065965"
      },
      "outputs": [
        {
          "name": "stdout",
          "output_type": "stream",
          "text": [
            "This is a particularly long line\n",
            "that is broken into two lines\n"
          ]
        }
      ],
      "source": [
        "longquote = '''This is a particularly long line\n",
        "that is broken into two lines'''\n",
        "\n",
        "print(longquote)"
      ]
    },
    {
      "cell_type": "markdown",
      "metadata": {
        "id": "IBYmc05Mse6P"
      },
      "source": [
        "Multiline quotes are often used to describe functions"
      ]
    },
    {
      "cell_type": "code",
      "execution_count": null,
      "metadata": {
        "id": "Hsldc6sPse6P"
      },
      "outputs": [],
      "source": [
        "def double(x):\n",
        "    '''\n",
        "    This function takes a numeric number as input and returns its double\n",
        "    Parameters:\n",
        "    ----------\n",
        "    x: numeric numbers\n",
        "    \n",
        "    Returns:\n",
        "    -------\n",
        "    2*x\n",
        "    '''\n",
        "    return 2*x"
      ]
    },
    {
      "cell_type": "code",
      "execution_count": null,
      "metadata": {
        "id": "wpogyALGse6Q",
        "outputId": "f730602d-7174-44b3-d589-25b7bc8695b2"
      },
      "outputs": [
        {
          "data": {
            "text/plain": [
              "4"
            ]
          },
          "execution_count": 105,
          "metadata": {},
          "output_type": "execute_result"
        }
      ],
      "source": [
        "double(2)"
      ]
    },
    {
      "cell_type": "markdown",
      "metadata": {
        "id": "yt2OkQD8se6Q"
      },
      "source": [
        "Strings are similar to lists when it comes to subscripts and slices. We can subscipt and slice, as well as use `+` to concatenate strings.\n",
        "Empty space does count as a character."
      ]
    },
    {
      "cell_type": "code",
      "execution_count": null,
      "metadata": {
        "id": "Feh5_9irse6Q",
        "outputId": "caebe366-36cb-4937-9f87-cf7a24ee21d0"
      },
      "outputs": [
        {
          "data": {
            "text/plain": [
              "'u'"
            ]
          },
          "execution_count": 106,
          "metadata": {},
          "output_type": "execute_result"
        }
      ],
      "source": [
        "s = 'Superman is flying'\n",
        "s[1]"
      ]
    },
    {
      "cell_type": "code",
      "execution_count": null,
      "metadata": {
        "id": "snuYWW1jse6Q",
        "outputId": "38717efd-cd6c-4a69-a04d-11db66606ae4"
      },
      "outputs": [
        {
          "data": {
            "text/plain": [
              "'erm'"
            ]
          },
          "execution_count": 107,
          "metadata": {},
          "output_type": "execute_result"
        }
      ],
      "source": [
        "s[3:6]"
      ]
    },
    {
      "cell_type": "code",
      "execution_count": null,
      "metadata": {
        "id": "ZKdNqgtMse6Q",
        "outputId": "dd9cf001-78eb-4faa-be0a-63244364fab3"
      },
      "outputs": [
        {
          "data": {
            "text/plain": [
              "'Superman is flying and so am I.'"
            ]
          },
          "execution_count": 108,
          "metadata": {},
          "output_type": "execute_result"
        }
      ],
      "source": [
        "s + ' and so am I.'"
      ]
    },
    {
      "cell_type": "markdown",
      "metadata": {
        "id": "1ebpbvKKse6Q"
      },
      "source": [
        "Convert a string to a list of single-character strings using the function `list()`:"
      ]
    },
    {
      "cell_type": "code",
      "execution_count": null,
      "metadata": {
        "id": "0afkscO-se6Q",
        "outputId": "e1c0e4e3-d7f6-4f7f-8636-982b631097a1"
      },
      "outputs": [
        {
          "data": {
            "text/plain": [
              "['S', 'u', 'p', 'e', 'r', 'm', 'a', 'n']"
            ]
          },
          "execution_count": 109,
          "metadata": {},
          "output_type": "execute_result"
        }
      ],
      "source": [
        "list('Superman')"
      ]
    },
    {
      "cell_type": "code",
      "execution_count": null,
      "metadata": {
        "id": "10_LSO99se6Q"
      },
      "outputs": [],
      "source": [
        "x = ['S', 'u', 'p', 'e', 'r', 'm', 'a', 'n']"
      ]
    },
    {
      "cell_type": "markdown",
      "metadata": {
        "id": "iHjmmf4Pse6Q"
      },
      "source": [
        "The join function"
      ]
    },
    {
      "cell_type": "code",
      "execution_count": null,
      "metadata": {
        "ExecuteTime": {
          "end_time": "2019-10-01T13:37:06.553752Z",
          "start_time": "2019-10-01T13:37:06.544746Z"
        },
        "id": "FDRSW1bSse6Q",
        "outputId": "6ff8db90-8686-40cb-b143-bbf5a553856b"
      },
      "outputs": [
        {
          "data": {
            "text/plain": [
              "'Superman'"
            ]
          },
          "execution_count": 111,
          "metadata": {},
          "output_type": "execute_result"
        }
      ],
      "source": [
        "\"\".join(x)"
      ]
    },
    {
      "cell_type": "code",
      "execution_count": null,
      "metadata": {
        "id": "jSUFjnXbse6Q",
        "outputId": "e4affa69-4df1-40ed-f619-c918bf43480e"
      },
      "outputs": [
        {
          "data": {
            "text/plain": [
              "'S.u.p.e.r.m.a.n'"
            ]
          },
          "execution_count": 112,
          "metadata": {},
          "output_type": "execute_result"
        }
      ],
      "source": [
        "'.'.join(x)"
      ]
    },
    {
      "cell_type": "markdown",
      "metadata": {
        "id": "JUQfBK1zse6Q"
      },
      "source": [
        "**`strip`** removes \"whitespace\" (spaces, tab, newlines,..., etc) from the beginning and the end f a string. Note the usage of object-oriented syntax:"
      ]
    },
    {
      "cell_type": "code",
      "execution_count": null,
      "metadata": {
        "id": "j4AN-CjIse6Q",
        "outputId": "8133516e-3d5a-4d38-fb14-02827bf48166"
      },
      "outputs": [
        {
          "data": {
            "text/plain": [
              "'Superman is flying'"
            ]
          },
          "execution_count": 113,
          "metadata": {},
          "output_type": "execute_result"
        }
      ],
      "source": [
        "s = '    Superman is flying    '\n",
        "s.strip()"
      ]
    },
    {
      "cell_type": "markdown",
      "metadata": {
        "id": "6pV493zOse6R"
      },
      "source": [
        "**`split`** splits a string into a list of strings on the delimeter. By default, the delimeter consists of spaces, tabs `(\\t)`, and newlines `(\\n)`, but the delimeter can be given as an argument."
      ]
    },
    {
      "cell_type": "code",
      "execution_count": null,
      "metadata": {
        "id": "i8ZzFpZvse6R",
        "outputId": "f93522e3-3b5e-47e6-b941-f8ad079fca4d"
      },
      "outputs": [
        {
          "data": {
            "text/plain": [
              "['Superman', 'is', 'flying']"
            ]
          },
          "execution_count": 114,
          "metadata": {},
          "output_type": "execute_result"
        }
      ],
      "source": [
        "s = 'Superman is flying'\n",
        "s.split()"
      ]
    },
    {
      "cell_type": "code",
      "execution_count": null,
      "metadata": {
        "ExecuteTime": {
          "end_time": "2019-10-01T13:38:29.539260Z",
          "start_time": "2019-10-01T13:38:29.535148Z"
        },
        "id": "MtSB1xc0se6R",
        "outputId": "f6a31bc6-8259-437e-d163-f45845850ced"
      },
      "outputs": [
        {
          "data": {
            "text/plain": [
              "['Superman', 'is', 'flying']"
            ]
          },
          "execution_count": 115,
          "metadata": {},
          "output_type": "execute_result"
        }
      ],
      "source": [
        "s1 = 'Superman,is,flying'\n",
        "s1.split(',')"
      ]
    },
    {
      "cell_type": "markdown",
      "metadata": {
        "id": "0PLWyuA8se6R"
      },
      "source": [
        "**`join`** "
      ]
    },
    {
      "cell_type": "code",
      "execution_count": null,
      "metadata": {
        "id": "XB-BveCzse6R",
        "outputId": "b4b15272-71c3-4ab1-ac5a-604b840d6bf0"
      },
      "outputs": [
        {
          "data": {
            "text/plain": [
              "'Superman,is,flying'"
            ]
          },
          "execution_count": 116,
          "metadata": {},
          "output_type": "execute_result"
        }
      ],
      "source": [
        "l = ['Superman,is,flying']\n",
        "' '.join(l)"
      ]
    },
    {
      "cell_type": "code",
      "execution_count": null,
      "metadata": {
        "id": "XPOld_y5se6R",
        "outputId": "35b3fe48-68e8-4e5c-caee-48b69539b80a"
      },
      "outputs": [
        {
          "data": {
            "text/plain": [
              "'Superman,is,flying'"
            ]
          },
          "execution_count": 117,
          "metadata": {},
          "output_type": "execute_result"
        }
      ],
      "source": [
        "', '.join(l)"
      ]
    },
    {
      "cell_type": "markdown",
      "metadata": {
        "id": "FDNPhlHNse6R"
      },
      "source": [
        "**`replace`** returns a string with all occurences of one string replaced by another. For example:"
      ]
    },
    {
      "cell_type": "code",
      "execution_count": null,
      "metadata": {
        "id": "rlH9G8D8se6R",
        "outputId": "8c706427-5499-4a98-e13d-90124d948b14"
      },
      "outputs": [
        {
          "data": {
            "text/plain": [
              "'Superman was flying, and he was learning Python'"
            ]
          },
          "execution_count": 118,
          "metadata": {},
          "output_type": "execute_result"
        }
      ],
      "source": [
        "s = 'Superman is flying, and he is learning Python'\n",
        "s.replace('is','was')"
      ]
    },
    {
      "cell_type": "code",
      "execution_count": null,
      "metadata": {
        "id": "A7euizutse6R",
        "outputId": "e8bead93-193b-4581-f08f-8c8cab707c1f"
      },
      "outputs": [
        {
          "data": {
            "text/plain": [
              "'Superman was flying, and he is learning Python'"
            ]
          },
          "execution_count": 119,
          "metadata": {},
          "output_type": "execute_result"
        }
      ],
      "source": [
        "s.replace('is', 'was', 1) # replaces only the first occurence"
      ]
    },
    {
      "cell_type": "markdown",
      "metadata": {
        "id": "q1gbM7DUse6R"
      },
      "source": [
        "**`find`** returns the lowest index in string `s` where the substring is found. It returns -1 if no match found."
      ]
    },
    {
      "cell_type": "code",
      "execution_count": null,
      "metadata": {
        "id": "1cqda18lse6S",
        "outputId": "424d3d0c-59da-459d-9a66-97d9bf820ae4"
      },
      "outputs": [
        {
          "data": {
            "text/plain": [
              "9"
            ]
          },
          "execution_count": 120,
          "metadata": {},
          "output_type": "execute_result"
        }
      ],
      "source": [
        "s = 'Superman is flying'\n",
        "s.find('is')"
      ]
    },
    {
      "cell_type": "code",
      "execution_count": null,
      "metadata": {
        "id": "L4BbPxNFse6S",
        "outputId": "007705dc-70d2-42da-967a-9ac5b065d744"
      },
      "outputs": [
        {
          "data": {
            "text/plain": [
              "0"
            ]
          },
          "execution_count": 121,
          "metadata": {},
          "output_type": "execute_result"
        }
      ],
      "source": [
        "s.find('Superman')"
      ]
    },
    {
      "cell_type": "markdown",
      "metadata": {
        "id": "mRsKi7_xse6S"
      },
      "source": [
        "If we want to find the substring within a range:"
      ]
    },
    {
      "cell_type": "code",
      "execution_count": null,
      "metadata": {
        "id": "e3iJHLe4se6S",
        "outputId": "0544392f-6676-49c6-faa4-2a1a585fb313"
      },
      "outputs": [
        {
          "data": {
            "text/plain": [
              "6"
            ]
          },
          "execution_count": 122,
          "metadata": {},
          "output_type": "execute_result"
        }
      ],
      "source": [
        "s.find('a')"
      ]
    },
    {
      "cell_type": "code",
      "execution_count": null,
      "metadata": {
        "id": "BjaGD9Qose6S",
        "outputId": "dd3ea404-937a-4a57-9d58-d9cfbc5541a9"
      },
      "outputs": [
        {
          "data": {
            "text/plain": [
              "-1"
            ]
          },
          "execution_count": 123,
          "metadata": {},
          "output_type": "execute_result"
        }
      ],
      "source": [
        "s.find('a', 10)"
      ]
    },
    {
      "cell_type": "markdown",
      "metadata": {
        "id": "KMeIPWEose6S"
      },
      "source": [
        "**Print statements**"
      ]
    },
    {
      "cell_type": "code",
      "execution_count": null,
      "metadata": {
        "scrolled": true,
        "id": "SjYaVRkase6S",
        "outputId": "445b349d-b1ec-4987-aafe-130e2b91bae2"
      },
      "outputs": [
        {
          "name": "stdout",
          "output_type": "stream",
          "text": [
            "hello, 2017.000000!\n",
            "hello, 2017!\n",
            "hello, 2017.13!\n"
          ]
        }
      ],
      "source": [
        "print(\"hello, %f!\" % 2017) # prints float\n",
        "print(\"hello, %d!\" % 2017) # prints integer\n",
        "print(\"hello, %.2f!\" % 2017.1314) # prints till specified decimal places"
      ]
    },
    {
      "cell_type": "code",
      "execution_count": null,
      "metadata": {
        "id": "TEawpRm_se6S",
        "outputId": "998899d8-7eda-4a59-98e5-996e1a76f8c7"
      },
      "outputs": [
        {
          "name": "stdout",
          "output_type": "stream",
          "text": [
            "My name is Mickey and I am 20 years old\n"
          ]
        }
      ],
      "source": [
        "print('My name is %s and I am %d years old' % ('Mickey', 20))"
      ]
    },
    {
      "cell_type": "code",
      "execution_count": null,
      "metadata": {
        "id": "k54iCqIdse6S",
        "outputId": "f8486352-813e-479f-c46b-42ae141874ee"
      },
      "outputs": [
        {
          "name": "stdout",
          "output_type": "stream",
          "text": [
            "My name is Mickey and I am 25 years old\n"
          ]
        }
      ],
      "source": [
        "print('My name is {0} and I am {1} years old'.format('Mickey', 25))"
      ]
    },
    {
      "cell_type": "code",
      "execution_count": null,
      "metadata": {
        "id": "3_Fa9m6yse6T",
        "outputId": "179e45a7-7f90-4665-e8a3-bac339457456"
      },
      "outputs": [
        {
          "name": "stdout",
          "output_type": "stream",
          "text": [
            "My name is Mike and I am 25 years old\n"
          ]
        }
      ],
      "source": [
        "print('My name is {name} and I am {age} years old'.format(name='Mike', age=25))"
      ]
    },
    {
      "cell_type": "code",
      "execution_count": null,
      "metadata": {
        "id": "O6IgsiKPse6T",
        "outputId": "ab8dc77f-5683-4875-bc65-296ad304553a"
      },
      "outputs": [
        {
          "data": {
            "text/plain": [
              "'5.0'"
            ]
          },
          "execution_count": 128,
          "metadata": {},
          "output_type": "execute_result"
        }
      ],
      "source": [
        "str(5.0) #casting float as string"
      ]
    },
    {
      "cell_type": "code",
      "execution_count": null,
      "metadata": {
        "id": "GN16i7hzse6T",
        "outputId": "75789cf1-1df3-4b10-cd83-ffdfdaf694a4"
      },
      "outputs": [
        {
          "data": {
            "text/plain": [
              "['abc', 'def', 'ghi']"
            ]
          },
          "execution_count": 129,
          "metadata": {},
          "output_type": "execute_result"
        }
      ],
      "source": [
        "list2 = [\" abc  \\n\", \" def\", \"ghi   \"]\n",
        "list(map(lambda s: s.strip(), list2))"
      ]
    },
    {
      "cell_type": "markdown",
      "metadata": {
        "id": "TzSjUFlLse6T"
      },
      "source": [
        "Here is a way to remove the strings that contain the word “No”:"
      ]
    },
    {
      "cell_type": "code",
      "execution_count": null,
      "metadata": {
        "id": "NvElykzXse6T",
        "outputId": "5591e632-53e9-4af7-e3c6-99ccb106e5c0"
      },
      "outputs": [
        {
          "data": {
            "text/plain": [
              "['Some snow']"
            ]
          },
          "execution_count": 130,
          "metadata": {},
          "output_type": "execute_result"
        }
      ],
      "source": [
        "# Return true if s does *not* contain 'No'\n",
        "def has_no_no(s):\n",
        "    return s.find('No') == -1\n",
        "\n",
        "L = ['No rain', 'Some snow', 'No sleet']\n",
        "list(filter(has_no_no, L))"
      ]
    },
    {
      "cell_type": "markdown",
      "metadata": {
        "id": "hcmpvxgese6T"
      },
      "source": [
        "Case conversions:"
      ]
    },
    {
      "cell_type": "code",
      "execution_count": null,
      "metadata": {
        "id": "4RfzjWxXse6T",
        "outputId": "1a14d546-5226-4fad-b0a1-94db5a9ab29f"
      },
      "outputs": [
        {
          "data": {
            "text/plain": [
              "'abcd'"
            ]
          },
          "execution_count": 131,
          "metadata": {},
          "output_type": "execute_result"
        }
      ],
      "source": [
        "'ABcd'.lower()      # convert to lowercase"
      ]
    },
    {
      "cell_type": "code",
      "execution_count": null,
      "metadata": {
        "id": "9kHwnaaRse6T",
        "outputId": "a0a2d97e-4fd2-41e3-f035-23163f178f15"
      },
      "outputs": [
        {
          "data": {
            "text/plain": [
              "'ABCD'"
            ]
          },
          "execution_count": 132,
          "metadata": {},
          "output_type": "execute_result"
        }
      ],
      "source": [
        "'ABcd'.upper()      # convert to uppercase"
      ]
    },
    {
      "cell_type": "code",
      "execution_count": null,
      "metadata": {
        "id": "PIkWcyDCse6T",
        "outputId": "be6c3337-aded-472d-cf42-1558be73bc32"
      },
      "outputs": [
        {
          "data": {
            "text/plain": [
              "'abCD'"
            ]
          },
          "execution_count": 133,
          "metadata": {},
          "output_type": "execute_result"
        }
      ],
      "source": [
        "'ABcd'.swapcase()   # swap case"
      ]
    },
    {
      "cell_type": "code",
      "execution_count": null,
      "metadata": {
        "id": "vSr7tgzGse6T",
        "outputId": "a156c71f-cc59-4ccc-b8f6-04c31fae4517"
      },
      "outputs": [
        {
          "data": {
            "text/plain": [
              "'Abcd Abcd'"
            ]
          },
          "execution_count": 134,
          "metadata": {},
          "output_type": "execute_result"
        }
      ],
      "source": [
        "'aBCd abcD'.title()   # make first letters uppercase"
      ]
    },
    {
      "cell_type": "markdown",
      "metadata": {
        "id": "k3A-DjHAse6U"
      },
      "source": [
        "**Exercise 5**\n",
        "\n",
        "- Write a function to find the lowest index of string `t` in each word in `s`:\n",
        "```\n",
        "s = 'today is a nice day'\n",
        "find_char(s, 'i') ---> [-1, 0, -1, 1, -1]\n",
        "```\n",
        "You need to first split the string `s` and then map the `find` function.\n",
        "\n",
        "\n",
        "- Use `filter` to find the strings in a list that do contain No.\n",
        "```\n",
        "L = ['No rain', 'Some snow', 'No sleet']\n",
        "filter(has_no, L) ---> ['No rain', 'No sleet']\n",
        "```"
      ]
    },
    {
      "cell_type": "code",
      "execution_count": null,
      "metadata": {
        "id": "I4aT9tBTse6U"
      },
      "outputs": [],
      "source": [
        "#### Your code here\n"
      ]
    },
    {
      "cell_type": "markdown",
      "metadata": {
        "id": "rafUeFgpse6U"
      },
      "source": [
        "<p><a name=\"sol\"></a></p>\n",
        "## Solutions"
      ]
    },
    {
      "cell_type": "markdown",
      "metadata": {
        "id": "zX7p9Cs9se6U"
      },
      "source": [
        "**Exercise 1**"
      ]
    },
    {
      "cell_type": "code",
      "execution_count": null,
      "metadata": {
        "id": "9sZsR83Vse6U"
      },
      "outputs": [],
      "source": [
        "import math\n",
        "def area(r):\n",
        "    return math.pi * r**2\n",
        "\n",
        "Area = lambda r: math.pi * r**2"
      ]
    },
    {
      "cell_type": "code",
      "execution_count": null,
      "metadata": {
        "id": "n3Qv3A0Qse6U",
        "outputId": "26b922d3-25e9-450d-85e3-04bf7a30feea"
      },
      "outputs": [
        {
          "name": "stdout",
          "output_type": "stream",
          "text": [
            "153.93804002589985\n",
            "153.93804002589985\n"
          ]
        }
      ],
      "source": [
        "print(area(7))\n",
        "print(Area(7))"
      ]
    },
    {
      "cell_type": "markdown",
      "metadata": {
        "id": "nTaYm8syse6U"
      },
      "source": [
        "**Exercise 2**"
      ]
    },
    {
      "cell_type": "code",
      "execution_count": null,
      "metadata": {
        "id": "amFEaZgxse6U"
      },
      "outputs": [],
      "source": [
        "def sum2(L):\n",
        "    return L[0] + L[1]\n",
        "\n",
        "Sum2 = lambda L: L[0] + L[1]\n",
        "\n",
        "def double_lis(L):\n",
        "    return L + L\n",
        "\n",
        "Double_lis = lambda L: L + L"
      ]
    },
    {
      "cell_type": "code",
      "execution_count": null,
      "metadata": {
        "id": "fQ_1XxSUse6U",
        "outputId": "c94f401a-f800-4460-a691-c0759a34add8"
      },
      "outputs": [
        {
          "name": "stdout",
          "output_type": "stream",
          "text": [
            "3\n",
            "[1, 2, 3, 1, 2, 3]\n"
          ]
        }
      ],
      "source": [
        "print(sum2([1,2,3]))\n",
        "print(double_lis([1,2,3]))"
      ]
    },
    {
      "cell_type": "markdown",
      "metadata": {
        "id": "-3c79DgCse6U"
      },
      "source": [
        "**Exercise 3**"
      ]
    },
    {
      "cell_type": "code",
      "execution_count": null,
      "metadata": {
        "id": "sW7-ZARgse6U"
      },
      "outputs": [],
      "source": [
        "#1\n",
        "def cube(x):\n",
        "    return x**3\n",
        "def cube_all(L):\n",
        "    return list(map(cube, L))\n",
        "cube_all_lambda = lambda L: list(map(cube, L))\n",
        "\n",
        "#2\n",
        "snd = lambda x: x[1]\n",
        "def get_second(L):\n",
        "    return list(map(snd, L))\n",
        "Get_second = lambda L: list(map(snd, L))\n",
        "\n",
        "#3\n",
        "def tot_length(L):\n",
        "    return sum(map(len, L))\n",
        "Tot_length = lambda L: sum(map(len, L))"
      ]
    },
    {
      "cell_type": "code",
      "execution_count": null,
      "metadata": {
        "id": "QHj7w301se6U",
        "outputId": "b6456753-d2cf-490c-d218-28c38380fb97"
      },
      "outputs": [
        {
          "name": "stdout",
          "output_type": "stream",
          "text": [
            "[1, 8, 27]\n",
            "[2, 3]\n"
          ]
        }
      ],
      "source": [
        "print(cube_all([1,2,3]))\n",
        "print(get_second([[1,2,3],[2,3,4]]))"
      ]
    },
    {
      "cell_type": "markdown",
      "metadata": {
        "id": "r9oGukbbse6U"
      },
      "source": [
        "**Exercise 4**"
      ]
    },
    {
      "cell_type": "code",
      "execution_count": null,
      "metadata": {
        "id": "ZXLhCXduse6U"
      },
      "outputs": [],
      "source": [
        "#1\n",
        "def increasing(L):\n",
        "    return L[0] < L[1]\n",
        "increasing_lambda = lambda L: L[0] < L[1]\n",
        "\n",
        "#2\n",
        "def increasing_lists(L):\n",
        "    return filter(increasing, L)\n",
        "Increasing_lists = lambda L:  list(filter(increasing, L))"
      ]
    },
    {
      "cell_type": "markdown",
      "metadata": {
        "id": "RZSIXXAPse6V"
      },
      "source": [
        "**Exercise 5**"
      ]
    },
    {
      "cell_type": "code",
      "execution_count": null,
      "metadata": {
        "id": "lcvtEagSse6V",
        "outputId": "4689dd1f-b96b-49f1-9ce9-4e0355543124"
      },
      "outputs": [
        {
          "data": {
            "text/plain": [
              "['No rain', 'No sleet']"
            ]
          },
          "execution_count": 143,
          "metadata": {},
          "output_type": "execute_result"
        }
      ],
      "source": [
        "# 1\n",
        "def find_char(s, t):\n",
        "    return list(map(lambda s: s.find(t), s.split()))\n",
        "\n",
        "s = 'today is a nice day'\n",
        "find_char(s, 'i')\n",
        "\n",
        "# 2\n",
        "has_no = lambda s: s.find('No') != -1\n",
        "list(filter(has_no, L))"
      ]
    },
    {
      "cell_type": "code",
      "execution_count": null,
      "metadata": {
        "id": "asOFQ14Dse6V",
        "outputId": "38261abf-3a8c-4f4d-9d29-165c6dad143e"
      },
      "outputs": [
        {
          "data": {
            "text/plain": [
              "[-1, 0, -1, 1, -1]"
            ]
          },
          "execution_count": 144,
          "metadata": {},
          "output_type": "execute_result"
        }
      ],
      "source": [
        "s = 'today is a nice day'\n",
        "find_char(s, 'i')"
      ]
    },
    {
      "cell_type": "code",
      "execution_count": null,
      "metadata": {
        "id": "hyIFF62Tse6V"
      },
      "outputs": [],
      "source": [
        ""
      ]
    },
    {
      "cell_type": "code",
      "execution_count": null,
      "metadata": {
        "id": "EIHpe1jose6V"
      },
      "outputs": [],
      "source": [
        ""
      ]
    }
  ],
  "metadata": {
    "anaconda-cloud": {},
    "kernelspec": {
      "display_name": "Python 3 (ipykernel)",
      "language": "python",
      "name": "python3"
    },
    "language_info": {
      "codemirror_mode": {
        "name": "ipython",
        "version": 3
      },
      "file_extension": ".py",
      "mimetype": "text/x-python",
      "name": "python",
      "nbconvert_exporter": "python",
      "pygments_lexer": "ipython3",
      "version": "3.9.7"
    },
    "toc": {
      "base_numbering": 1,
      "nav_menu": {},
      "number_sections": true,
      "sideBar": true,
      "skip_h1_title": false,
      "title_cell": "Table of Contents",
      "title_sidebar": "Contents",
      "toc_cell": false,
      "toc_position": {},
      "toc_section_display": true,
      "toc_window_display": false
    },
    "colab": {
      "name": "Getting_Started_1.ipynb",
      "provenance": [],
      "include_colab_link": true
    }
  },
  "nbformat": 4,
  "nbformat_minor": 0
}