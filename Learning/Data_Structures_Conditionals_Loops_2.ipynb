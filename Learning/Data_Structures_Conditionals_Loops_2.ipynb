{
  "cells": [
    {
      "cell_type": "markdown",
      "metadata": {
        "id": "view-in-github",
        "colab_type": "text"
      },
      "source": [
        "<a href=\"https://colab.research.google.com/github/girishkhule/Python/blob/main/Learning/Data_Structures_Conditionals_Loops_2.ipynb\" target=\"_parent\"><img src=\"https://colab.research.google.com/assets/colab-badge.svg\" alt=\"Open In Colab\"/></a>"
      ]
    },
    {
      "cell_type": "markdown",
      "metadata": {
        "id": "CJ3kr79Rrb-P"
      },
      "source": [
        "# Data Structures\n",
        "\n",
        "We have worked with lists in the previous notebooks. There are other built-in data structures:\n",
        "- Sets - unordered collections without duplicates. We saw some examples in the probability notebook\n",
        "- Dictionaries - Key-value pairs. Maps from one value (often strings) to another.\n",
        "\n",
        "Some data structures are mutable and some are immutable; mutation and mutability are key concepts discussed in this section.  \n",
        "e.g. slicing is non-mutating.  Slicing a list does not change/mutate the list itself.  See the following:"
      ]
    },
    {
      "cell_type": "code",
      "execution_count": null,
      "metadata": {
        "id": "Ilqd59gurb-S"
      },
      "outputs": [],
      "source": [
        "L = ['a1', 'b2', 'c3']\n",
        "L[1:]"
      ]
    },
    {
      "cell_type": "markdown",
      "metadata": {
        "id": "w1ePcL6irb-U"
      },
      "source": [
        "Slicing is non-mutating.  While `L[1:]` returns a sub-list, the original list **`L`** remains unchanged/unmutated:"
      ]
    },
    {
      "cell_type": "code",
      "execution_count": null,
      "metadata": {
        "id": "oyLRJKUWrb-U"
      },
      "outputs": [],
      "source": [
        "L"
      ]
    },
    {
      "cell_type": "markdown",
      "metadata": {
        "id": "HUhYqqjDrb-V"
      },
      "source": [
        "`map` and `upper` are also non-mutating functions.  Generally a function that returns a value is non-mutating."
      ]
    },
    {
      "cell_type": "code",
      "execution_count": null,
      "metadata": {
        "id": "5xTBa-Ctrb-W"
      },
      "outputs": [],
      "source": [
        "list(map(lambda s: s.upper(), L))"
      ]
    },
    {
      "cell_type": "markdown",
      "metadata": {
        "id": "DT6bUCsCrb-W"
      },
      "source": [
        "`L` remains unchanged."
      ]
    },
    {
      "cell_type": "code",
      "execution_count": null,
      "metadata": {
        "id": "ZOleLHflrb-X"
      },
      "outputs": [],
      "source": [
        "L"
      ]
    },
    {
      "cell_type": "markdown",
      "metadata": {
        "id": "VWZHsVC4rb-X"
      },
      "source": [
        "\n",
        "## Mutating Operations on Lists"
      ]
    },
    {
      "cell_type": "markdown",
      "metadata": {
        "id": "n7mvqMEXrb-Y"
      },
      "source": [
        "List is a mutable data type. The most important mutating operation is: **assignment**"
      ]
    },
    {
      "cell_type": "code",
      "execution_count": null,
      "metadata": {
        "id": "8a0l-x3rrb-Y"
      },
      "outputs": [],
      "source": [
        "skills = ['Data Science','Python','Statistics','BDE']\n",
        "skills[1] = 'R' # 'R' was assigned to index 1 in the list"
      ]
    },
    {
      "cell_type": "markdown",
      "metadata": {
        "id": "C0UB22IErb-Z"
      },
      "source": [
        "Assignment does not have any output, but the value of `skills` is changed!"
      ]
    },
    {
      "cell_type": "code",
      "execution_count": null,
      "metadata": {
        "id": "oBx7eaLyrb-Z"
      },
      "outputs": [],
      "source": [
        "skills"
      ]
    },
    {
      "cell_type": "code",
      "execution_count": null,
      "metadata": {
        "id": "OWwQ7Sxxrb-Z"
      },
      "outputs": [],
      "source": [
        "skills = ['Data Science','Python','Statistics','BDE']\n",
        "my_skills = skills\n",
        "skills[1] = 'R'     # no assignment to my_skills\n",
        "my_skills"
      ]
    },
    {
      "cell_type": "markdown",
      "metadata": {
        "id": "679dUdtarb-a"
      },
      "source": [
        "Adding a list to another list by using `+` is non-mutating:"
      ]
    },
    {
      "cell_type": "code",
      "execution_count": null,
      "metadata": {
        "id": "icJWRU7vrb-a"
      },
      "outputs": [],
      "source": [
        "L = ['a1', 'b2', 'c3']\n",
        "L + ['d4']"
      ]
    },
    {
      "cell_type": "markdown",
      "metadata": {
        "id": "fOSGlK_krb-a"
      },
      "source": [
        "But `L` is not updated:"
      ]
    },
    {
      "cell_type": "code",
      "execution_count": null,
      "metadata": {
        "id": "wuZpJNewrb-a"
      },
      "outputs": [],
      "source": [
        "L"
      ]
    },
    {
      "cell_type": "markdown",
      "metadata": {
        "id": "1yWX_JWTrb-a"
      },
      "source": [
        "Assigning the value back to `L` updates it:"
      ]
    },
    {
      "cell_type": "code",
      "execution_count": null,
      "metadata": {
        "id": "RHdSKSnFrb-a"
      },
      "outputs": [],
      "source": [
        "L = L + ['d4']   \n",
        "L"
      ]
    },
    {
      "cell_type": "markdown",
      "metadata": {
        "id": "aZ7x5Lzdrb-b"
      },
      "source": [
        "The `append` operation mutates a list:"
      ]
    },
    {
      "cell_type": "code",
      "execution_count": null,
      "metadata": {
        "id": "rlEBTAi7rb-b"
      },
      "outputs": [],
      "source": [
        "L.append('e')\n",
        "L"
      ]
    },
    {
      "cell_type": "markdown",
      "metadata": {
        "id": "xmI_8nJBrb-b"
      },
      "source": [
        "The `extend` operation is similar to `append` if the input is one single value. However, it will flatten the input list and then append it to the original list."
      ]
    },
    {
      "cell_type": "code",
      "execution_count": null,
      "metadata": {
        "id": "10sBPHnmrb-b"
      },
      "outputs": [],
      "source": [
        "L.append([1,2,3])"
      ]
    },
    {
      "cell_type": "code",
      "execution_count": null,
      "metadata": {
        "id": "sLDTykWarb-b"
      },
      "outputs": [],
      "source": [
        "L"
      ]
    },
    {
      "cell_type": "code",
      "execution_count": null,
      "metadata": {
        "id": "O6yDQRgwrb-b"
      },
      "outputs": [],
      "source": [
        "L.extend([1,2,3])"
      ]
    },
    {
      "cell_type": "code",
      "execution_count": null,
      "metadata": {
        "id": "e6eOZd9grb-b"
      },
      "outputs": [],
      "source": [
        "L"
      ]
    },
    {
      "cell_type": "markdown",
      "metadata": {
        "id": "OvJpHqzgrb-c"
      },
      "source": [
        "`listname.insert(i, x)` inserts `x` so that it is at location `i` in the list.  (If `i` is out of bounds, it inserts it in the nearest place)"
      ]
    },
    {
      "cell_type": "code",
      "execution_count": null,
      "metadata": {
        "id": "YrEfsdBkrb-c"
      },
      "outputs": [],
      "source": [
        "L = ['a1', 'b2', 'c3']\n",
        "L.insert(2, 'd4')\n",
        "L"
      ]
    },
    {
      "cell_type": "code",
      "execution_count": null,
      "metadata": {
        "id": "Ly642Mlarb-c"
      },
      "outputs": [],
      "source": [
        "L.insert(10, 'e5')\n",
        "L"
      ]
    },
    {
      "cell_type": "code",
      "execution_count": null,
      "metadata": {
        "id": "JsowwYcVrb-c"
      },
      "outputs": [],
      "source": [
        "L.insert(-10, 'f6')\n",
        "L"
      ]
    },
    {
      "cell_type": "markdown",
      "metadata": {
        "id": "8HoqehPcrb-c"
      },
      "source": [
        "We have already seen `sorted(listname)`, which is a non-mutating sort operation:"
      ]
    },
    {
      "cell_type": "code",
      "execution_count": null,
      "metadata": {
        "id": "Wufz7l6Wrb-c"
      },
      "outputs": [],
      "source": [
        "listname = [5, 4, 2, 6, 1]\n",
        "sorted(listname)"
      ]
    },
    {
      "cell_type": "code",
      "execution_count": null,
      "metadata": {
        "id": "IaJF7069rb-c"
      },
      "outputs": [],
      "source": [
        "listname"
      ]
    },
    {
      "cell_type": "markdown",
      "metadata": {
        "id": "_eJg9x9Wrb-c"
      },
      "source": [
        "Note: `listname.sort()` is a mutating sort operation:"
      ]
    },
    {
      "cell_type": "code",
      "execution_count": null,
      "metadata": {
        "id": "S9rfe-Zjrb-c"
      },
      "outputs": [],
      "source": [
        "listname.sort()"
      ]
    },
    {
      "cell_type": "code",
      "execution_count": null,
      "metadata": {
        "id": "VImPwl98rb-d"
      },
      "outputs": [],
      "source": [
        "listname"
      ]
    },
    {
      "cell_type": "markdown",
      "metadata": {
        "id": "ltrZ9fnbrb-d"
      },
      "source": [
        "A mutating operation applied to `listname` changes the value of another variable pointing to the same memory location as `listname`:"
      ]
    },
    {
      "cell_type": "code",
      "execution_count": null,
      "metadata": {
        "id": "ARlgB-HHrb-d"
      },
      "outputs": [],
      "source": [
        "listname = [5, 4, 2, 6, 1]\n",
        "listname2 = listname\n",
        "listname.sort()\n",
        "listname2"
      ]
    },
    {
      "cell_type": "markdown",
      "metadata": {
        "id": "bPZZp0Kbrb-d"
      },
      "source": [
        "Using `sorted(listname)` doesn't cause the change on `listname2`."
      ]
    },
    {
      "cell_type": "code",
      "execution_count": null,
      "metadata": {
        "id": "c1bUX5ejrb-d"
      },
      "outputs": [],
      "source": [
        "listname = [5, 4, 2, 6, 1]\n",
        "listname2 = listname\n",
        "sorted(listname)"
      ]
    },
    {
      "cell_type": "code",
      "execution_count": null,
      "metadata": {
        "id": "CYb8zWV5rb-d"
      },
      "outputs": [],
      "source": [
        "listname2"
      ]
    },
    {
      "cell_type": "markdown",
      "metadata": {
        "id": "jjcOwP86rb-d"
      },
      "source": [
        "- The change in a variable that shares a memory location as another is a side effect of the mutating operation.\n",
        "- Programmers try to avoid side effects, because it is difficult to understand code when variables can change without even being directly mentioned.\n",
        "- Note that the mutating operations seen have no return value, or rather, their return value is `None`"
      ]
    },
    {
      "cell_type": "code",
      "execution_count": null,
      "metadata": {
        "id": "upa6SD4Urb-d"
      },
      "outputs": [],
      "source": [
        "print(listname.sort())"
      ]
    },
    {
      "cell_type": "markdown",
      "metadata": {
        "id": "ymB-O7B-rb-d"
      },
      "source": [
        "Application of mutating operations in a map will not return the desired map.  This is an attempt to extend every element of a nested list:"
      ]
    },
    {
      "cell_type": "code",
      "execution_count": null,
      "metadata": {
        "id": "b17Ls61prb-e"
      },
      "outputs": [],
      "source": [
        "# The following will not return the desired map\n",
        "L = [[1], [2], [3]]\n",
        "list(map(lambda l: l.append(4), L))"
      ]
    },
    {
      "cell_type": "code",
      "execution_count": null,
      "metadata": {
        "id": "TUryj_zarb-e"
      },
      "outputs": [],
      "source": [
        "# but it will apply the mutating operation to every element in the list\n",
        "L"
      ]
    },
    {
      "cell_type": "markdown",
      "metadata": {
        "id": "zijZMrqPrb-e"
      },
      "source": [
        "For a nested list, `sort` and `sorted` use the first element as the primary sort key, the second element as the second sort key, etc., and they sort in ascending order. You can customize the sort using user-defined key:"
      ]
    },
    {
      "cell_type": "code",
      "execution_count": null,
      "metadata": {
        "id": "JS6pZRpBrb-e"
      },
      "outputs": [],
      "source": [
        "heroes =[['Superman','A',9], ['Batman','B',3], ['Feynman','A',6]]\n",
        "sorted(heroes, key = lambda x: x[1]) # key is the sort metric"
      ]
    },
    {
      "cell_type": "code",
      "execution_count": null,
      "metadata": {
        "id": "F3vNyBRxrb-e"
      },
      "outputs": [],
      "source": [
        "heroes =[['Superman','A',9], ['Batman','B',3], ['Feynman','A',6]]\n",
        "sorted(heroes, key = lambda x: x[2]+len(x[0]))  # key is the sort metric"
      ]
    },
    {
      "cell_type": "code",
      "execution_count": null,
      "metadata": {
        "id": "V7Sk_3worb-e"
      },
      "outputs": [],
      "source": [
        "heroes =[['Superman','A',9], ['Batman','B',3], ['Feynman','A',6]]\n",
        "sorted(heroes, key = lambda x: x[2]+len(x[0]), reverse = True)  # key is the sort metric"
      ]
    },
    {
      "cell_type": "markdown",
      "metadata": {
        "id": "pfbcw82Lrb-e"
      },
      "source": [
        "- You can define functions that use mutating operations. If the purpose of a function is to perform a mutating operation, it does not need a return value.\n",
        "\n",
        "- This function sorts a nested list, using the given element of each sublist as the sort key:"
      ]
    },
    {
      "cell_type": "code",
      "execution_count": null,
      "metadata": {
        "id": "QfOF3bRlrb-f"
      },
      "outputs": [],
      "source": [
        "def sort_on_input_field(inputlist, fld):\n",
        "    inputlist.sort(key = lambda x: x[fld]) # sorts the list using the input fld. The sort is ascending by default"
      ]
    },
    {
      "cell_type": "code",
      "execution_count": null,
      "metadata": {
        "id": "RGmetcwgrb-f"
      },
      "outputs": [],
      "source": [
        "L = [['a', 4], ['b', 1], ['c', 7], ['d', 3]]\n",
        "sort_on_input_field(L, 1)"
      ]
    },
    {
      "cell_type": "markdown",
      "metadata": {
        "id": "5ECkmSrLrb-f"
      },
      "source": [
        "It has no return, and does not produce a value. But it mutates the variable."
      ]
    },
    {
      "cell_type": "code",
      "execution_count": null,
      "metadata": {
        "id": "97B6VbsZrb-f"
      },
      "outputs": [],
      "source": [
        "L"
      ]
    },
    {
      "cell_type": "markdown",
      "metadata": {
        "id": "UX0sJFO6rb-f"
      },
      "source": [
        "**Exercise 1**\n",
        "\n",
        "Write a function to switch the ith and jth items in a list.\n",
        "```\n",
        "def func_switch(L, i, j):\n",
        "    ... function body goes here ...\n",
        "\n",
        "my_list = ['first', 'second', 'third', 'fourth']\n",
        "func_switch(my_list, 1, -1)\n",
        "my_list ---> ['first', 'fourth', 'third', 'second']\n",
        "```"
      ]
    },
    {
      "cell_type": "code",
      "execution_count": null,
      "metadata": {
        "id": "cG0E9b8crb-g"
      },
      "outputs": [],
      "source": [
        "#### Your code here\n",
        "def switch_item(L, i, j):\n"
      ]
    },
    {
      "cell_type": "markdown",
      "metadata": {
        "collapsed": true,
        "id": "eKvx8sc5rb-g"
      },
      "source": [
        "## Tuples, sets and dictionaries\n",
        "\n",
        "- **Strings**:  Like lists of characters.  Immutable.\n",
        "- **Tuples**:  Tuples are like lists, but are immutable.\n",
        "- **Sets**:  Also like lists, except that they do not have duplicate elements.  Mutable.\n",
        "- **Dictionaries**:  These are tables that associate values with keys.  Mutable.\n",
        "\n",
        "\n",
        "**Strings**\n",
        "\n",
        "Strings are immutable"
      ]
    },
    {
      "cell_type": "code",
      "execution_count": null,
      "metadata": {
        "id": "rDfFJepRrb-g"
      },
      "outputs": [],
      "source": [
        "company = 'The Avengers Assembled'\n",
        "company[0] = 'A'"
      ]
    },
    {
      "cell_type": "code",
      "execution_count": null,
      "metadata": {
        "id": "Uo9R1FlGrb-g"
      },
      "outputs": [],
      "source": [
        "'A'+company[1:]"
      ]
    },
    {
      "cell_type": "code",
      "execution_count": null,
      "metadata": {
        "id": "2p7QvzSFrb-g"
      },
      "outputs": [],
      "source": [
        "company"
      ]
    },
    {
      "cell_type": "markdown",
      "metadata": {
        "collapsed": true,
        "id": "OANz69zLrb-g"
      },
      "source": [
        "**Tuples**\n",
        "\n",
        "- Tuples are written with round brackets instead of square brackets. Immutable"
      ]
    },
    {
      "cell_type": "code",
      "execution_count": null,
      "metadata": {
        "id": "-PHGsDcfrb-g"
      },
      "outputs": [],
      "source": [
        "courses = ('Programming', 'Stats', 'AI') \n",
        "courses[2] = 'Algorithms'"
      ]
    },
    {
      "cell_type": "markdown",
      "metadata": {
        "id": "7TDhc2MPrb-g"
      },
      "source": [
        "- Tuples support all the non-mutating list operations:"
      ]
    },
    {
      "cell_type": "code",
      "execution_count": null,
      "metadata": {
        "id": "rwtbbbHwrb-g"
      },
      "outputs": [],
      "source": [
        "courses[1:]"
      ]
    },
    {
      "cell_type": "code",
      "execution_count": null,
      "metadata": {
        "id": "jS-4P4ulrb-g"
      },
      "outputs": [],
      "source": [
        "list(map(lambda s: s.upper(), courses))"
      ]
    },
    {
      "cell_type": "markdown",
      "metadata": {
        "id": "mAMtIYpWrb-g"
      },
      "source": [
        "Tuples and lists both allow a shorthand for assignment that allows all the elements of the tuple or list to be assigned to variables at once:"
      ]
    },
    {
      "cell_type": "code",
      "execution_count": null,
      "metadata": {
        "id": "QQXHGFBWrb-h"
      },
      "outputs": [],
      "source": [
        "(a,b) = (3,4)   # works with lists also\n",
        "a"
      ]
    },
    {
      "cell_type": "code",
      "execution_count": null,
      "metadata": {
        "id": "40pPNMsurb-h"
      },
      "outputs": [],
      "source": [
        "b"
      ]
    },
    {
      "cell_type": "markdown",
      "metadata": {
        "id": "lxdOY4Hzrb-h"
      },
      "source": [
        "Note: A quick way to swap variables:"
      ]
    },
    {
      "cell_type": "code",
      "execution_count": null,
      "metadata": {
        "id": "bU7-O2W9rb-h"
      },
      "outputs": [],
      "source": [
        "(a,b) = (b,a)\n",
        "a"
      ]
    },
    {
      "cell_type": "code",
      "execution_count": null,
      "metadata": {
        "id": "htBQLg1crb-h"
      },
      "outputs": [],
      "source": [
        "b"
      ]
    },
    {
      "cell_type": "markdown",
      "metadata": {
        "id": "gNYPpdDCrb-h"
      },
      "source": [
        "**Functions**\n",
        "- A Function can return multiple values at the same time \n",
        "- We need have the same number of variables when we assign the output of the function"
      ]
    },
    {
      "cell_type": "code",
      "execution_count": null,
      "metadata": {
        "id": "_4Gz3Z8wrb-h"
      },
      "outputs": [],
      "source": [
        "def cube_both(x, y):\n",
        "    return x**3, y**3 # returns two values"
      ]
    },
    {
      "cell_type": "code",
      "execution_count": null,
      "metadata": {
        "id": "MJngoOh-rb-h"
      },
      "outputs": [],
      "source": [
        "x, y = cube_both(2,3) # we need to assign two variables to the output. If we assign more than 2 we will get an error"
      ]
    },
    {
      "cell_type": "code",
      "execution_count": null,
      "metadata": {
        "id": "WlKQyStlrb-h"
      },
      "outputs": [],
      "source": [
        "x, y"
      ]
    },
    {
      "cell_type": "markdown",
      "metadata": {
        "id": "W_0sJAeCrb-h"
      },
      "source": [
        "If we assign more variables than the output, we will get an error: "
      ]
    },
    {
      "cell_type": "code",
      "execution_count": null,
      "metadata": {
        "id": "DUjdEtLyrb-h"
      },
      "outputs": [],
      "source": [
        "x, y, z = cube_both(2,3)"
      ]
    },
    {
      "cell_type": "code",
      "execution_count": null,
      "metadata": {
        "id": "_XC_hAecrb-h"
      },
      "outputs": [],
      "source": [
        "# What happens if the function returns two values and we assign only one variable to the output?\n",
        "a = cube_both(2,3)\n",
        "a"
      ]
    },
    {
      "cell_type": "markdown",
      "metadata": {
        "id": "AmfcvsyArb-h"
      },
      "source": [
        "**Set**\n",
        "\n",
        "- A set is an unordered collection with no duplicate elements.  Sets are mutable.\n",
        "\n",
        "- To create a set, we can use either curly braces or the `set()` function."
      ]
    },
    {
      "cell_type": "code",
      "execution_count": null,
      "metadata": {
        "id": "03JA2eAcrb-h"
      },
      "outputs": [],
      "source": [
        "vowels = {'u','a','e','i','o','u','i'}\n",
        "vowels"
      ]
    },
    {
      "cell_type": "code",
      "execution_count": null,
      "metadata": {
        "id": "N1C9xvqprb-i"
      },
      "outputs": [],
      "source": [
        "fruit = set(['apple', 'orange', 'apple', 'pear'])\n",
        "fruit"
      ]
    },
    {
      "cell_type": "markdown",
      "metadata": {
        "id": "nw1Qkxtqrb-i"
      },
      "source": [
        "- Sets support non-mutating list operations, as long as they don’t depend on order:"
      ]
    },
    {
      "cell_type": "code",
      "execution_count": null,
      "metadata": {
        "id": "IS8kczx_rb-i"
      },
      "outputs": [],
      "source": [
        "primes = {2, 3, 5, 7, 11}\n",
        "primes[2]"
      ]
    },
    {
      "cell_type": "code",
      "execution_count": null,
      "metadata": {
        "id": "KrbPH4utrb-i"
      },
      "outputs": [],
      "source": [
        "sum(primes)"
      ]
    },
    {
      "cell_type": "code",
      "execution_count": null,
      "metadata": {
        "id": "cEMtpeZJrb-i"
      },
      "outputs": [],
      "source": [
        "set(map(lambda x: x*x, primes))   # order is not guaranteed"
      ]
    },
    {
      "cell_type": "markdown",
      "metadata": {
        "id": "eu1X2SkJrb-i"
      },
      "source": [
        "`set` is a mutable data type, but **all the elements need to be immutable data type**, i.e. you can't add a list to a set."
      ]
    },
    {
      "cell_type": "code",
      "execution_count": null,
      "metadata": {
        "id": "ihz1f25Wrb-i"
      },
      "outputs": [],
      "source": [
        "primes.add([4,6,8]) # add() is how you update an existing set"
      ]
    },
    {
      "cell_type": "code",
      "execution_count": null,
      "metadata": {
        "id": "6p6-a5vArb-i"
      },
      "outputs": [],
      "source": [
        "print(hash(2))\n",
        "print(hash(3))\n",
        "print(hash('9'))\n",
        "print(hash((11,13,17)))\n",
        "print(hash([4,6,8]))"
      ]
    },
    {
      "cell_type": "code",
      "execution_count": null,
      "metadata": {
        "id": "QpfTTtCirb-i"
      },
      "outputs": [],
      "source": [
        "primes.add('9')\n",
        "primes.add((11,13,17))\n",
        "primes"
      ]
    },
    {
      "cell_type": "markdown",
      "metadata": {
        "id": "D-ndPzCErb-i"
      },
      "source": [
        "Again, order is not guaranteed for a set object. "
      ]
    },
    {
      "cell_type": "code",
      "execution_count": null,
      "metadata": {
        "id": "dL2f5HF5rb-i"
      },
      "outputs": [],
      "source": [
        "x=[1,-2,-6,210, 'a']\n",
        "set(x)"
      ]
    },
    {
      "cell_type": "markdown",
      "metadata": {
        "id": "PePWqGlBrb-i"
      },
      "source": [
        "Sets have mathematical operations like union (|), intersection (&), difference (-), and symmetric difference (^)."
      ]
    },
    {
      "cell_type": "code",
      "execution_count": null,
      "metadata": {
        "id": "T5cv_Mh4rb-j"
      },
      "outputs": [],
      "source": [
        "a = {'a1', 'b2', 'c3'}\n",
        "b = {'b2', 'c3', 'd4'}"
      ]
    },
    {
      "cell_type": "code",
      "execution_count": null,
      "metadata": {
        "id": "5JsnMZekrb-j"
      },
      "outputs": [],
      "source": [
        "a | b       # union"
      ]
    },
    {
      "cell_type": "code",
      "execution_count": null,
      "metadata": {
        "id": "wbACWacOrb-j"
      },
      "outputs": [],
      "source": [
        "a & b       # intersection"
      ]
    },
    {
      "cell_type": "code",
      "execution_count": null,
      "metadata": {
        "id": "XL4EO2qGrb-j"
      },
      "outputs": [],
      "source": [
        "a - b       # difference"
      ]
    },
    {
      "cell_type": "code",
      "execution_count": null,
      "metadata": {
        "id": "Kl9rSftUrb-j"
      },
      "outputs": [],
      "source": [
        "b - a"
      ]
    },
    {
      "cell_type": "code",
      "execution_count": null,
      "metadata": {
        "id": "yI0tGctcrb-j"
      },
      "outputs": [],
      "source": [
        "a ^ b       # symmetric difference (a-b | b-a)"
      ]
    },
    {
      "cell_type": "code",
      "execution_count": null,
      "metadata": {
        "id": "TRWKuFT0rb-j"
      },
      "outputs": [],
      "source": [
        "(a-b) | (b-a)"
      ]
    },
    {
      "cell_type": "code",
      "execution_count": null,
      "metadata": {
        "id": "SWWufhpLrb-j"
      },
      "outputs": [],
      "source": [
        "(a-b) & (b-a)"
      ]
    },
    {
      "cell_type": "markdown",
      "metadata": {
        "id": "ep9GQ_e_rb-j"
      },
      "source": [
        "**Dictionaries**\n",
        "\n",
        "- A dictionary is a set of key - value pairs. Each key can have just one value associated with it.  Dictionaries are mutable.\n",
        " - Any immutable object can be a key, including numbers, strings, and tuples of numbers or strings.  Strings are the most common.\n",
        " - Any object can be a value.\n",
        "\n",
        "- Dictionaries are written in curly braces (like sets), with the key - value pairs separated by colons\n"
      ]
    },
    {
      "cell_type": "code",
      "execution_count": null,
      "metadata": {
        "id": "12VHsaWFrb-j"
      },
      "outputs": [],
      "source": [
        "employee = {'education': 'graduate', 'height': 6.1, 'age': 30}\n",
        "employee"
      ]
    },
    {
      "cell_type": "markdown",
      "metadata": {
        "id": "iABwyYqkrb-j"
      },
      "source": [
        "The most important operation on dictionaries is key lookup:"
      ]
    },
    {
      "cell_type": "code",
      "execution_count": null,
      "metadata": {
        "id": "0G7Q_P2zrb-j"
      },
      "outputs": [],
      "source": [
        "employee['age'] # passing the key within [] gives the value"
      ]
    },
    {
      "cell_type": "markdown",
      "metadata": {
        "id": "S_42uWOHrb-j"
      },
      "source": [
        "We can add new key: value pairs to the dictionary:"
      ]
    },
    {
      "cell_type": "code",
      "execution_count": null,
      "metadata": {
        "id": "TbHBSUSerb-j"
      },
      "outputs": [],
      "source": [
        "employee['city'] = 'Mumbai'\n",
        "employee"
      ]
    },
    {
      "cell_type": "markdown",
      "metadata": {
        "id": "8mBujAHlrb-k"
      },
      "source": [
        "We will get an error if we try to access a key that is not present"
      ]
    },
    {
      "cell_type": "code",
      "execution_count": null,
      "metadata": {
        "id": "PUXRlqSVrb-k"
      },
      "outputs": [],
      "source": [
        "employee['weight']"
      ]
    },
    {
      "cell_type": "markdown",
      "metadata": {
        "id": "Yg5Zb17Rrb-k"
      },
      "source": [
        "We can check whether a key is present using the in operator:"
      ]
    },
    {
      "cell_type": "code",
      "execution_count": null,
      "metadata": {
        "id": "gqGJAHJ9rb-k"
      },
      "outputs": [],
      "source": [
        "'city' in employee"
      ]
    },
    {
      "cell_type": "code",
      "execution_count": null,
      "metadata": {
        "id": "C8bKFH6Trb-k"
      },
      "outputs": [],
      "source": [
        "'weight' in employee"
      ]
    },
    {
      "cell_type": "markdown",
      "metadata": {
        "id": "kjtuwdtXrb-k"
      },
      "source": [
        "The `get()` function, returns the corresponding value of the given key if it exists in the dictionary. Else it returns the value we passed to the function. But that does not change the dictionary"
      ]
    },
    {
      "cell_type": "code",
      "execution_count": null,
      "metadata": {
        "id": "PiqLJYNNrb-k"
      },
      "outputs": [],
      "source": [
        "employee.get('weight', 150) # weight is not present in the dictionary, hence it just returns the passed value 150"
      ]
    },
    {
      "cell_type": "code",
      "execution_count": null,
      "metadata": {
        "id": "zzmOq9x8rb-k"
      },
      "outputs": [],
      "source": [
        "employee # However the dictionary does not get updated with weight"
      ]
    },
    {
      "cell_type": "markdown",
      "metadata": {
        "id": "UjwucI2Wrb-k"
      },
      "source": [
        "We can also get a list of the keys, the values, or all key - value pairs:"
      ]
    },
    {
      "cell_type": "code",
      "execution_count": null,
      "metadata": {
        "id": "YYZzt17Irb-k"
      },
      "outputs": [],
      "source": [
        "employee.keys()"
      ]
    },
    {
      "cell_type": "code",
      "execution_count": null,
      "metadata": {
        "id": "8-sf1oCarb-k"
      },
      "outputs": [],
      "source": [
        "employee.values()"
      ]
    },
    {
      "cell_type": "code",
      "execution_count": null,
      "metadata": {
        "id": "uFsaKarqrb-k"
      },
      "outputs": [],
      "source": [
        "employee.items()"
      ]
    },
    {
      "cell_type": "code",
      "execution_count": null,
      "metadata": {
        "id": "OMS8OdVTrb-k"
      },
      "outputs": [],
      "source": [
        "list(employee.items()) # puts the items inside a list"
      ]
    },
    {
      "cell_type": "markdown",
      "metadata": {
        "id": "wGR8Zh-Brb-k"
      },
      "source": [
        "We can construct a dictionary from a list (or set) of tuples:"
      ]
    },
    {
      "cell_type": "code",
      "execution_count": null,
      "metadata": {
        "id": "msXUNh2yrb-l"
      },
      "outputs": [],
      "source": [
        "dict([('Batman', 123), ('Superman', 345), ('Feynman', 567)]) # Dictionary from a list of tuples"
      ]
    },
    {
      "cell_type": "code",
      "execution_count": null,
      "metadata": {
        "id": "9uxHPDSRrb-l"
      },
      "outputs": [],
      "source": [
        "dict([['Batman', 123], ['Superman', 345], ['Feynman', 567]]) # Dictionary from a list of lists"
      ]
    },
    {
      "cell_type": "markdown",
      "metadata": {
        "id": "68IsiuVZrb-l"
      },
      "source": [
        "**Exercise 2**\n",
        "\n",
        "- Create the following dictionary:\n",
        "```\n",
        "items = {'books': 20, 'fruit': ['apple', 'orange'], 'vegetable': ['potato','carrot','onion']}\n",
        "```\n",
        "- Modify items as instructed below:\n",
        " - Add a misc. inventory item containing 'bag', 'clothes', and 'cups'.\n",
        " - Sort the vegetables alphabetically\n",
        " - Add ten more books\n",
        " - Sort the dictionary alphabetically by the keys\n",
        " \n",
        "After these changes, state of items will be:\n",
        "```\n",
        "{'books': 30,\n",
        " 'fruit': ['apple', 'orange'],\n",
        " 'misc': ['bag', 'clothes', 'cups'],\n",
        " 'vegetable': ['carrot', 'onion', 'potato']}\n",
        "```"
      ]
    },
    {
      "cell_type": "code",
      "execution_count": null,
      "metadata": {
        "id": "ulfnK08Rrb-l"
      },
      "outputs": [],
      "source": [
        "#### Your code here\n",
        "\n"
      ]
    },
    {
      "cell_type": "markdown",
      "metadata": {
        "id": "zb9HZlporb-l"
      },
      "source": [
        "Check out the jupyter notebooks on Central Tendency, Dispersion, Correlation and Probability to find more examples and operations.\n",
        "\n",
        "Are you able to understand those notebooks better now? Let us discuss if there are any questions"
      ]
    },
    {
      "cell_type": "markdown",
      "metadata": {
        "id": "j0eMk9gorb-l"
      },
      "source": [
        "\n",
        "# Conditionals\n",
        "\n",
        "- We have seen boolean functions in the `filter` operator. \n",
        "- We can write conditions that return Booleans inside functions, to do different calculations depending upon properties of the input.\n",
        "\n",
        "- For example, consider the following function.  It returns the first element of a list:\n",
        "```\n",
        "￼def return_first_element(L):\n",
        "    return L[0]\n",
        "```\n",
        "- It throws an error if its argument is the empty list. \n",
        "- The function will be more robust if it checks the list first and returns **None** when passed the empty list.  "
      ]
    },
    {
      "cell_type": "code",
      "execution_count": null,
      "metadata": {
        "id": "h1V14n_Srb-l"
      },
      "outputs": [],
      "source": [
        "def return_first_element(L):\n",
        "    if L == []: # This line checks whether the list if empty. 'if L == []' returns a Boolean (either True or False)\n",
        "        return None # We reach here only if the statement 'If L == []' returns True. i.e. when the list L is empty\n",
        "    else: \n",
        "        return L[0] # We reach the statements under else when the if statement returns False, i.e. if L is not empty"
      ]
    },
    {
      "cell_type": "code",
      "execution_count": null,
      "metadata": {
        "id": "4K3V6HK2rb-l"
      },
      "outputs": [],
      "source": [
        "L1=[]\n",
        "L2=[1,2,3]\n",
        "print(return_first_element(L1)) # L1 is empty, so the if statement will be True and we will have None as the output\n",
        "print(return_first_element(L2)) # L2 is not empty, so the statement under else will get executed and we will have 1"
      ]
    },
    {
      "cell_type": "markdown",
      "metadata": {
        "id": "GJBmmCNfrb-m"
      },
      "source": [
        "- The syntax for a conditional in a function is:\n",
        "```\n",
        "if condition:                # any boolean expression\n",
        "    return expression        # return is indented from if\n",
        "else:                        # else starts in same column as if\n",
        "    return expression        # return is indented from else\n",
        "```\n",
        "- The syntax in `lambda` definitions is different:\n",
        "```\n",
        "lambda x: expression if condition else expression\n",
        "```\n",
        "\n",
        "- For example, here is `return_first_element` in lambda syntax:"
      ]
    },
    {
      "cell_type": "code",
      "execution_count": null,
      "metadata": {
        "id": "Vw8Frrucrb-m"
      },
      "outputs": [],
      "source": [
        "return_first_element_lambda = lambda L: None if L==[] else L[0]"
      ]
    },
    {
      "cell_type": "code",
      "execution_count": null,
      "metadata": {
        "id": "wf0DMaJZrb-m"
      },
      "outputs": [],
      "source": [
        "L1=[]\n",
        "L2=[1,2,3]\n",
        "print(return_first_element_lambda(L1)) # L1 is empty, so the if statement will be True and we will have None as the output\n",
        "print(return_first_element_lambda(L2)) # L2 is not empty, so the statement under else will get executed and we will have 1\n"
      ]
    },
    {
      "cell_type": "markdown",
      "metadata": {
        "id": "SSwJYm4xrb-m"
      },
      "source": [
        "Conditionals can be nested many times:\n",
        "- Return A if s1 is true, B if s1 is false but s2 is true, and C if both are false:\n",
        "```python\n",
        "if s1:\n",
        "    return A\n",
        "else:\n",
        "    if s2:\n",
        "        return B\n",
        "    else:\n",
        "        return C\n",
        "```\n",
        "- If we want an `if` to follow an `else` we can do that using `elif`:\n",
        "```python\n",
        "if s1:\n",
        "    return A\n",
        "elif s2:\n",
        "    return B\n",
        "else:\n",
        "    return C\n",
        "```\n",
        "- Return A if s1 and s2 are true, B if s1 is true but not s2, C if s1 is false but s3 is true, and D if s1 and s3 are both false:\n",
        "```python\n",
        "if s1:\n",
        "    if s2:\n",
        "        return A\n",
        "    else:\n",
        "        return B\n",
        "elif s3:\n",
        "    return C\n",
        "else:\n",
        "    return D\n",
        "```"
      ]
    },
    {
      "cell_type": "markdown",
      "metadata": {
        "id": "N0qFCGt7rb-m"
      },
      "source": [
        "**Exercise 3**\n",
        "\n",
        "Write the following functions using if conditionals:\n",
        " 1. `choose_func(response, choice1, choice2)` returns `choice1` if `response` is the string `'y'` or `'yes'`, and `choice2` otherwise.\n",
        " 2. `leap_year_check(y)` returns true if `y` is divisible by 4, except if it is divisible by 100; but it is still true if `y` is divisible by 400. Thus, 1940 is a leap year, 1900 isn’t, and 2000 is.\n",
        " 3. Use `filter` to define a function `leap_years` that selects from a list of numbers those that represent leap years."
      ]
    },
    {
      "cell_type": "code",
      "execution_count": null,
      "metadata": {
        "id": "541WLkrerb-m"
      },
      "outputs": [],
      "source": [
        "#### Your code here\n",
        "\n",
        "#1\n",
        "\n",
        "\n",
        "#2\n",
        "\n",
        "\n",
        "#3\n",
        "\n"
      ]
    },
    {
      "cell_type": "markdown",
      "metadata": {
        "id": "YTuxEG2Irb-n"
      },
      "source": [
        "\n",
        "# For loop"
      ]
    },
    {
      "cell_type": "code",
      "execution_count": null,
      "metadata": {
        "id": "Ki1gfqZHrb-n"
      },
      "outputs": [],
      "source": [
        "letters = ['a', 'b', 'c', 'd', 'e'] # defining the list\n",
        "for letter in letters: # This line says that the variable letter will go over the list one item at a time\n",
        "    print(letter) # For each value of letter, we print it"
      ]
    },
    {
      "cell_type": "code",
      "execution_count": null,
      "metadata": {
        "id": "IsoU7T3Nrb-n"
      },
      "outputs": [],
      "source": [
        "for i in \"random word\": # i will iterate over each letter in the string 'random word' including the space\n",
        "    print(i)"
      ]
    },
    {
      "cell_type": "markdown",
      "metadata": {
        "id": "pGgWKq_orb-n"
      },
      "source": [
        "Using range function to generate a list of numbers and looping through the list:"
      ]
    },
    {
      "cell_type": "code",
      "execution_count": null,
      "metadata": {
        "id": "I9s8FQDzrb-n"
      },
      "outputs": [],
      "source": [
        "for i in range(len(letters)):\n",
        "    print(i, letters[i]) # printing the number i and also the item in the list 'letters' using i as index"
      ]
    },
    {
      "cell_type": "markdown",
      "metadata": {
        "id": "JLs_kYnDrb-n"
      },
      "source": [
        "The Python function `enumerate()` returns both the index and element as a tuple from the list, simultaneously."
      ]
    },
    {
      "cell_type": "code",
      "execution_count": null,
      "metadata": {
        "id": "PZk02EGJrb-n"
      },
      "outputs": [],
      "source": [
        "letters = ['a', 'b', 'c', 'd', 'e']\n",
        "for i, e in enumerate(letters):\n",
        "    print(i, e)"
      ]
    },
    {
      "cell_type": "markdown",
      "metadata": {
        "id": "JV7RpMy-rb-n"
      },
      "source": [
        "- In addition to the iteration variable taking on values in a list, you may want other variables to take on different values in each iteration.  You can do this by “self-assigning” to those variables.  \n",
        "- The following code sums the elements of a list"
      ]
    },
    {
      "cell_type": "code",
      "execution_count": null,
      "metadata": {
        "id": "yg1V8WC6rb-n"
      },
      "outputs": [],
      "source": [
        "numbers = [21, 13, 35, 27, 311] #defining the list\n",
        "sum_numbers = 0 # initializing this to 0. We will update this as a running sum at every iteration of the loop\n",
        "for n in numbers:\n",
        "    sum_numbers = sum_numbers + n # updating the sum by adding n at every iteration\n",
        "sum_numbers # At the end, sum_numbers will have the total of the items in the list"
      ]
    },
    {
      "cell_type": "markdown",
      "metadata": {
        "id": "1dmgB7kfrb-n"
      },
      "source": [
        "# List Comprehension\n",
        "\n",
        "- List comprehensions are another notation for defining lists\n",
        "- A list comprehension has the form: \n",
        "```\n",
        "[ <expresion> for <element> in <list> if <boolean> ]\n",
        "```"
      ]
    },
    {
      "cell_type": "code",
      "execution_count": null,
      "metadata": {
        "id": "orGghm7frb-n"
      },
      "outputs": [],
      "source": [
        "# Example list comprehension that squares every element in a list, as follows:\n",
        "[ x*x for x in [1, 2, 3, 4, 5]] # works like the map function"
      ]
    },
    {
      "cell_type": "markdown",
      "metadata": {
        "id": "fFv1r0Z1rb-n"
      },
      "source": [
        "Note the above list comprehension has no `if` statement.  The following list comprehension includes an if statement.  This comprehension squares every *even* element in a list."
      ]
    },
    {
      "cell_type": "code",
      "execution_count": null,
      "metadata": {
        "id": "4itwkDoUrb-n"
      },
      "outputs": [],
      "source": [
        "[ x*x for x in [1, 2, 3, 4, 5] if x%2==0] # works like map and filter"
      ]
    },
    {
      "cell_type": "markdown",
      "metadata": {
        "id": "2bA5vs9mrb-o"
      },
      "source": [
        "- A list comprehension can also use if-else statements\n",
        "\n",
        "- Writing list comprehension with if-else statements has the form: \n",
        "```\n",
        "[ <expr1> if <boolean> else <expr2> for <element> in <list> ]\n",
        "```"
      ]
    },
    {
      "cell_type": "code",
      "execution_count": null,
      "metadata": {
        "id": "JjKdamCurb-o"
      },
      "outputs": [],
      "source": [
        "# Example list comprehension that squares even elements in a list and adds two to every odd element\n",
        "[x*x if x%2==0 else x+2 for x in [1, 2, 3, 4, 5]]"
      ]
    },
    {
      "cell_type": "markdown",
      "metadata": {
        "id": "NkBLFguDrb-o"
      },
      "source": [
        "We can think about list comprehensions like a for loop. \n",
        "\n",
        "```python\n",
        "for item in list:\n",
        "    if conditional:\n",
        "        expression\n",
        "```"
      ]
    },
    {
      "cell_type": "markdown",
      "metadata": {
        "id": "BS5VrwMOrb-o"
      },
      "source": [
        "**Exercise 4**\n",
        "\n",
        "Write list comprehensions to create the following lists:\n",
        " - The square roots of the numbers in `[100, 64, 49, 16]`\n",
        " - The even numbers in a numeric list `L`\n",
        " **Hint** (`n` is even if and only if `n % 2 == 0`.)"
      ]
    },
    {
      "cell_type": "code",
      "execution_count": null,
      "metadata": {
        "id": "1i3QMwydrb-o"
      },
      "outputs": [],
      "source": [
        "#### Your code here\n",
        "\n",
        "#1\n",
        "\n",
        "\n",
        "#2\n"
      ]
    },
    {
      "cell_type": "markdown",
      "metadata": {
        "id": "zuhBGtuIrb-o"
      },
      "source": [
        "# While Loop\n",
        "\n",
        "- While loops are used when the condition for terminating the loop is known, but the number of iterations are not necessarily known.  Examples include:\n",
        " - Summing the elements of a list up to the first zero.\n",
        " - Getting input from a user until the user enters ‘quit’.\n",
        " \n",
        "- When using a while loop, iteration continues until a given condition becomes false:\n",
        "```\n",
        "while <condition>:\n",
        "   statements\n",
        "```"
      ]
    },
    {
      "cell_type": "code",
      "execution_count": null,
      "metadata": {
        "id": "ZcEowhN2rb-o"
      },
      "outputs": [],
      "source": [
        "i = 0 # setting the initial value of i as 0\n",
        "while i < 10:\n",
        "    print(i)\n",
        "    i = i + 1 # incrementing i by 1 at every iteration. The while statement will compare this value next"
      ]
    },
    {
      "cell_type": "markdown",
      "metadata": {
        "id": "tGtBUbMgrb-o"
      },
      "source": [
        "This for loop does the same thing:"
      ]
    },
    {
      "cell_type": "code",
      "execution_count": null,
      "metadata": {
        "id": "wIFC4y-rrb-o"
      },
      "outputs": [],
      "source": [
        "for i in range(0, 10):\n",
        "    print(i)"
      ]
    },
    {
      "cell_type": "markdown",
      "metadata": {
        "id": "5e5zlzLyrb-o"
      },
      "source": [
        "- One thing we can do with while loops that is hard to do with for loops is to terminate early.  \n",
        "- This loops adds up integers starting from 1 until the sum exceeds n:"
      ]
    },
    {
      "cell_type": "code",
      "execution_count": null,
      "metadata": {
        "id": "5p7hhZ3mrb-o"
      },
      "outputs": [],
      "source": [
        "n = 10\n",
        "i = 1\n",
        "sum_numbers = 0\n",
        "while sum_numbers <= n:\n",
        "    sum_numbers = sum_numbers + i\n",
        "    i = i + 1\n",
        "    print(sum_numbers)\n",
        "sum_numbers # final value at the end of the loop"
      ]
    },
    {
      "cell_type": "markdown",
      "metadata": {
        "id": "1zyj1Wqmrb-o"
      },
      "source": [
        "This loop is similar, but sums the numbers in a list."
      ]
    },
    {
      "cell_type": "code",
      "execution_count": null,
      "metadata": {
        "id": "d5ozdxhfrb-p"
      },
      "outputs": [],
      "source": [
        "L = [5, 10, 15, 20, 25]\n",
        "\n",
        "n = 20\n",
        "i = 0\n",
        "sum_numbers = 0\n",
        "while sum_numbers <= n:\n",
        "    sum_numbers = sum_numbers + L[i]\n",
        "    i = i + 1\n",
        "    print(sum_numbers)\n",
        "sum_numbers"
      ]
    },
    {
      "cell_type": "markdown",
      "metadata": {
        "id": "f_Pm3hOnrb-p"
      },
      "source": [
        "When iterating over a list like this, care must be taken not to go out of bounds. Without doing so, we might end up with the following:"
      ]
    },
    {
      "cell_type": "code",
      "execution_count": null,
      "metadata": {
        "id": "44JUP36urb-p"
      },
      "outputs": [],
      "source": [
        "n = 100\n",
        "i = 0\n",
        "sum_numbers = 0\n",
        "while sum_numbers <= n:\n",
        "    sum_numbers = sum_numbers + L[i]\n",
        "    i = i + 1\n",
        "sum_numbers"
      ]
    },
    {
      "cell_type": "markdown",
      "metadata": {
        "id": "hRyP3msnrb-p"
      },
      "source": [
        "This problem can be fixed by modifying the while statement to add another check"
      ]
    },
    {
      "cell_type": "code",
      "execution_count": null,
      "metadata": {
        "id": "aWlTDMd9rb-p"
      },
      "outputs": [],
      "source": [
        "n = 100\n",
        "i = 0\n",
        "sum_numbers = 0\n",
        "while sum_numbers <= n and i < len(L):\n",
        "    sum_numbers = sum_numbers + L[i]\n",
        "    i = i + 1\n",
        "    \n",
        "sum_numbers"
      ]
    },
    {
      "cell_type": "markdown",
      "metadata": {
        "id": "KSQjJig9rb-p"
      },
      "source": [
        "**Break** and **Continue** Statements\n",
        "\n",
        "- The **break** statement immediately terminates the (for or while) loop it is in.  This provides a way to terminate the loop within the middle of the body \n",
        "\n",
        "- The **continue** statement terminates the current iteration of the loop and goes back to the header"
      ]
    },
    {
      "cell_type": "code",
      "execution_count": null,
      "metadata": {
        "id": "VlF7aek0rb-p"
      },
      "outputs": [],
      "source": [
        "# The loop below adds the values in a list ignoring negative numbers. It stops if the sum exceeds 100:\n",
        "\n",
        "L = [10, -10, -20, 20, -30, 30, 40, -40, 50, -50, 60, -60]\n",
        "\n",
        "sum_numbers = 0\n",
        "for item in L:\n",
        "    if item < 0:\n",
        "        continue\n",
        "    sum_numbers = sum_numbers + item\n",
        "    if sum_numbers > 100:\n",
        "        break  \n",
        "sum_numbers"
      ]
    },
    {
      "cell_type": "markdown",
      "metadata": {
        "id": "hQVMY-Tjrb-p"
      },
      "source": [
        "**Exercise 5**\n",
        "\n",
        "Calculate the sum of integers that are divisible by 7 and are less than 100. In the following example code, we use while True, which means the while loop will keep running until you break it.\n",
        "\n",
        "```\n",
        "i = 0\n",
        "sum_numbers = 0\n",
        "while True:\n",
        "\n",
        "\t# Type your code here\n",
        "\n",
        "print(sum_numbers)\n",
        "```\n"
      ]
    },
    {
      "cell_type": "code",
      "execution_count": null,
      "metadata": {
        "id": "Y38MFkGArb-p"
      },
      "outputs": [],
      "source": [
        "i = 0\n",
        "sum_ = 0\n",
        "while True:\n",
        "    # Type your code here\n",
        "    break\n",
        "print(sum_)"
      ]
    },
    {
      "cell_type": "markdown",
      "metadata": {
        "collapsed": true,
        "id": "oVj8O_Rirb-p"
      },
      "source": [
        "\n",
        "# Solutions"
      ]
    },
    {
      "cell_type": "markdown",
      "metadata": {
        "id": "zgcN3HXZrb-p"
      },
      "source": [
        "**Exercise 1**"
      ]
    },
    {
      "cell_type": "code",
      "execution_count": null,
      "metadata": {
        "id": "sjPCNipCrb-q"
      },
      "outputs": [],
      "source": [
        "def switch_item(L, i, j):\n",
        "    temp = L[i]\n",
        "    L[i] = L[j]\n",
        "    L[j] = temp"
      ]
    },
    {
      "cell_type": "markdown",
      "metadata": {
        "id": "BaKJa4qrrb-q"
      },
      "source": [
        "**Exercise 2**"
      ]
    },
    {
      "cell_type": "code",
      "execution_count": null,
      "metadata": {
        "id": "qRr-hKFprb-q",
        "outputId": "170ec845-c559-4507-8393-61b84368c0e7",
        "colab": {
          "base_uri": "https://localhost:8080/"
        }
      },
      "outputs": [
        {
          "output_type": "execute_result",
          "data": {
            "text/plain": [
              "{'books': 30,\n",
              " 'fruit': ['apple', 'orange'],\n",
              " 'misc': ['bag', 'clothes', 'cups'],\n",
              " 'vegetable': ['carrot', 'onion', 'potato']}"
            ]
          },
          "metadata": {},
          "execution_count": 2
        }
      ],
      "source": [
        "items = {'books': 20, 'fruit': ['apple', 'orange'], 'vegetable': ['potato','carrot','onion']}\n",
        "items['misc'] = ['bag','clothes','cups']\n",
        "items['vegetable'] = sorted(items['vegetable'])\n",
        "items['books'] = items['books'] + 10\n",
        "items = {k:v for k,v in sorted(items.items())}\n",
        "items"
      ]
    },
    {
      "cell_type": "markdown",
      "metadata": {
        "collapsed": true,
        "id": "LWxcPu2lrb-q"
      },
      "source": [
        "**Exercise 3**"
      ]
    },
    {
      "cell_type": "code",
      "execution_count": null,
      "metadata": {
        "id": "_opetJq4rb-q"
      },
      "outputs": [],
      "source": [
        "#1\n",
        "def choose_func(response, choice1, choice2):\n",
        "    if response == 'y' or response == 'yes':\n",
        "        return choice1\n",
        "    else:\n",
        "        return choice2\n",
        "\n",
        "#2\n",
        "def leap_year_check(y):\n",
        "    return y % 400 == 0 or (y % 4 ==0 and y % 100 != 0)\n",
        "\n",
        "#3\n",
        "leap_years = lambda L:  filter(leap_year, L)"
      ]
    },
    {
      "cell_type": "markdown",
      "metadata": {
        "id": "wRZVMeAWrb-q"
      },
      "source": [
        "**Exercise 4**"
      ]
    },
    {
      "cell_type": "code",
      "execution_count": null,
      "metadata": {
        "id": "MLjsZHKCrb-q",
        "outputId": "db9f12b6-0918-42b2-a888-9faeb945ff01",
        "colab": {
          "base_uri": "https://localhost:8080/",
          "height": 204
        }
      },
      "outputs": [
        {
          "output_type": "error",
          "ename": "NameError",
          "evalue": "ignored",
          "traceback": [
            "\u001b[0;31m---------------------------------------------------------------------------\u001b[0m",
            "\u001b[0;31mNameError\u001b[0m                                 Traceback (most recent call last)",
            "\u001b[0;32m<ipython-input-4-271820acd293>\u001b[0m in \u001b[0;36m<module>\u001b[0;34m()\u001b[0m\n\u001b[1;32m      4\u001b[0m \u001b[0;34m\u001b[0m\u001b[0m\n\u001b[1;32m      5\u001b[0m \u001b[0;31m#2\u001b[0m\u001b[0;34m\u001b[0m\u001b[0;34m\u001b[0m\u001b[0;34m\u001b[0m\u001b[0m\n\u001b[0;32m----> 6\u001b[0;31m \u001b[0;34m[\u001b[0m\u001b[0mx\u001b[0m \u001b[0;32mfor\u001b[0m \u001b[0mx\u001b[0m \u001b[0;32min\u001b[0m \u001b[0mL\u001b[0m \u001b[0;32mif\u001b[0m \u001b[0mx\u001b[0m \u001b[0;34m%\u001b[0m \u001b[0;36m2\u001b[0m \u001b[0;34m==\u001b[0m \u001b[0;36m0\u001b[0m\u001b[0;34m]\u001b[0m\u001b[0;34m\u001b[0m\u001b[0;34m\u001b[0m\u001b[0m\n\u001b[0m",
            "\u001b[0;31mNameError\u001b[0m: name 'L' is not defined"
          ]
        }
      ],
      "source": [
        "#1\n",
        "import math\n",
        "[math.sqrt(x) for x in [1, 4, 9, 16]]\n",
        "\n",
        "#2\n",
        "[x for x in L if x % 2 == 0]"
      ]
    },
    {
      "cell_type": "markdown",
      "metadata": {
        "id": "Ybe-3VG1rb-q"
      },
      "source": [
        "**Exercise 5**"
      ]
    },
    {
      "cell_type": "code",
      "execution_count": null,
      "metadata": {
        "id": "QsyABttvrb-q"
      },
      "outputs": [],
      "source": [
        "i = 0\n",
        "sum_numbers = 0\n",
        "while True:\n",
        "    if i > 100:\n",
        "        break\n",
        "    if i % 7 == 0:\n",
        "        sum_numbers += i\n",
        "    i += 1\n",
        "\n",
        "print(sum_numbers)"
      ]
    },
    {
      "cell_type": "code",
      "execution_count": null,
      "metadata": {
        "id": "d4rQLsd2rb-q"
      },
      "outputs": [],
      "source": [
        ""
      ]
    }
  ],
  "metadata": {
    "anaconda-cloud": {},
    "kernelspec": {
      "display_name": "Python 3 (ipykernel)",
      "language": "python",
      "name": "python3"
    },
    "language_info": {
      "codemirror_mode": {
        "name": "ipython",
        "version": 3
      },
      "file_extension": ".py",
      "mimetype": "text/x-python",
      "name": "python",
      "nbconvert_exporter": "python",
      "pygments_lexer": "ipython3",
      "version": "3.9.7"
    },
    "colab": {
      "name": "Data_Structures_Conditionals_Loops_2.ipynb",
      "provenance": [],
      "include_colab_link": true
    }
  },
  "nbformat": 4,
  "nbformat_minor": 0
}