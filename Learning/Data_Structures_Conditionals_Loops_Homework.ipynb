{
  "cells": [
    {
      "cell_type": "markdown",
      "metadata": {
        "id": "view-in-github",
        "colab_type": "text"
      },
      "source": [
        "<a href=\"https://colab.research.google.com/github/girishkhule/Python/blob/main/Learning/Data_Structures_Conditionals_Loops_Homework.ipynb\" target=\"_parent\"><img src=\"https://colab.research.google.com/assets/colab-badge.svg\" alt=\"Open In Colab\"/></a>"
      ]
    },
    {
      "cell_type": "markdown",
      "metadata": {
        "id": "9Gmhv8nNrxci"
      },
      "source": [
        "# Homework"
      ]
    },
    {
      "cell_type": "markdown",
      "metadata": {
        "id": "ewMnWPFirxck"
      },
      "source": [
        "### Problem 1\n",
        "Given the following dictionary:\n",
        "\n",
        "`\n",
        "certainties = {'batsmen' :['Rharma', 'Vohli'],\n",
        "               'bowlers' :['Jumrah', 'Yhahal'],\n",
        "               'allrounders' :['Radeja', 'Handya']} \n",
        "`\n",
        "- Get the keys and values of the dictionary.\n",
        "- Add \"wicketkeepers\" containing ‘Rant', ‘Darthik’.\n",
        "- Convert all the names belonging to bowlers to upper cases."
      ]
    },
    {
      "cell_type": "code",
      "execution_count": null,
      "metadata": {
        "id": "bkQXgyzgrxcm"
      },
      "outputs": [],
      "source": [
        "certainties = {'batsmen' :['Rharma', 'Vohli'],\n",
        "               'bowlers' :['Jumrah', 'Yhahal'],\n",
        "               'allrounders' :['Radeja', 'Handya']}\n",
        "\n",
        "# Your code here\n"
      ]
    },
    {
      "cell_type": "markdown",
      "metadata": {
        "id": "gzDFoOx-rxco"
      },
      "source": [
        "### Problem 2\n",
        "Given an int count of the number of laddus, return a string of the form 'Laddu calorie count: **calorie_count**', where **calorie_count** is the total number of calories (each laddu has 200 calories). However, if the count is 10 or more, then use the word 'Too many' instead of the actual count. \n",
        "\n",
        "So **solution_3(5)** returns 'Laddu calorie count: 1000' and **solution_3(23)** returns 'Laddu calorie count: Too many'"
      ]
    },
    {
      "cell_type": "code",
      "execution_count": null,
      "metadata": {
        "id": "-SavI8pErxcp"
      },
      "outputs": [],
      "source": [
        "# Your code here\n"
      ]
    },
    {
      "cell_type": "markdown",
      "metadata": {
        "id": "mkL431jtrxcq"
      },
      "source": [
        "### Problem 3\n",
        "Use the list comprehension to sum up the numbers divisible by 3 or 5 from 1 to 10000"
      ]
    },
    {
      "cell_type": "code",
      "execution_count": null,
      "metadata": {
        "id": "50F-w5sLrxcr"
      },
      "outputs": [],
      "source": [
        "# Your code here\n"
      ]
    },
    {
      "cell_type": "markdown",
      "metadata": {
        "id": "7Bx2CVjYrxcr"
      },
      "source": [
        "#### Follow-up question: Consider the list above, use list comprehension to assign 'a' to the numbers greater than 5000; 'b' to the numbers less or equal to 5000"
      ]
    },
    {
      "cell_type": "code",
      "execution_count": null,
      "metadata": {
        "id": "CmZzYf8nrxcs"
      },
      "outputs": [],
      "source": [
        "# Your code here\n"
      ]
    },
    {
      "cell_type": "markdown",
      "metadata": {
        "id": "Ai1EA_9mrxct"
      },
      "source": [
        "#### Follow-up question: Consider the list above, use list comprehension to assign 'a' to the numbers greater than 5000; 'b' to the numbers less or equal to 5000 and greater than 3000; 'c' to everything else."
      ]
    },
    {
      "cell_type": "code",
      "execution_count": null,
      "metadata": {
        "id": "kA1A1TaJrxcu"
      },
      "outputs": [],
      "source": [
        "# Your code here\n"
      ]
    },
    {
      "cell_type": "markdown",
      "metadata": {
        "internals": {
          "slide_type": "subslide"
        },
        "id": "qUKVT1Tvrxcu"
      },
      "source": [
        "### Problem 4\n",
        "Write a function **count_letters** to count the frequency of occurrence of each letter in an input string. Your function should return only the frequencies of letters that occur in the form of a dictionary and should be case **insensitive**.\n",
        "\n",
        "Hint: [chr(c) for c in range(97, 123)] is a faster way to get the alphabets"
      ]
    },
    {
      "cell_type": "code",
      "execution_count": null,
      "metadata": {
        "internals": {},
        "id": "gXgBnprgrxcv"
      },
      "outputs": [],
      "source": [
        "def count_letters(input_string):\n",
        "    '''\n",
        "    input_string: a string\n",
        "    \n",
        "    returns: a key sorted dictionary containing each letter in the input string and it's corresponding frequency\n",
        "    '''\n",
        "    # Your code here\n",
        "    "
      ]
    },
    {
      "cell_type": "markdown",
      "metadata": {
        "internals": {},
        "id": "9dCvwCKkrxcv"
      },
      "source": [
        "Here are some examples. Your function should return exactly the same result."
      ]
    },
    {
      "cell_type": "code",
      "execution_count": null,
      "metadata": {
        "internals": {},
        "id": "DPr_4Moorxcw"
      },
      "outputs": [],
      "source": [
        "countLetter('') # {}"
      ]
    },
    {
      "cell_type": "code",
      "execution_count": null,
      "metadata": {
        "internals": {},
        "id": "m-AS4dbzrxcw"
      },
      "outputs": [],
      "source": [
        "countLetter('ABCabc') # {'a': 2, 'b': 2, 'c': 2}"
      ]
    },
    {
      "cell_type": "markdown",
      "metadata": {
        "internals": {
          "slide_type": "subslide"
        },
        "id": "lY1vAOaLrxcw"
      },
      "source": [
        "### Problem 5\n",
        "The **bisection method** in mathematics is a root-finding method that repeatedly bisects an interval and then selects a subinterval in which a root must lie for further processing.\n",
        "\n",
        "Given a continuous function *f* and an interval $[a, b]$, which satisfies that the values of $f(a)$ and $f(b)$ are opposite, say $f(a)*f(b) < 0$(there is at least one zero crossing within the interval).\n",
        "\n",
        "- Calculate $c$, the midpoint of the interval, $c = 0.5 * (a + b)$.\n",
        "- Calculate the function value at the midpoint, $f(c)$.\n",
        "- If convergence is satisfactory (that is, $f(c)$ is sufficiently small), return $c$ and stop iterating."
      ]
    },
    {
      "cell_type": "code",
      "execution_count": null,
      "metadata": {
        "internals": {},
        "id": "0NK3H6xYrxcx",
        "outputId": "050567b6-09bb-480e-ecbd-b934c1e743e1"
      },
      "outputs": [
        {
          "data": {
            "text/html": [
              "<img src=\"http://upload.wikimedia.org/wikipedia/commons/thumb/8/8c/Bisection_method.svg/640px-Bisection_method.svg.png\"/>"
            ],
            "text/plain": [
              "<IPython.core.display.Image object>"
            ]
          },
          "execution_count": 2,
          "metadata": {},
          "output_type": "execute_result"
        }
      ],
      "source": [
        "from IPython.display import Image\n",
        "Image(url='http://upload.wikimedia.org/wikipedia/commons/thumb/8/8c/Bisection_method.svg/640px-Bisection_method.svg.png')"
      ]
    },
    {
      "cell_type": "markdown",
      "metadata": {
        "internals": {},
        "id": "mVo48Ntmrxcy"
      },
      "source": [
        "Write a function **binarySearchIter(fun, start, end,  eps)** to implement this idea, find the root of function *fun* in the interval $[start, end]$. Repeat the iteration until the absolute value of *fun(c)* is smaller than *eps*, and *eps* is a very small number, $10^{-10}$ for example. If $fun(start)*fun(end) \\ge 0$, raise an error with message <p style=\"color: red\">The sign of fun(start) and fun(end) should be opposite!</p>"
      ]
    },
    {
      "cell_type": "code",
      "execution_count": null,
      "metadata": {
        "internals": {},
        "id": "e72fCpZerxcz"
      },
      "outputs": [],
      "source": [
        "def binarySearchIter(fun, start, end,  eps=1e-10):\n",
        "    '''\n",
        "    fun: funtion to find the root\n",
        "    start, end: start and end of the interval\n",
        "    eps: machine-precision, should be a very small number like 1e-10\n",
        "    \n",
        "    return the root of fun between the interval [start, end]\n",
        "    '''\n",
        "    # Your code here\n"
      ]
    },
    {
      "cell_type": "markdown",
      "metadata": {
        "internals": {},
        "id": "G7StFJe1rxcz"
      },
      "source": [
        "Here are three examples. Your function should return almost the same result."
      ]
    },
    {
      "cell_type": "code",
      "execution_count": null,
      "metadata": {
        "internals": {},
        "id": "HRteGMI-rxcz"
      },
      "outputs": [],
      "source": [
        "def f(x):\n",
        "    return x ** 2 - 2\n",
        "binarySearchIter(f, -3, 0, eps = 1e-10) # -1.4142135623842478"
      ]
    },
    {
      "cell_type": "code",
      "execution_count": null,
      "metadata": {
        "internals": {},
        "id": "Pj7L3u5Trxc0"
      },
      "outputs": [],
      "source": [
        "binarySearchIter(f, 0, 3, eps = 1e-10) # 1.4142135623842478"
      ]
    },
    {
      "cell_type": "code",
      "execution_count": null,
      "metadata": {
        "internals": {},
        "id": "4tqHBcatrxc0"
      },
      "outputs": [],
      "source": [
        "binarySearchIter(lambda x: x ** 3 - 27, 0, 5, eps = 1e-10) # 3.000000000001819"
      ]
    },
    {
      "cell_type": "code",
      "execution_count": null,
      "metadata": {
        "internals": {},
        "id": "pYWZYj65rxc0"
      },
      "outputs": [],
      "source": [
        "binarySearchIter(lambda x: x ** 3 + 27, -5, 0, eps = 1e-10) # -3.000000000001819"
      ]
    },
    {
      "cell_type": "code",
      "execution_count": null,
      "metadata": {
        "internals": {
          "slide_helper": "subslide_end"
        },
        "slide_helper": "subslide_end",
        "id": "_PpgRIZQrxc0"
      },
      "outputs": [],
      "source": [
        "binarySearchIter(lambda x: x ** 3 + 27, 0, 5, eps = 1e-10) \n",
        "# ValueError: The sign of fun(start) and fun(end) should be opposite!"
      ]
    },
    {
      "cell_type": "code",
      "execution_count": null,
      "metadata": {
        "collapsed": true,
        "id": "lC8pOWlhrxc1"
      },
      "outputs": [],
      "source": [
        ""
      ]
    }
  ],
  "metadata": {
    "kernelspec": {
      "display_name": "Python 3 (ipykernel)",
      "language": "python",
      "name": "python3"
    },
    "language_info": {
      "codemirror_mode": {
        "name": "ipython",
        "version": 3
      },
      "file_extension": ".py",
      "mimetype": "text/x-python",
      "name": "python",
      "nbconvert_exporter": "python",
      "pygments_lexer": "ipython3",
      "version": "3.9.7"
    },
    "colab": {
      "name": "Data_Structures_Conditionals_Loops_Homework.ipynb",
      "provenance": [],
      "include_colab_link": true
    }
  },
  "nbformat": 4,
  "nbformat_minor": 0
}